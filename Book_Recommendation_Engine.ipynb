{
 "cells": [
  {
   "cell_type": "markdown",
   "metadata": {},
   "source": [
    "# Book Recommendation System"
   ]
  },
  {
   "cell_type": "code",
   "execution_count": 59,
   "metadata": {},
   "outputs": [],
   "source": [
    "import string\n",
    "import re\n",
    "import pandas as pd\n",
    "import numpy as np\n",
    "import seaborn as sns\n",
    "import matplotlib.pyplot as plt\n",
    "from wordcloud import WordCloud\n",
    "from sklearn.preprocessing import MinMaxScaler\n",
    "from sklearn.feature_extraction.text import TfidfVectorizer\n",
    "from sklearn.metrics.pairwise import cosine_similarity\n",
    "\n",
    "import warnings\n",
    "warnings.filterwarnings('ignore')"
   ]
  },
  {
   "cell_type": "markdown",
   "metadata": {},
   "source": [
    "# EDA"
   ]
  },
  {
   "cell_type": "code",
   "execution_count": 60,
   "metadata": {},
   "outputs": [],
   "source": [
    "books = pd.read_csv(\"Books.csv\")\n",
    "ratings = pd.read_csv(\"Ratings.csv\")\n",
    "users = pd.read_csv(\"Users.csv\")"
   ]
  },
  {
   "cell_type": "code",
   "execution_count": 61,
   "metadata": {},
   "outputs": [
    {
     "data": {
      "text/plain": [
       "ISBN                   0\n",
       "Book-Title             0\n",
       "Book-Author            2\n",
       "Year-Of-Publication    0\n",
       "Publisher              2\n",
       "Image-URL-S            0\n",
       "Image-URL-M            0\n",
       "Image-URL-L            3\n",
       "dtype: int64"
      ]
     },
     "execution_count": 61,
     "metadata": {},
     "output_type": "execute_result"
    }
   ],
   "source": [
    "books.isnull().sum()"
   ]
  },
  {
   "cell_type": "code",
   "execution_count": 62,
   "metadata": {},
   "outputs": [
    {
     "data": {
      "text/plain": [
       "(271360, 8)"
      ]
     },
     "execution_count": 62,
     "metadata": {},
     "output_type": "execute_result"
    }
   ],
   "source": [
    "books.shape"
   ]
  },
  {
   "cell_type": "code",
   "execution_count": 63,
   "metadata": {},
   "outputs": [
    {
     "data": {
      "text/plain": [
       "(1149780, 3)"
      ]
     },
     "execution_count": 63,
     "metadata": {},
     "output_type": "execute_result"
    }
   ],
   "source": [
    "ratings.shape"
   ]
  },
  {
   "cell_type": "code",
   "execution_count": 64,
   "metadata": {},
   "outputs": [
    {
     "data": {
      "text/html": [
       "<div>\n",
       "<style scoped>\n",
       "    .dataframe tbody tr th:only-of-type {\n",
       "        vertical-align: middle;\n",
       "    }\n",
       "\n",
       "    .dataframe tbody tr th {\n",
       "        vertical-align: top;\n",
       "    }\n",
       "\n",
       "    .dataframe thead th {\n",
       "        text-align: right;\n",
       "    }\n",
       "</style>\n",
       "<table border=\"1\" class=\"dataframe\">\n",
       "  <thead>\n",
       "    <tr style=\"text-align: right;\">\n",
       "      <th></th>\n",
       "      <th>ISBN</th>\n",
       "    </tr>\n",
       "    <tr>\n",
       "      <th>Book-Title</th>\n",
       "      <th></th>\n",
       "    </tr>\n",
       "  </thead>\n",
       "  <tbody>\n",
       "    <tr>\n",
       "      <th>Selected Poems</th>\n",
       "      <td>27</td>\n",
       "    </tr>\n",
       "    <tr>\n",
       "      <th>Little Women</th>\n",
       "      <td>24</td>\n",
       "    </tr>\n",
       "    <tr>\n",
       "      <th>Wuthering Heights</th>\n",
       "      <td>21</td>\n",
       "    </tr>\n",
       "    <tr>\n",
       "      <th>Dracula</th>\n",
       "      <td>20</td>\n",
       "    </tr>\n",
       "    <tr>\n",
       "      <th>Adventures of Huckleberry Finn</th>\n",
       "      <td>20</td>\n",
       "    </tr>\n",
       "    <tr>\n",
       "      <th>The Secret Garden</th>\n",
       "      <td>20</td>\n",
       "    </tr>\n",
       "    <tr>\n",
       "      <th>Jane Eyre</th>\n",
       "      <td>19</td>\n",
       "    </tr>\n",
       "    <tr>\n",
       "      <th>The Night Before Christmas</th>\n",
       "      <td>18</td>\n",
       "    </tr>\n",
       "    <tr>\n",
       "      <th>Pride and Prejudice</th>\n",
       "      <td>18</td>\n",
       "    </tr>\n",
       "    <tr>\n",
       "      <th>Great Expectations</th>\n",
       "      <td>17</td>\n",
       "    </tr>\n",
       "  </tbody>\n",
       "</table>\n",
       "</div>"
      ],
      "text/plain": [
       "                                ISBN\n",
       "Book-Title                          \n",
       "Selected Poems                    27\n",
       "Little Women                      24\n",
       "Wuthering Heights                 21\n",
       "Dracula                           20\n",
       "Adventures of Huckleberry Finn    20\n",
       "The Secret Garden                 20\n",
       "Jane Eyre                         19\n",
       "The Night Before Christmas        18\n",
       "Pride and Prejudice               18\n",
       "Great Expectations                17"
      ]
     },
     "execution_count": 64,
     "metadata": {},
     "output_type": "execute_result"
    }
   ],
   "source": [
    "books.groupby(\"Book-Title\").agg({\"ISBN\":\"count\"}).sort_values(\"ISBN\",ascending=False).head(10)"
   ]
  },
  {
   "cell_type": "code",
   "execution_count": 65,
   "metadata": {},
   "outputs": [
    {
     "data": {
      "text/html": [
       "<div>\n",
       "<style scoped>\n",
       "    .dataframe tbody tr th:only-of-type {\n",
       "        vertical-align: middle;\n",
       "    }\n",
       "\n",
       "    .dataframe tbody tr th {\n",
       "        vertical-align: top;\n",
       "    }\n",
       "\n",
       "    .dataframe thead th {\n",
       "        text-align: right;\n",
       "    }\n",
       "</style>\n",
       "<table border=\"1\" class=\"dataframe\">\n",
       "  <thead>\n",
       "    <tr style=\"text-align: right;\">\n",
       "      <th></th>\n",
       "      <th>ISBN</th>\n",
       "      <th>Book-Title</th>\n",
       "      <th>Book-Author</th>\n",
       "      <th>Year-Of-Publication</th>\n",
       "      <th>Publisher</th>\n",
       "      <th>Image-URL-S</th>\n",
       "      <th>Image-URL-M</th>\n",
       "      <th>Image-URL-L</th>\n",
       "      <th>User-ID</th>\n",
       "      <th>Book-Rating</th>\n",
       "    </tr>\n",
       "  </thead>\n",
       "  <tbody>\n",
       "    <tr>\n",
       "      <th>0</th>\n",
       "      <td>0195153448</td>\n",
       "      <td>Classical Mythology</td>\n",
       "      <td>Mark P. O. Morford</td>\n",
       "      <td>2002</td>\n",
       "      <td>Oxford University Press</td>\n",
       "      <td>http://images.amazon.com/images/P/0195153448.0...</td>\n",
       "      <td>http://images.amazon.com/images/P/0195153448.0...</td>\n",
       "      <td>http://images.amazon.com/images/P/0195153448.0...</td>\n",
       "      <td>2.0</td>\n",
       "      <td>0.0</td>\n",
       "    </tr>\n",
       "    <tr>\n",
       "      <th>1</th>\n",
       "      <td>0002005018</td>\n",
       "      <td>Clara Callan</td>\n",
       "      <td>Richard Bruce Wright</td>\n",
       "      <td>2001</td>\n",
       "      <td>HarperFlamingo Canada</td>\n",
       "      <td>http://images.amazon.com/images/P/0002005018.0...</td>\n",
       "      <td>http://images.amazon.com/images/P/0002005018.0...</td>\n",
       "      <td>http://images.amazon.com/images/P/0002005018.0...</td>\n",
       "      <td>8.0</td>\n",
       "      <td>5.0</td>\n",
       "    </tr>\n",
       "    <tr>\n",
       "      <th>2</th>\n",
       "      <td>0002005018</td>\n",
       "      <td>Clara Callan</td>\n",
       "      <td>Richard Bruce Wright</td>\n",
       "      <td>2001</td>\n",
       "      <td>HarperFlamingo Canada</td>\n",
       "      <td>http://images.amazon.com/images/P/0002005018.0...</td>\n",
       "      <td>http://images.amazon.com/images/P/0002005018.0...</td>\n",
       "      <td>http://images.amazon.com/images/P/0002005018.0...</td>\n",
       "      <td>11400.0</td>\n",
       "      <td>0.0</td>\n",
       "    </tr>\n",
       "    <tr>\n",
       "      <th>3</th>\n",
       "      <td>0002005018</td>\n",
       "      <td>Clara Callan</td>\n",
       "      <td>Richard Bruce Wright</td>\n",
       "      <td>2001</td>\n",
       "      <td>HarperFlamingo Canada</td>\n",
       "      <td>http://images.amazon.com/images/P/0002005018.0...</td>\n",
       "      <td>http://images.amazon.com/images/P/0002005018.0...</td>\n",
       "      <td>http://images.amazon.com/images/P/0002005018.0...</td>\n",
       "      <td>11676.0</td>\n",
       "      <td>8.0</td>\n",
       "    </tr>\n",
       "    <tr>\n",
       "      <th>4</th>\n",
       "      <td>0002005018</td>\n",
       "      <td>Clara Callan</td>\n",
       "      <td>Richard Bruce Wright</td>\n",
       "      <td>2001</td>\n",
       "      <td>HarperFlamingo Canada</td>\n",
       "      <td>http://images.amazon.com/images/P/0002005018.0...</td>\n",
       "      <td>http://images.amazon.com/images/P/0002005018.0...</td>\n",
       "      <td>http://images.amazon.com/images/P/0002005018.0...</td>\n",
       "      <td>41385.0</td>\n",
       "      <td>0.0</td>\n",
       "    </tr>\n",
       "  </tbody>\n",
       "</table>\n",
       "</div>"
      ],
      "text/plain": [
       "         ISBN           Book-Title           Book-Author Year-Of-Publication  \\\n",
       "0  0195153448  Classical Mythology    Mark P. O. Morford                2002   \n",
       "1  0002005018         Clara Callan  Richard Bruce Wright                2001   \n",
       "2  0002005018         Clara Callan  Richard Bruce Wright                2001   \n",
       "3  0002005018         Clara Callan  Richard Bruce Wright                2001   \n",
       "4  0002005018         Clara Callan  Richard Bruce Wright                2001   \n",
       "\n",
       "                 Publisher                                        Image-URL-S  \\\n",
       "0  Oxford University Press  http://images.amazon.com/images/P/0195153448.0...   \n",
       "1    HarperFlamingo Canada  http://images.amazon.com/images/P/0002005018.0...   \n",
       "2    HarperFlamingo Canada  http://images.amazon.com/images/P/0002005018.0...   \n",
       "3    HarperFlamingo Canada  http://images.amazon.com/images/P/0002005018.0...   \n",
       "4    HarperFlamingo Canada  http://images.amazon.com/images/P/0002005018.0...   \n",
       "\n",
       "                                         Image-URL-M  \\\n",
       "0  http://images.amazon.com/images/P/0195153448.0...   \n",
       "1  http://images.amazon.com/images/P/0002005018.0...   \n",
       "2  http://images.amazon.com/images/P/0002005018.0...   \n",
       "3  http://images.amazon.com/images/P/0002005018.0...   \n",
       "4  http://images.amazon.com/images/P/0002005018.0...   \n",
       "\n",
       "                                         Image-URL-L  User-ID  Book-Rating  \n",
       "0  http://images.amazon.com/images/P/0195153448.0...      2.0          0.0  \n",
       "1  http://images.amazon.com/images/P/0002005018.0...      8.0          5.0  \n",
       "2  http://images.amazon.com/images/P/0002005018.0...  11400.0          0.0  \n",
       "3  http://images.amazon.com/images/P/0002005018.0...  11676.0          8.0  \n",
       "4  http://images.amazon.com/images/P/0002005018.0...  41385.0          0.0  "
      ]
     },
     "execution_count": 65,
     "metadata": {},
     "output_type": "execute_result"
    }
   ],
   "source": [
    "df_ratings_books = books.merge(ratings, how='left', on='ISBN')\n",
    "df_ratings_books.head()"
   ]
  },
  {
   "cell_type": "code",
   "execution_count": 66,
   "metadata": {},
   "outputs": [
    {
     "name": "stdout",
     "output_type": "stream",
     "text": [
      "<class 'pandas.core.frame.DataFrame'>\n",
      "RangeIndex: 1032345 entries, 0 to 1032344\n",
      "Data columns (total 10 columns):\n",
      " #   Column               Non-Null Count    Dtype  \n",
      "---  ------               --------------    -----  \n",
      " 0   ISBN                 1032345 non-null  object \n",
      " 1   Book-Title           1032345 non-null  object \n",
      " 2   Book-Author          1032343 non-null  object \n",
      " 3   Year-Of-Publication  1032345 non-null  object \n",
      " 4   Publisher            1032343 non-null  object \n",
      " 5   Image-URL-S          1032345 non-null  object \n",
      " 6   Image-URL-M          1032345 non-null  object \n",
      " 7   Image-URL-L          1032341 non-null  object \n",
      " 8   User-ID              1031136 non-null  float64\n",
      " 9   Book-Rating          1031136 non-null  float64\n",
      "dtypes: float64(2), object(8)\n",
      "memory usage: 78.8+ MB\n"
     ]
    }
   ],
   "source": [
    "df_ratings_books.info()"
   ]
  },
  {
   "cell_type": "code",
   "execution_count": 67,
   "metadata": {},
   "outputs": [
    {
     "data": {
      "text/plain": [
       "ISBN                      0\n",
       "Book-Title                0\n",
       "Book-Author               2\n",
       "Year-Of-Publication       0\n",
       "Publisher                 2\n",
       "Image-URL-S               0\n",
       "Image-URL-M               0\n",
       "Image-URL-L               4\n",
       "User-ID                1209\n",
       "Book-Rating            1209\n",
       "dtype: int64"
      ]
     },
     "execution_count": 67,
     "metadata": {},
     "output_type": "execute_result"
    }
   ],
   "source": [
    "df_ratings_books.isnull().sum()"
   ]
  },
  {
   "cell_type": "code",
   "execution_count": 68,
   "metadata": {},
   "outputs": [
    {
     "data": {
      "text/html": [
       "<div>\n",
       "<style scoped>\n",
       "    .dataframe tbody tr th:only-of-type {\n",
       "        vertical-align: middle;\n",
       "    }\n",
       "\n",
       "    .dataframe tbody tr th {\n",
       "        vertical-align: top;\n",
       "    }\n",
       "\n",
       "    .dataframe thead th {\n",
       "        text-align: right;\n",
       "    }\n",
       "</style>\n",
       "<table border=\"1\" class=\"dataframe\">\n",
       "  <thead>\n",
       "    <tr style=\"text-align: right;\">\n",
       "      <th></th>\n",
       "      <th>count</th>\n",
       "      <th>mean</th>\n",
       "    </tr>\n",
       "    <tr>\n",
       "      <th>Book-Title</th>\n",
       "      <th></th>\n",
       "      <th></th>\n",
       "    </tr>\n",
       "  </thead>\n",
       "  <tbody>\n",
       "    <tr>\n",
       "      <th>A Light in the Storm: The Civil War Diary of Amelia Martin, Fenwick Island, Delaware, 1861 (Dear America)</th>\n",
       "      <td>4</td>\n",
       "      <td>2.25</td>\n",
       "    </tr>\n",
       "    <tr>\n",
       "      <th>Always Have Popsicles</th>\n",
       "      <td>1</td>\n",
       "      <td>0.00</td>\n",
       "    </tr>\n",
       "    <tr>\n",
       "      <th>Apple Magic (The Collector's series)</th>\n",
       "      <td>1</td>\n",
       "      <td>0.00</td>\n",
       "    </tr>\n",
       "    <tr>\n",
       "      <th>Ask Lily (Young Women of Faith: Lily Series, Book 5)</th>\n",
       "      <td>1</td>\n",
       "      <td>8.00</td>\n",
       "    </tr>\n",
       "    <tr>\n",
       "      <th>Beyond IBM: Leadership Marketing and Finance for the 1990s</th>\n",
       "      <td>1</td>\n",
       "      <td>0.00</td>\n",
       "    </tr>\n",
       "    <tr>\n",
       "      <th>Clifford Visita El Hospital (Clifford El Gran Perro Colorado)</th>\n",
       "      <td>1</td>\n",
       "      <td>0.00</td>\n",
       "    </tr>\n",
       "    <tr>\n",
       "      <th>Dark Justice</th>\n",
       "      <td>1</td>\n",
       "      <td>10.00</td>\n",
       "    </tr>\n",
       "    <tr>\n",
       "      <th>Deceived</th>\n",
       "      <td>2</td>\n",
       "      <td>0.00</td>\n",
       "    </tr>\n",
       "    <tr>\n",
       "      <th>Earth Prayers From around the World: 365 Prayers, Poems, and Invocations for Honoring the Earth</th>\n",
       "      <td>10</td>\n",
       "      <td>5.00</td>\n",
       "    </tr>\n",
       "    <tr>\n",
       "      <th>Final Fantasy Anthology: Official Strategy Guide (Brady Games)</th>\n",
       "      <td>4</td>\n",
       "      <td>5.00</td>\n",
       "    </tr>\n",
       "  </tbody>\n",
       "</table>\n",
       "</div>"
      ],
      "text/plain": [
       "                                                    count   mean\n",
       "Book-Title                                                      \n",
       " A Light in the Storm: The Civil War Diary of A...      4   2.25\n",
       " Always Have Popsicles                                  1   0.00\n",
       " Apple Magic (The Collector's series)                   1   0.00\n",
       " Ask Lily (Young Women of Faith: Lily Series, B...      1   8.00\n",
       " Beyond IBM: Leadership Marketing and Finance f...      1   0.00\n",
       " Clifford Visita El Hospital (Clifford El Gran ...      1   0.00\n",
       " Dark Justice                                           1  10.00\n",
       " Deceived                                               2   0.00\n",
       " Earth Prayers From around the World: 365 Praye...     10   5.00\n",
       " Final Fantasy Anthology: Official Strategy Gui...      4   5.00"
      ]
     },
     "execution_count": 68,
     "metadata": {},
     "output_type": "execute_result"
    }
   ],
   "source": [
    "check = df_ratings_books.groupby(\"Book-Title\").agg({\"Book-Rating\":[\"count\",\"mean\"]})\n",
    "check = check.droplevel(0, axis = 1)\n",
    "check.head(10)"
   ]
  },
  {
   "cell_type": "code",
   "execution_count": 69,
   "metadata": {},
   "outputs": [
    {
     "data": {
      "image/png": "[encoded data removed]",
      "text/plain": [
       "<Figure size 640x480 with 1 Axes>"
      ]
     },
     "metadata": {},
     "output_type": "display_data"
    }
   ],
   "source": [
    "average_book_rating = df_ratings_books.groupby(\"Book-Title\")[\"Book-Rating\"].mean()\n",
    "sns.histplot(data = average_book_rating, bins = 40)\n",
    "plt.title(\"Average Book Rating\")\n",
    "plt.xlabel(\"Book Rating (1 - 10)\")\n",
    "plt.ylabel(\"Count\")\n",
    "plt.show()"
   ]
  },
  {
   "cell_type": "code",
   "execution_count": null,
   "metadata": {},
   "outputs": [],
   "source": []
  },
  {
   "cell_type": "code",
   "execution_count": 70,
   "metadata": {},
   "outputs": [
    {
     "data": {
      "text/html": [
       "<div>\n",
       "<style scoped>\n",
       "    .dataframe tbody tr th:only-of-type {\n",
       "        vertical-align: middle;\n",
       "    }\n",
       "\n",
       "    .dataframe tbody tr th {\n",
       "        vertical-align: top;\n",
       "    }\n",
       "\n",
       "    .dataframe thead th {\n",
       "        text-align: right;\n",
       "    }\n",
       "</style>\n",
       "<table border=\"1\" class=\"dataframe\">\n",
       "  <thead>\n",
       "    <tr style=\"text-align: right;\">\n",
       "      <th></th>\n",
       "      <th>count</th>\n",
       "      <th>mean</th>\n",
       "    </tr>\n",
       "    <tr>\n",
       "      <th>Book-Title</th>\n",
       "      <th></th>\n",
       "      <th></th>\n",
       "    </tr>\n",
       "  </thead>\n",
       "  <tbody>\n",
       "    <tr>\n",
       "      <th>Wild Animus</th>\n",
       "      <td>2502</td>\n",
       "      <td>1.019584</td>\n",
       "    </tr>\n",
       "    <tr>\n",
       "      <th>Slow Waltz in Cedar Bend</th>\n",
       "      <td>248</td>\n",
       "      <td>1.895161</td>\n",
       "    </tr>\n",
       "    <tr>\n",
       "      <th>Songs in Ordinary Time (Oprah's Book Club (Paperback))</th>\n",
       "      <td>232</td>\n",
       "      <td>1.857759</td>\n",
       "    </tr>\n",
       "    <tr>\n",
       "      <th>Primary Colors: A Novel of Politics</th>\n",
       "      <td>166</td>\n",
       "      <td>1.728916</td>\n",
       "    </tr>\n",
       "    <tr>\n",
       "      <th>The Cardinal of the Kremlin (Jack Ryan Novels)</th>\n",
       "      <td>166</td>\n",
       "      <td>1.831325</td>\n",
       "    </tr>\n",
       "    <tr>\n",
       "      <th>...</th>\n",
       "      <td>...</td>\n",
       "      <td>...</td>\n",
       "    </tr>\n",
       "    <tr>\n",
       "      <th>Kates Geheimnis.</th>\n",
       "      <td>1</td>\n",
       "      <td>0.000000</td>\n",
       "    </tr>\n",
       "    <tr>\n",
       "      <th>Kate the Winner! (Sleepover Friends, No 34)</th>\n",
       "      <td>1</td>\n",
       "      <td>0.000000</td>\n",
       "    </tr>\n",
       "    <tr>\n",
       "      <th>Kate the Life of Katherine Hepburn (Signet Book)</th>\n",
       "      <td>1</td>\n",
       "      <td>0.000000</td>\n",
       "    </tr>\n",
       "    <tr>\n",
       "      <th>Kate of Clyve Shore</th>\n",
       "      <td>1</td>\n",
       "      <td>0.000000</td>\n",
       "    </tr>\n",
       "    <tr>\n",
       "      <th>Mind Control, World Control</th>\n",
       "      <td>1</td>\n",
       "      <td>0.000000</td>\n",
       "    </tr>\n",
       "  </tbody>\n",
       "</table>\n",
       "<p>120565 rows × 2 columns</p>\n",
       "</div>"
      ],
      "text/plain": [
       "                                                    count      mean\n",
       "Book-Title                                                         \n",
       "Wild Animus                                          2502  1.019584\n",
       "Slow Waltz in Cedar Bend                              248  1.895161\n",
       "Songs in Ordinary Time (Oprah's Book Club (Pape...    232  1.857759\n",
       "Primary Colors: A Novel of Politics                   166  1.728916\n",
       "The Cardinal of the Kremlin (Jack Ryan Novels)        166  1.831325\n",
       "...                                                   ...       ...\n",
       "Kates Geheimnis.                                        1  0.000000\n",
       "Kate the Winner! (Sleepover Friends, No 34)             1  0.000000\n",
       "Kate the Life of Katherine Hepburn (Signet Book)        1  0.000000\n",
       "Kate of Clyve Shore                                     1  0.000000\n",
       "Mind Control, World Control                             1  0.000000\n",
       "\n",
       "[120565 rows x 2 columns]"
      ]
     },
     "execution_count": 70,
     "metadata": {},
     "output_type": "execute_result"
    }
   ],
   "source": [
    "\n",
    "check.head()\n",
    "check[check[\"mean\"] < 2].sort_values(\"count\", ascending=False)"
   ]
  },
  {
   "cell_type": "code",
   "execution_count": 71,
   "metadata": {},
   "outputs": [],
   "source": [
    "ratings_per_user = df_ratings_books.groupby(\"User-ID\").count()[\"Book-Rating\"] \n",
    "Q1 = ratings_per_user.quantile(0.25)\n",
    "Q3 = ratings_per_user.quantile(0.75)\n",
    "IQR = Q3 - Q1\n",
    "\n",
    "lower_bound = Q1 - 1.5 * IQR\n",
    "upper_bound = Q3 + 1.5 * IQR\n",
    "\n",
    "filtered_review_counts = ratings_per_user[(ratings_per_user >= lower_bound) & (ratings_per_user <= upper_bound)]"
   ]
  },
  {
   "cell_type": "code",
   "execution_count": 72,
   "metadata": {},
   "outputs": [
    {
     "data": {
      "text/plain": [
       "Text(0.5, 1.0, 'Distribution of Number of Reviews Per User')"
      ]
     },
     "execution_count": 72,
     "metadata": {},
     "output_type": "execute_result"
    },
    {
     "data": {
      "image/png": "[encoded data removed]",
      "text/plain": [
       "<Figure size 640x480 with 1 Axes>"
      ]
     },
     "metadata": {},
     "output_type": "display_data"
    }
   ],
   "source": [
    "sns.histplot(data = filtered_review_counts, bins = 8)\n",
    "plt.title(\"Distribution of Number of Reviews Per User\")"
   ]
  },
  {
   "cell_type": "markdown",
   "metadata": {},
   "source": [
    "We can see the vast majority of people only leave one review, which is not very useful for collaborative filtering or calculating cosine similarity"
   ]
  },
  {
   "cell_type": "code",
   "execution_count": 73,
   "metadata": {},
   "outputs": [
    {
     "data": {
      "text/plain": [
       "Text(0.5, 1.0, 'Distribution of Number of Reviews Per User')"
      ]
     },
     "execution_count": 73,
     "metadata": {},
     "output_type": "execute_result"
    },
    {
     "data": {
      "image/png": "[encoded data removed]",
      "text/plain": [
       "<Figure size 640x480 with 1 Axes>"
      ]
     },
     "metadata": {},
     "output_type": "display_data"
    }
   ],
   "source": [
    "relevant_review_counts = ratings_per_user[(ratings_per_user >= 50) & (ratings_per_user < 5000)]\n",
    "sns.histplot(data = relevant_review_counts, bins = 8)\n",
    "plt.title(\"Distribution of Number of Reviews Per User\")"
   ]
  },
  {
   "cell_type": "markdown",
   "metadata": {},
   "source": [
    "We have to make a decision, a cutoff, a balance between enough total data points and enough reviews to be considered in collaborative filtering."
   ]
  },
  {
   "cell_type": "code",
   "execution_count": 74,
   "metadata": {},
   "outputs": [],
   "source": [
    "new = df_ratings_books.groupby(\"User-ID\").count()['Book-Rating'] > 100\n",
    "user_id_rating_index = new[new].index"
   ]
  },
  {
   "cell_type": "code",
   "execution_count": 75,
   "metadata": {},
   "outputs": [],
   "source": [
    "filtered_rating = df_ratings_books[df_ratings_books[\"User-ID\"].isin(user_id_rating_index)]"
   ]
  },
  {
   "cell_type": "code",
   "execution_count": 76,
   "metadata": {},
   "outputs": [],
   "source": [
    "y = filtered_rating.groupby('Book-Title').count()['Book-Rating']>= 50\n",
    "book_title_rating_index = y[y].index"
   ]
  },
  {
   "cell_type": "code",
   "execution_count": 77,
   "metadata": {},
   "outputs": [
    {
     "name": "stdout",
     "output_type": "stream",
     "text": [
      "                                             Book-Title  Book-Rating   User-ID\n",
      "31                               The Kitchen God's Wife          9.0   11676.0\n",
      "32                               The Kitchen God's Wife          9.0   29526.0\n",
      "33                               The Kitchen God's Wife          0.0   36836.0\n",
      "34                               The Kitchen God's Wife          9.0   46398.0\n",
      "38                               The Kitchen God's Wife          0.0  113270.0\n",
      "...                                                 ...          ...       ...\n",
      "1029730                                     The Promise          7.0  239594.0\n",
      "1029943                        The Pillars of the Earth          0.0  240144.0\n",
      "1029945                             The Handmaid's Tale          0.0  240144.0\n",
      "1031642                                       Lightning          9.0  244685.0\n",
      "1032154  The Two Towers (The Lord of the Rings, Part 2)         10.0  259901.0\n",
      "\n",
      "[97540 rows x 3 columns]\n"
     ]
    }
   ],
   "source": [
    "final_ratings = filtered_rating[filtered_rating['Book-Title'].isin(book_title_rating_index)]\n",
    "print(final_ratings[['Book-Title','Book-Rating','User-ID']])"
   ]
  },
  {
   "cell_type": "code",
   "execution_count": 78,
   "metadata": {},
   "outputs": [],
   "source": [
    "collab_grid = final_ratings.pivot_table(index='Book-Title',columns='User-ID',values='Book-Rating')"
   ]
  },
  {
   "cell_type": "code",
   "execution_count": 79,
   "metadata": {},
   "outputs": [],
   "source": [
    "collab_grid.fillna(0,inplace=True)"
   ]
  },
  {
   "cell_type": "code",
   "execution_count": 81,
   "metadata": {},
   "outputs": [
    {
     "data": {
      "text/plain": [
       "User-ID\n",
       "254.0       9.0\n",
       "507.0       0.0\n",
       "882.0       0.0\n",
       "1424.0      0.0\n",
       "1435.0      0.0\n",
       "           ... \n",
       "277478.0    0.0\n",
       "277639.0    0.0\n",
       "278137.0    0.0\n",
       "278188.0    0.0\n",
       "278418.0    0.0\n",
       "Name: 1984, Length: 1634, dtype: float64"
      ]
     },
     "execution_count": 81,
     "metadata": {},
     "output_type": "execute_result"
    }
   ],
   "source": [
    "collab_grid.loc['1984']"
   ]
  },
  {
   "cell_type": "code",
   "execution_count": null,
   "metadata": {},
   "outputs": [],
   "source": [
    "#Using collaborative filtering with cosine similarity\n",
    "cosine_sim_grid = cosine_similarity(collab_grid)"
   ]
  },
  {
   "cell_type": "code",
   "execution_count": null,
   "metadata": {},
   "outputs": [
    {
     "data": {
      "text/plain": [
       "(1070, 1070)"
      ]
     },
     "execution_count": 225,
     "metadata": {},
     "output_type": "execute_result"
    }
   ],
   "source": [
    "cosine_sim_grid.shape"
   ]
  },
  {
   "cell_type": "code",
   "execution_count": null,
   "metadata": {},
   "outputs": [
    {
     "data": {
      "text/plain": [
       "array([[1.        , 0.06550754, 0.09317747, ..., 0.07547772, 0.05810769,\n",
       "        0.03029366],\n",
       "       [0.06550754, 1.        , 0.02247675, ..., 0.04739871, 0.13548709,\n",
       "        0.12388301],\n",
       "       [0.09317747, 0.02247675, 1.        , ..., 0.09310325, 0.        ,\n",
       "        0.        ],\n",
       "       ...,\n",
       "       [0.07547772, 0.04739871, 0.09310325, ..., 1.        , 0.05583662,\n",
       "        0.0137213 ],\n",
       "       [0.05810769, 0.13548709, 0.        , ..., 0.05583662, 1.        ,\n",
       "        0.09410287],\n",
       "       [0.03029366, 0.12388301, 0.        , ..., 0.0137213 , 0.09410287,\n",
       "        1.        ]])"
      ]
     },
     "execution_count": 226,
     "metadata": {},
     "output_type": "execute_result"
    }
   ],
   "source": [
    "cosine_sim_grid"
   ]
  },
  {
   "cell_type": "code",
   "execution_count": null,
   "metadata": {},
   "outputs": [],
   "source": [
    "import heapq\n",
    "\n",
    "def recommend_book(book_name):\n",
    "    index = np.where(collab_grid.index==book_name)[0][0]\n",
    "    top_similar_items =  heapq.nlargest(6, enumerate(cosine_sim_grid[index]), key=lambda x: x[1])\n",
    "    similar_items = top_similar_items[1:]\n",
    "\n",
    "    item_details = []\n",
    "\n",
    "    similar_book_indices = [i[0] for i in similar_items]\n",
    "    # Find the titles of similar books\n",
    "    similar_books_titles = collab_grid.index[similar_book_indices]\n",
    "    \n",
    "    # Filter the books DataFrame for the similar books\n",
    "    similar_books_df = books[books['Book-Title'].isin(similar_books_titles)]\n",
    "    # Drop duplicates to ensure each book is represented once\n",
    "    similar_books_df_unique = similar_books_df.drop_duplicates(subset='Book-Title', keep='first')\n",
    "    \n",
    "    # Select required columns\n",
    "    data = similar_books_df_unique[['Book-Title', 'Book-Author', 'Image-URL-M']].values.tolist()\n",
    "\n",
    "    return data\n"
   ]
  },
  {
   "cell_type": "code",
   "execution_count": null,
   "metadata": {},
   "outputs": [
    {
     "data": {
      "text/plain": [
       "[['The Catcher in the Rye',\n",
       "  'J.D. Salinger',\n",
       "  'http://images.amazon.com/images/P/0316769487.01.MZZZZZZZ.jpg'],\n",
       " ['1984',\n",
       "  'George Orwell',\n",
       "  'http://images.amazon.com/images/P/0451524934.01.MZZZZZZZ.jpg'],\n",
       " ['Brave New World',\n",
       "  'Aldous Huxley',\n",
       "  'http://images.amazon.com/images/P/0060809833.01.MZZZZZZZ.jpg'],\n",
       " ['Angus, Thongs and Full-Frontal Snogging: Confessions of Georgia Nicolson',\n",
       "  'Louise Rennison',\n",
       "  'http://images.amazon.com/images/P/0064472272.01.MZZZZZZZ.jpg'],\n",
       " ['Second Nature',\n",
       "  'Alice Hoffman',\n",
       "  'http://images.amazon.com/images/P/0399139087.01.MZZZZZZZ.jpg']]"
      ]
     },
     "execution_count": 228,
     "metadata": {},
     "output_type": "execute_result"
    }
   ],
   "source": [
    "recommend_book('Animal Farm')"
   ]
  },
  {
   "cell_type": "markdown",
   "metadata": {},
   "source": [
    "# Collaborative Filtering w/ Locality Sensitive Hashing\n",
    "\n",
    "Locality-Sensitive Hashing (LSH) offers several advantages, particularly in the context of handling high-dimensional data and facilitating efficient similarity search, which are critical in applications like recommendation systems, near-duplicate detection, and image or document retrieval. \n",
    "\n",
    "One of the primary benefits of LSH is its ability to reduce dimensionality and search space significantly, enabling faster query processing times compared to exhaustive search methods, especially in large datasets. By grouping similar items into the same \"buckets\" with a high probability, LSH maintains an admirable balance between accuracy and computational efficiency, allowing for near-real-time querying. Furthermore, LSH's flexibility in choosing hash functions and parameters tailored to specific similarity measures (e.g., Jaccard, cosine) enhances its effectiveness across various data types and applications.\n",
    "\n",
    "This method scales well with data size and dimensionality, making it highly suitable for big data scenarios where traditional methods falter due to the \"curse of dimensionality.\""
   ]
  },
  {
   "cell_type": "markdown",
   "metadata": {},
   "source": [
    "Since we used cosine similarity for our initial recommendation system. A random projection based LSH would be more appropriate but if we were instead using a Jaccard based similarity a MinHash system would be more appropriate."
   ]
  },
  {
   "cell_type": "code",
   "execution_count": null,
   "metadata": {},
   "outputs": [
    {
     "data": {
      "text/plain": [
       "(1070, 1634)"
      ]
     },
     "execution_count": 230,
     "metadata": {},
     "output_type": "execute_result"
    }
   ],
   "source": [
    "ex = collab_grid.to_numpy()\n",
    "ex.shape"
   ]
  },
  {
   "cell_type": "code",
   "execution_count": null,
   "metadata": {},
   "outputs": [],
   "source": [
    "import faiss\n",
    "\n"
   ]
  },
  {
   "cell_type": "markdown",
   "metadata": {},
   "source": [
    "\n",
    "Faiss, developed by Facebook AI Research (FAIR), is a comprehensive library for efficient similarity search and clustering of dense vectors. It excels in handling large datasets, allowing for rapid retrieval of items similar to a given query, which is crucial for tasks like recommendation systems, image search, and clustering.\n",
    "\n",
    "The `IndexLSH` in Faiss is specifically designed for handling high-dimensional data through the use of Locality-Sensitive Hashing (LSH). LSH is a technique that hashes input items in such a way that similar items map to the same \"buckets\" with high probability. This approach makes searches efficient even in very large datasets by reducing the dimensionality of the data and focusing search efforts on buckets likely to contain similar items."
   ]
  },
  {
   "cell_type": "code",
   "execution_count": null,
   "metadata": {},
   "outputs": [
    {
     "data": {
      "text/plain": [
       "1634"
      ]
     },
     "execution_count": 232,
     "metadata": {},
     "output_type": "execute_result"
    }
   ],
   "source": [
    "d = ex.shape[1]\n",
    "d"
   ]
  },
  {
   "cell_type": "code",
   "execution_count": null,
   "metadata": {},
   "outputs": [],
   "source": [
    "index = faiss.IndexLSH(d, 4)"
   ]
  },
  {
   "cell_type": "code",
   "execution_count": null,
   "metadata": {},
   "outputs": [
    {
     "data": {
      "text/plain": [
       "True"
      ]
     },
     "execution_count": 234,
     "metadata": {},
     "output_type": "execute_result"
    }
   ],
   "source": [
    "index.is_trained"
   ]
  },
  {
   "cell_type": "code",
   "execution_count": null,
   "metadata": {},
   "outputs": [],
   "source": [
    "index.add(ex)"
   ]
  },
  {
   "cell_type": "code",
   "execution_count": null,
   "metadata": {},
   "outputs": [
    {
     "data": {
      "text/plain": [
       "(1, 1634)"
      ]
     },
     "execution_count": 236,
     "metadata": {},
     "output_type": "execute_result"
    }
   ],
   "source": [
    "queries = collab_grid.iloc[0:1].to_numpy()\n",
    "q = ex[0]\n",
    "q.reshape((1,-1))\n",
    "queries.shape"
   ]
  },
  {
   "cell_type": "code",
   "execution_count": null,
   "metadata": {},
   "outputs": [],
   "source": [
    "k = 100\n",
    "D, I = index.search(queries, k)"
   ]
  },
  {
   "cell_type": "code",
   "execution_count": null,
   "metadata": {},
   "outputs": [
    {
     "data": {
      "text/plain": [
       "array([[   0,   14,   38,   42,   79,   93,   99,  110,  116,  132,  144,\n",
       "         145,  162,  168,  176,  181,  190,  197,  204,  262,  263,  279,\n",
       "         310,  330,  332,  334,  369,  387,  402,  419,  463,  479,  483,\n",
       "         484,  493,  504,  505,  509,  519,  531,  535,  596,  604,  607,\n",
       "         626,  649,  650,  652,  656,  665,  673,  681,  695,  717,  722,\n",
       "         733,  744,  747,  762,  768,  777,  784,  787,  835,  841,  842,\n",
       "         859,  863,  867,  895,  898,  931,  938,  940,  948,  949,  969,\n",
       "         985,  988,  992,  996, 1021, 1029, 1037, 1038, 1057, 1060, 1067,\n",
       "           4,    6,   16,   22,   23,   26,   27,   29,   32,   36,   43,\n",
       "          46]], dtype=int64)"
      ]
     },
     "execution_count": 238,
     "metadata": {},
     "output_type": "execute_result"
    }
   ],
   "source": [
    "I"
   ]
  },
  {
   "cell_type": "code",
   "execution_count": null,
   "metadata": {},
   "outputs": [
    {
     "data": {
      "text/plain": [
       "0.05647985076480734"
      ]
     },
     "execution_count": 239,
     "metadata": {},
     "output_type": "execute_result"
    }
   ],
   "source": [
    "cos_sim = cosine_similarity(ex[I[0]], queries)\n",
    "cos_sim.mean()"
   ]
  },
  {
   "cell_type": "code",
   "execution_count": null,
   "metadata": {},
   "outputs": [
    {
     "data": {
      "text/plain": [
       "0.04235736615241688"
      ]
     },
     "execution_count": 240,
     "metadata": {},
     "output_type": "execute_result"
    }
   ],
   "source": [
    "cos_sim = cosine_similarity(ex, queries)\n",
    "cos_sim.mean()"
   ]
  },
  {
   "cell_type": "code",
   "execution_count": null,
   "metadata": {},
   "outputs": [
    {
     "data": {
      "text/plain": [
       "array([[0., 0., 0., 0., 0., 0., 0., 0., 0., 0., 0., 0., 0., 0., 0., 0.,\n",
       "        0., 0., 0., 0., 0., 0., 0., 0., 0., 0., 0., 0., 0., 0., 0., 0.,\n",
       "        0., 0., 0., 0., 0., 0., 0., 0., 0., 0., 0., 0., 0., 0., 0., 0.,\n",
       "        0., 0., 0., 0., 0., 0., 0., 0., 0., 0., 0., 0., 0., 0., 0., 0.,\n",
       "        0., 0., 0., 0., 0., 0., 0., 0., 0., 0., 0., 0., 0., 0., 0., 0.,\n",
       "        0., 0., 0., 0., 0., 0., 0., 0., 1., 1., 1., 1., 1., 1., 1., 1.,\n",
       "        1., 1., 1., 1.]], dtype=float32)"
      ]
     },
     "execution_count": 241,
     "metadata": {},
     "output_type": "execute_result"
    }
   ],
   "source": [
    "D"
   ]
  },
  {
   "cell_type": "code",
   "execution_count": null,
   "metadata": {},
   "outputs": [
    {
     "name": "stdout",
     "output_type": "stream",
     "text": [
      "nbits = 2\n",
      "1070 / 4 = 267.5\n",
      "nbits = 4\n",
      "1070 / 16 = 66.875\n",
      "nbits = 6\n",
      "1070 / 64 = 16.71875\n",
      "nbits = 8\n",
      "1070 / 256 = 4.1796875\n",
      "nbits = 10\n",
      "1070 / 1024 = 1.044921875\n",
      "nbits = 12\n",
      "1070 / 4096 = 0.26123046875\n",
      "nbits = 14\n",
      "1070 / 16384 = 0.0653076171875\n",
      "nbits = 16\n",
      "1070 / 65536 = 0.016326904296875\n"
     ]
    }
   ],
   "source": [
    "for nbits in [2, 4, 6, 8, 10, 12, 14, 16]:\n",
    "    buckets = 1 << nbits\n",
    "    print(f\"nbits = {nbits}\")\n",
    "    print(f\"{ex.shape[0]} / {buckets} = {ex.shape[0]/buckets}\")"
   ]
  },
  {
   "cell_type": "code",
   "execution_count": null,
   "metadata": {},
   "outputs": [
    {
     "name": "stdout",
     "output_type": "stream",
     "text": [
      "nbits = 2\n",
      "sim: 0.036334443628718203\n",
      "nbits = 4\n",
      "sim: 0.06285069778358147\n",
      "nbits = 8\n",
      "sim: 0.03845606050944478\n",
      "nbits = 16\n",
      "sim: 0.03142432326560882\n",
      "nbits = 24\n",
      "sim: 0.03771130270095232\n",
      "nbits = 32\n",
      "sim: 0.05272186992192931\n",
      "nbits = 48\n",
      "sim: 0.03494501523950675\n",
      "nbits = 64\n",
      "sim: 0.04589483665944031\n",
      "nbits = 128\n",
      "sim: 0.043021838419761274\n",
      "nbits = 256\n",
      "sim: 0.03931886801025212\n",
      "nbits = 512\n",
      "sim: 0.047161754765130307\n",
      "nbits = 768\n",
      "sim: 0.04187253958641512\n"
     ]
    }
   ],
   "source": [
    "#Choosing Good Buckets\n",
    "\n",
    "for nbits in [2, 4, 8, 16, 24, 32, 48, 64, 128, 256, 512, 768]:\n",
    "    index = faiss.IndexLSH(d, nbits)\n",
    "    index.add(ex)\n",
    "    D, I = index.search(ex[6].reshape((1,-1)), k)\n",
    "    cos = cosine_similarity(ex[I[0]], queries)\n",
    "    print(f\"nbits = {nbits}\")\n",
    "    print(f\"sim: {cos.mean()}\")"
   ]
  },
  {
   "cell_type": "code",
   "execution_count": null,
   "metadata": {},
   "outputs": [
    {
     "data": {
      "text/plain": [
       "65536"
      ]
     },
     "execution_count": 244,
     "metadata": {},
     "output_type": "execute_result"
    }
   ],
   "source": [
    "buckets"
   ]
  },
  {
   "cell_type": "code",
   "execution_count": null,
   "metadata": {},
   "outputs": [],
   "source": [
    "def recommend_book_lsh(book_name,  n_neighbours: int, nbits=512):\n",
    "    book_index = np.where(collab_grid.index==book_name)[0][0]\n",
    "    index = faiss.IndexLSH(ex.shape[1], nbits)\n",
    "    index.add(ex)\n",
    "    query = ex[book_index].reshape((1,-1))\n",
    "    D, I = index.search(query, n_neighbours + 1)\n",
    "\n",
    "    similar_book_indices = I[0][1:]  # Exclude the first item (itself)\n",
    "    \n",
    "    # Find the titles of similar books\n",
    "    similar_books_titles = collab_grid.index[similar_book_indices]\n",
    "    \n",
    "    # Filter the books DataFrame for the similar books\n",
    "    similar_books_df = books[books['Book-Title'].isin(similar_books_titles)]\n",
    "    # Drop duplicates to ensure each book is represented once\n",
    "    similar_books_df_unique = similar_books_df.drop_duplicates(subset='Book-Title', keep='first')\n",
    "    \n",
    "    # Select required columns\n",
    "    data = similar_books_df_unique[['Book-Title', 'Book-Author', 'Image-URL-M']].values.tolist()\n",
    "\n",
    "    return data\n",
    "    \n",
    "    \n",
    "    \n",
    "\n"
   ]
  },
  {
   "cell_type": "code",
   "execution_count": null,
   "metadata": {},
   "outputs": [
    {
     "data": {
      "text/plain": [
       "[['A Little Princess',\n",
       "  'Frances Hodgson  Burnett',\n",
       "  'http://images.amazon.com/images/P/0874067391.01.MZZZZZZZ.jpg'],\n",
       " ['Lightning',\n",
       "  'Dean R. Koontz',\n",
       "  'http://images.amazon.com/images/P/0425115801.01.MZZZZZZZ.jpg'],\n",
       " ['Love in the Time of Cholera (Penguin Great Books of the 20th Century)',\n",
       "  'Gabriel Garcia Marquez',\n",
       "  'http://images.amazon.com/images/P/0140119906.01.MZZZZZZZ.jpg'],\n",
       " ['Brave New World',\n",
       "  'Aldous Huxley',\n",
       "  'http://images.amazon.com/images/P/0060809833.01.MZZZZZZZ.jpg'],\n",
       " ['The Prince of Tides',\n",
       "  'Pat Conroy',\n",
       "  'http://images.amazon.com/images/P/0553268880.01.MZZZZZZZ.jpg'],\n",
       " ['Blindness (Harvest Book)',\n",
       "  'Jose Saramago',\n",
       "  'http://images.amazon.com/images/P/0156007754.01.MZZZZZZZ.jpg'],\n",
       " ['The Corrections',\n",
       "  'Jonathan Franzen',\n",
       "  'http://images.amazon.com/images/P/0374129983.01.MZZZZZZZ.jpg'],\n",
       " ['Cat and Mouse',\n",
       "  'James Patterson',\n",
       "  'http://images.amazon.com/images/P/0316693294.01.MZZZZZZZ.jpg'],\n",
       " ['Invisible Monsters',\n",
       "  'Chuck Palahniuk',\n",
       "  'http://images.amazon.com/images/P/0393319296.01.MZZZZZZZ.jpg'],\n",
       " ['Family Album',\n",
       "  'Danielle Steel',\n",
       "  'http://images.amazon.com/images/P/0440124344.01.MZZZZZZZ.jpg']]"
      ]
     },
     "execution_count": 216,
     "metadata": {},
     "output_type": "execute_result"
    }
   ],
   "source": [
    "recommend_book_lsh('1984', 10)"
   ]
  }
 ],
 "metadata": {
  "kernelspec": {
   "display_name": "Python 3",
   "language": "python",
   "name": "python3"
  },
  "language_info": {
   "codemirror_mode": {
    "name": "ipython",
    "version": 3
   },
   "file_extension": ".py",
   "mimetype": "text/x-python",
   "name": "python",
   "nbconvert_exporter": "python",
   "pygments_lexer": "ipython3",
   "version": "3.11.7"
  }
 },
 "nbformat": 4,
 "nbformat_minor": 2
}
