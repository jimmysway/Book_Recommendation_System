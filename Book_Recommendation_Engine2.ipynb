{
  "cells": [
    {
      "cell_type": "markdown",
      "metadata": {
        "id": "c2M5y1zEe6o5"
      },
      "source": [
        "# Book Recommendation System"
      ]
    },
    {
      "cell_type": "code",
      "execution_count": 1,
      "metadata": {
        "id": "7Uu-Zwu0e6o6"
      },
      "outputs": [],
      "source": [
        "import string\n",
        "import re\n",
        "import pandas as pd\n",
        "import numpy as np\n",
        "import seaborn as sns\n",
        "import matplotlib.pyplot as plt\n",
        "from wordcloud import WordCloud\n",
        "from sklearn.preprocessing import MinMaxScaler\n",
        "from sklearn.feature_extraction.text import TfidfVectorizer\n",
        "from sklearn.metrics.pairwise import cosine_similarity\n",
        "\n",
        "import warnings\n",
        "warnings.filterwarnings('ignore')"
      ]
    },
    {
      "cell_type": "markdown",
      "metadata": {
        "id": "uPlve9zae6o7"
      },
      "source": [
        "# EDA\n",
        "\n",
        "The purpose of doing some exploratory data analysis is to first understand the composition of the data, getting a feel for the data and getting to know the strengths and limitations of the data."
      ]
    },
    {
      "cell_type": "code",
      "execution_count": 2,
      "metadata": {
        "id": "DxqmX4iJe6o7"
      },
      "outputs": [],
      "source": [
        "books = pd.read_csv(\"Books.csv\")\n",
        "ratings = pd.read_csv(\"Ratings.csv\")\n",
        "users = pd.read_csv(\"Users.csv\")"
      ]
    },
    {
      "cell_type": "code",
      "execution_count": 3,
      "metadata": {
        "colab": {
          "base_uri": "https://localhost:8080/"
        },
        "id": "h77DzEs2gnzu",
        "outputId": "e8ebb5fa-42f5-4da4-f453-219416dee2fa"
      },
      "outputs": [
        {
          "name": "stdout",
          "output_type": "stream",
          "text": [
            "<class 'pandas.core.frame.DataFrame'>\n",
            "RangeIndex: 271360 entries, 0 to 271359\n",
            "Data columns (total 8 columns):\n",
            " #   Column               Non-Null Count   Dtype \n",
            "---  ------               --------------   ----- \n",
            " 0   ISBN                 271360 non-null  object\n",
            " 1   Book-Title           271360 non-null  object\n",
            " 2   Book-Author          271358 non-null  object\n",
            " 3   Year-Of-Publication  271360 non-null  object\n",
            " 4   Publisher            271358 non-null  object\n",
            " 5   Image-URL-S          271360 non-null  object\n",
            " 6   Image-URL-M          271360 non-null  object\n",
            " 7   Image-URL-L          271357 non-null  object\n",
            "dtypes: object(8)\n",
            "memory usage: 16.6+ MB\n"
          ]
        }
      ],
      "source": [
        "books.info()"
      ]
    },
    {
      "cell_type": "code",
      "execution_count": 4,
      "metadata": {
        "colab": {
          "base_uri": "https://localhost:8080/"
        },
        "id": "1Fm3HyZugtmL",
        "outputId": "7678941e-f6cc-4dba-eca5-b998cb163c96"
      },
      "outputs": [
        {
          "name": "stdout",
          "output_type": "stream",
          "text": [
            "<class 'pandas.core.frame.DataFrame'>\n",
            "RangeIndex: 1149780 entries, 0 to 1149779\n",
            "Data columns (total 3 columns):\n",
            " #   Column       Non-Null Count    Dtype \n",
            "---  ------       --------------    ----- \n",
            " 0   User-ID      1149780 non-null  int64 \n",
            " 1   ISBN         1149780 non-null  object\n",
            " 2   Book-Rating  1149780 non-null  int64 \n",
            "dtypes: int64(2), object(1)\n",
            "memory usage: 26.3+ MB\n"
          ]
        }
      ],
      "source": [
        "ratings.info()"
      ]
    },
    {
      "cell_type": "code",
      "execution_count": 5,
      "metadata": {
        "colab": {
          "base_uri": "https://localhost:8080/"
        },
        "id": "0MrZkuXbg0Ak",
        "outputId": "1c2cad21-9904-467b-92c9-cb4fa6a6fc17"
      },
      "outputs": [
        {
          "name": "stdout",
          "output_type": "stream",
          "text": [
            "<class 'pandas.core.frame.DataFrame'>\n",
            "RangeIndex: 278858 entries, 0 to 278857\n",
            "Data columns (total 3 columns):\n",
            " #   Column    Non-Null Count   Dtype  \n",
            "---  ------    --------------   -----  \n",
            " 0   User-ID   278858 non-null  int64  \n",
            " 1   Location  278858 non-null  object \n",
            " 2   Age       168096 non-null  float64\n",
            "dtypes: float64(1), int64(1), object(1)\n",
            "memory usage: 6.4+ MB\n"
          ]
        }
      ],
      "source": [
        "users.info()"
      ]
    },
    {
      "cell_type": "code",
      "execution_count": 6,
      "metadata": {
        "colab": {
          "base_uri": "https://localhost:8080/"
        },
        "id": "0IRGr-v6e6o7",
        "outputId": "d668094f-dc4a-4156-f24a-d4bc656d33ff"
      },
      "outputs": [
        {
          "data": {
            "text/plain": [
              "ISBN                   0\n",
              "Book-Title             0\n",
              "Book-Author            2\n",
              "Year-Of-Publication    0\n",
              "Publisher              2\n",
              "Image-URL-S            0\n",
              "Image-URL-M            0\n",
              "Image-URL-L            3\n",
              "dtype: int64"
            ]
          },
          "execution_count": 6,
          "metadata": {},
          "output_type": "execute_result"
        }
      ],
      "source": [
        "books.isnull().sum()"
      ]
    },
    {
      "cell_type": "code",
      "execution_count": 7,
      "metadata": {
        "colab": {
          "base_uri": "https://localhost:8080/"
        },
        "id": "vnEckBbde6o7",
        "outputId": "a4abf113-792b-464f-9b32-350227625d78"
      },
      "outputs": [
        {
          "data": {
            "text/plain": [
              "(271360, 8)"
            ]
          },
          "execution_count": 7,
          "metadata": {},
          "output_type": "execute_result"
        }
      ],
      "source": [
        "books.shape"
      ]
    },
    {
      "cell_type": "code",
      "execution_count": 8,
      "metadata": {
        "colab": {
          "base_uri": "https://localhost:8080/"
        },
        "id": "lFOLhlUOe6o7",
        "outputId": "769c23da-dc96-42ee-d069-4ba1dea2e7f2"
      },
      "outputs": [
        {
          "data": {
            "text/plain": [
              "(1149780, 3)"
            ]
          },
          "execution_count": 8,
          "metadata": {},
          "output_type": "execute_result"
        }
      ],
      "source": [
        "ratings.shape"
      ]
    },
    {
      "cell_type": "code",
      "execution_count": 9,
      "metadata": {
        "colab": {
          "base_uri": "https://localhost:8080/",
          "height": 394
        },
        "id": "8NRKBlQje6o8",
        "outputId": "009cc8fe-6e77-45e8-9335-137ecc2368aa"
      },
      "outputs": [
        {
          "data": {
            "text/html": [
              "<div>\n",
              "<style scoped>\n",
              "    .dataframe tbody tr th:only-of-type {\n",
              "        vertical-align: middle;\n",
              "    }\n",
              "\n",
              "    .dataframe tbody tr th {\n",
              "        vertical-align: top;\n",
              "    }\n",
              "\n",
              "    .dataframe thead th {\n",
              "        text-align: right;\n",
              "    }\n",
              "</style>\n",
              "<table border=\"1\" class=\"dataframe\">\n",
              "  <thead>\n",
              "    <tr style=\"text-align: right;\">\n",
              "      <th></th>\n",
              "      <th>ISBN</th>\n",
              "    </tr>\n",
              "    <tr>\n",
              "      <th>Book-Title</th>\n",
              "      <th></th>\n",
              "    </tr>\n",
              "  </thead>\n",
              "  <tbody>\n",
              "    <tr>\n",
              "      <th>Selected Poems</th>\n",
              "      <td>27</td>\n",
              "    </tr>\n",
              "    <tr>\n",
              "      <th>Little Women</th>\n",
              "      <td>24</td>\n",
              "    </tr>\n",
              "    <tr>\n",
              "      <th>Wuthering Heights</th>\n",
              "      <td>21</td>\n",
              "    </tr>\n",
              "    <tr>\n",
              "      <th>Dracula</th>\n",
              "      <td>20</td>\n",
              "    </tr>\n",
              "    <tr>\n",
              "      <th>Adventures of Huckleberry Finn</th>\n",
              "      <td>20</td>\n",
              "    </tr>\n",
              "    <tr>\n",
              "      <th>The Secret Garden</th>\n",
              "      <td>20</td>\n",
              "    </tr>\n",
              "    <tr>\n",
              "      <th>Jane Eyre</th>\n",
              "      <td>19</td>\n",
              "    </tr>\n",
              "    <tr>\n",
              "      <th>The Night Before Christmas</th>\n",
              "      <td>18</td>\n",
              "    </tr>\n",
              "    <tr>\n",
              "      <th>Pride and Prejudice</th>\n",
              "      <td>18</td>\n",
              "    </tr>\n",
              "    <tr>\n",
              "      <th>Great Expectations</th>\n",
              "      <td>17</td>\n",
              "    </tr>\n",
              "  </tbody>\n",
              "</table>\n",
              "</div>"
            ],
            "text/plain": [
              "                                ISBN\n",
              "Book-Title                          \n",
              "Selected Poems                    27\n",
              "Little Women                      24\n",
              "Wuthering Heights                 21\n",
              "Dracula                           20\n",
              "Adventures of Huckleberry Finn    20\n",
              "The Secret Garden                 20\n",
              "Jane Eyre                         19\n",
              "The Night Before Christmas        18\n",
              "Pride and Prejudice               18\n",
              "Great Expectations                17"
            ]
          },
          "execution_count": 9,
          "metadata": {},
          "output_type": "execute_result"
        }
      ],
      "source": [
        "# As you can see there are multiple books of the same title that have more than one ISBN number\n",
        "\n",
        "books.groupby(\"Book-Title\").agg({\"ISBN\":\"count\"}).sort_values(\"ISBN\",ascending=False).head(10)"
      ]
    },
    {
      "cell_type": "code",
      "execution_count": 10,
      "metadata": {
        "colab": {
          "base_uri": "https://localhost:8080/",
          "height": 417
        },
        "id": "NtS9Ls1Xe6o8",
        "outputId": "7cff7331-115f-4056-b2b0-e68a5ed6e750"
      },
      "outputs": [
        {
          "data": {
            "text/html": [
              "<div>\n",
              "<style scoped>\n",
              "    .dataframe tbody tr th:only-of-type {\n",
              "        vertical-align: middle;\n",
              "    }\n",
              "\n",
              "    .dataframe tbody tr th {\n",
              "        vertical-align: top;\n",
              "    }\n",
              "\n",
              "    .dataframe thead th {\n",
              "        text-align: right;\n",
              "    }\n",
              "</style>\n",
              "<table border=\"1\" class=\"dataframe\">\n",
              "  <thead>\n",
              "    <tr style=\"text-align: right;\">\n",
              "      <th></th>\n",
              "      <th>ISBN</th>\n",
              "      <th>Book-Title</th>\n",
              "      <th>Book-Author</th>\n",
              "      <th>Year-Of-Publication</th>\n",
              "      <th>Publisher</th>\n",
              "      <th>Image-URL-S</th>\n",
              "      <th>Image-URL-M</th>\n",
              "      <th>Image-URL-L</th>\n",
              "      <th>User-ID</th>\n",
              "      <th>Book-Rating</th>\n",
              "    </tr>\n",
              "  </thead>\n",
              "  <tbody>\n",
              "    <tr>\n",
              "      <th>0</th>\n",
              "      <td>0195153448</td>\n",
              "      <td>Classical Mythology</td>\n",
              "      <td>Mark P. O. Morford</td>\n",
              "      <td>2002</td>\n",
              "      <td>Oxford University Press</td>\n",
              "      <td>http://images.amazon.com/images/P/0195153448.0...</td>\n",
              "      <td>http://images.amazon.com/images/P/0195153448.0...</td>\n",
              "      <td>http://images.amazon.com/images/P/0195153448.0...</td>\n",
              "      <td>2.0</td>\n",
              "      <td>0.0</td>\n",
              "    </tr>\n",
              "    <tr>\n",
              "      <th>1</th>\n",
              "      <td>0002005018</td>\n",
              "      <td>Clara Callan</td>\n",
              "      <td>Richard Bruce Wright</td>\n",
              "      <td>2001</td>\n",
              "      <td>HarperFlamingo Canada</td>\n",
              "      <td>http://images.amazon.com/images/P/0002005018.0...</td>\n",
              "      <td>http://images.amazon.com/images/P/0002005018.0...</td>\n",
              "      <td>http://images.amazon.com/images/P/0002005018.0...</td>\n",
              "      <td>8.0</td>\n",
              "      <td>5.0</td>\n",
              "    </tr>\n",
              "    <tr>\n",
              "      <th>2</th>\n",
              "      <td>0002005018</td>\n",
              "      <td>Clara Callan</td>\n",
              "      <td>Richard Bruce Wright</td>\n",
              "      <td>2001</td>\n",
              "      <td>HarperFlamingo Canada</td>\n",
              "      <td>http://images.amazon.com/images/P/0002005018.0...</td>\n",
              "      <td>http://images.amazon.com/images/P/0002005018.0...</td>\n",
              "      <td>http://images.amazon.com/images/P/0002005018.0...</td>\n",
              "      <td>11400.0</td>\n",
              "      <td>0.0</td>\n",
              "    </tr>\n",
              "    <tr>\n",
              "      <th>3</th>\n",
              "      <td>0002005018</td>\n",
              "      <td>Clara Callan</td>\n",
              "      <td>Richard Bruce Wright</td>\n",
              "      <td>2001</td>\n",
              "      <td>HarperFlamingo Canada</td>\n",
              "      <td>http://images.amazon.com/images/P/0002005018.0...</td>\n",
              "      <td>http://images.amazon.com/images/P/0002005018.0...</td>\n",
              "      <td>http://images.amazon.com/images/P/0002005018.0...</td>\n",
              "      <td>11676.0</td>\n",
              "      <td>8.0</td>\n",
              "    </tr>\n",
              "    <tr>\n",
              "      <th>4</th>\n",
              "      <td>0002005018</td>\n",
              "      <td>Clara Callan</td>\n",
              "      <td>Richard Bruce Wright</td>\n",
              "      <td>2001</td>\n",
              "      <td>HarperFlamingo Canada</td>\n",
              "      <td>http://images.amazon.com/images/P/0002005018.0...</td>\n",
              "      <td>http://images.amazon.com/images/P/0002005018.0...</td>\n",
              "      <td>http://images.amazon.com/images/P/0002005018.0...</td>\n",
              "      <td>41385.0</td>\n",
              "      <td>0.0</td>\n",
              "    </tr>\n",
              "  </tbody>\n",
              "</table>\n",
              "</div>"
            ],
            "text/plain": [
              "         ISBN           Book-Title           Book-Author Year-Of-Publication  \\\n",
              "0  0195153448  Classical Mythology    Mark P. O. Morford                2002   \n",
              "1  0002005018         Clara Callan  Richard Bruce Wright                2001   \n",
              "2  0002005018         Clara Callan  Richard Bruce Wright                2001   \n",
              "3  0002005018         Clara Callan  Richard Bruce Wright                2001   \n",
              "4  0002005018         Clara Callan  Richard Bruce Wright                2001   \n",
              "\n",
              "                 Publisher                                        Image-URL-S  \\\n",
              "0  Oxford University Press  http://images.amazon.com/images/P/0195153448.0...   \n",
              "1    HarperFlamingo Canada  http://images.amazon.com/images/P/0002005018.0...   \n",
              "2    HarperFlamingo Canada  http://images.amazon.com/images/P/0002005018.0...   \n",
              "3    HarperFlamingo Canada  http://images.amazon.com/images/P/0002005018.0...   \n",
              "4    HarperFlamingo Canada  http://images.amazon.com/images/P/0002005018.0...   \n",
              "\n",
              "                                         Image-URL-M  \\\n",
              "0  http://images.amazon.com/images/P/0195153448.0...   \n",
              "1  http://images.amazon.com/images/P/0002005018.0...   \n",
              "2  http://images.amazon.com/images/P/0002005018.0...   \n",
              "3  http://images.amazon.com/images/P/0002005018.0...   \n",
              "4  http://images.amazon.com/images/P/0002005018.0...   \n",
              "\n",
              "                                         Image-URL-L  User-ID  Book-Rating  \n",
              "0  http://images.amazon.com/images/P/0195153448.0...      2.0          0.0  \n",
              "1  http://images.amazon.com/images/P/0002005018.0...      8.0          5.0  \n",
              "2  http://images.amazon.com/images/P/0002005018.0...  11400.0          0.0  \n",
              "3  http://images.amazon.com/images/P/0002005018.0...  11676.0          8.0  \n",
              "4  http://images.amazon.com/images/P/0002005018.0...  41385.0          0.0  "
            ]
          },
          "execution_count": 10,
          "metadata": {},
          "output_type": "execute_result"
        }
      ],
      "source": [
        "# Merging the books and ratings dataframes to analyse the book titles in conjunction with the ratings.\n",
        "df_ratings_books = books.merge(ratings, how='left', on='ISBN')\n",
        "df_ratings_books.head()"
      ]
    },
    {
      "cell_type": "code",
      "execution_count": 11,
      "metadata": {
        "colab": {
          "base_uri": "https://localhost:8080/"
        },
        "id": "jby6a3rje6o8",
        "outputId": "c3ab25a8-27e2-4d48-82f2-fb08dae4d3ad"
      },
      "outputs": [
        {
          "name": "stdout",
          "output_type": "stream",
          "text": [
            "<class 'pandas.core.frame.DataFrame'>\n",
            "RangeIndex: 1032345 entries, 0 to 1032344\n",
            "Data columns (total 10 columns):\n",
            " #   Column               Non-Null Count    Dtype  \n",
            "---  ------               --------------    -----  \n",
            " 0   ISBN                 1032345 non-null  object \n",
            " 1   Book-Title           1032345 non-null  object \n",
            " 2   Book-Author          1032343 non-null  object \n",
            " 3   Year-Of-Publication  1032345 non-null  object \n",
            " 4   Publisher            1032343 non-null  object \n",
            " 5   Image-URL-S          1032345 non-null  object \n",
            " 6   Image-URL-M          1032345 non-null  object \n",
            " 7   Image-URL-L          1032341 non-null  object \n",
            " 8   User-ID              1031136 non-null  float64\n",
            " 9   Book-Rating          1031136 non-null  float64\n",
            "dtypes: float64(2), object(8)\n",
            "memory usage: 78.8+ MB\n"
          ]
        }
      ],
      "source": [
        "df_ratings_books.info()"
      ]
    },
    {
      "cell_type": "code",
      "execution_count": 12,
      "metadata": {
        "colab": {
          "base_uri": "https://localhost:8080/"
        },
        "id": "NY73Rvn9e6o8",
        "outputId": "0ae6ddc9-3921-4af3-ff83-3fea3bf9d369"
      },
      "outputs": [
        {
          "data": {
            "text/plain": [
              "ISBN                      0\n",
              "Book-Title                0\n",
              "Book-Author               2\n",
              "Year-Of-Publication       0\n",
              "Publisher                 2\n",
              "Image-URL-S               0\n",
              "Image-URL-M               0\n",
              "Image-URL-L               4\n",
              "User-ID                1209\n",
              "Book-Rating            1209\n",
              "dtype: int64"
            ]
          },
          "execution_count": 12,
          "metadata": {},
          "output_type": "execute_result"
        }
      ],
      "source": [
        "# Understanding the NULL situation :)\n",
        "df_ratings_books.isnull().sum()"
      ]
    },
    {
      "cell_type": "code",
      "execution_count": 13,
      "metadata": {
        "colab": {
          "base_uri": "https://localhost:8080/",
          "height": 394
        },
        "id": "3Tm6popGe6o9",
        "outputId": "ebd4d85e-7486-45ae-a1ce-1140162801ed"
      },
      "outputs": [
        {
          "data": {
            "text/html": [
              "<div>\n",
              "<style scoped>\n",
              "    .dataframe tbody tr th:only-of-type {\n",
              "        vertical-align: middle;\n",
              "    }\n",
              "\n",
              "    .dataframe tbody tr th {\n",
              "        vertical-align: top;\n",
              "    }\n",
              "\n",
              "    .dataframe thead th {\n",
              "        text-align: right;\n",
              "    }\n",
              "</style>\n",
              "<table border=\"1\" class=\"dataframe\">\n",
              "  <thead>\n",
              "    <tr style=\"text-align: right;\">\n",
              "      <th></th>\n",
              "      <th>count</th>\n",
              "      <th>mean</th>\n",
              "    </tr>\n",
              "    <tr>\n",
              "      <th>Book-Title</th>\n",
              "      <th></th>\n",
              "      <th></th>\n",
              "    </tr>\n",
              "  </thead>\n",
              "  <tbody>\n",
              "    <tr>\n",
              "      <th>Wild Animus</th>\n",
              "      <td>2502</td>\n",
              "      <td>1.019584</td>\n",
              "    </tr>\n",
              "    <tr>\n",
              "      <th>The Lovely Bones: A Novel</th>\n",
              "      <td>1295</td>\n",
              "      <td>4.468726</td>\n",
              "    </tr>\n",
              "    <tr>\n",
              "      <th>The Da Vinci Code</th>\n",
              "      <td>898</td>\n",
              "      <td>4.642539</td>\n",
              "    </tr>\n",
              "    <tr>\n",
              "      <th>A Painted House</th>\n",
              "      <td>838</td>\n",
              "      <td>3.231504</td>\n",
              "    </tr>\n",
              "    <tr>\n",
              "      <th>The Nanny Diaries: A Novel</th>\n",
              "      <td>828</td>\n",
              "      <td>3.530193</td>\n",
              "    </tr>\n",
              "    <tr>\n",
              "      <th>Bridget Jones's Diary</th>\n",
              "      <td>815</td>\n",
              "      <td>3.527607</td>\n",
              "    </tr>\n",
              "    <tr>\n",
              "      <th>The Secret Life of Bees</th>\n",
              "      <td>774</td>\n",
              "      <td>4.447028</td>\n",
              "    </tr>\n",
              "    <tr>\n",
              "      <th>Divine Secrets of the Ya-Ya Sisterhood: A Novel</th>\n",
              "      <td>740</td>\n",
              "      <td>3.437838</td>\n",
              "    </tr>\n",
              "    <tr>\n",
              "      <th>The Red Tent (Bestselling Backlist)</th>\n",
              "      <td>723</td>\n",
              "      <td>4.334716</td>\n",
              "    </tr>\n",
              "    <tr>\n",
              "      <th>Angels &amp;amp; Demons</th>\n",
              "      <td>670</td>\n",
              "      <td>3.708955</td>\n",
              "    </tr>\n",
              "  </tbody>\n",
              "</table>\n",
              "</div>"
            ],
            "text/plain": [
              "                                                 count      mean\n",
              "Book-Title                                                      \n",
              "Wild Animus                                       2502  1.019584\n",
              "The Lovely Bones: A Novel                         1295  4.468726\n",
              "The Da Vinci Code                                  898  4.642539\n",
              "A Painted House                                    838  3.231504\n",
              "The Nanny Diaries: A Novel                         828  3.530193\n",
              "Bridget Jones's Diary                              815  3.527607\n",
              "The Secret Life of Bees                            774  4.447028\n",
              "Divine Secrets of the Ya-Ya Sisterhood: A Novel    740  3.437838\n",
              "The Red Tent (Bestselling Backlist)                723  4.334716\n",
              "Angels &amp; Demons                                670  3.708955"
            ]
          },
          "execution_count": 13,
          "metadata": {},
          "output_type": "execute_result"
        }
      ],
      "source": [
        "# Getting the overall book rating\n",
        "check = df_ratings_books.groupby(\"Book-Title\").agg({\"Book-Rating\":[\"count\",\"mean\"]})\n",
        "check = check.droplevel(0, axis = 1)\n",
        "# Sorting book titles based on highest 'count'\n",
        "check = check.sort_values(\"count\", ascending = False)\n",
        "check.head(10)\n",
        "# We see that Wild Animus is an extremely popular book even though no one likes it apparently"
      ]
    },
    {
      "cell_type": "code",
      "execution_count": 14,
      "metadata": {
        "colab": {
          "base_uri": "https://localhost:8080/",
          "height": 472
        },
        "id": "WYNXK3Nte6o9",
        "outputId": "20a276e3-afb0-46ae-da51-0fbb91e6cff6"
      },
      "outputs": [
        {
          "data": {
            "image/png": "[encoded data removed]",
            "text/plain": [
              "<Figure size 640x480 with 1 Axes>"
            ]
          },
          "metadata": {},
          "output_type": "display_data"
        }
      ],
      "source": [
        "# Finding out the average book rating\n",
        "average_book_rating = df_ratings_books.groupby(\"Book-Title\")[\"Book-Rating\"].mean()\n",
        "sns.histplot(data = average_book_rating, bins = 40)\n",
        "plt.title(\"Average Book Rating\")\n",
        "plt.xlabel(\"Book Rating (1 - 10)\")\n",
        "plt.ylabel(\"Count\")\n",
        "plt.show()"
      ]
    },
    {
      "cell_type": "code",
      "execution_count": 15,
      "metadata": {
        "colab": {
          "base_uri": "https://localhost:8080/",
          "height": 466
        },
        "id": "9Yeg02HQe6o-",
        "outputId": "dc05e233-c6d1-4480-f3a3-14b00a738e86"
      },
      "outputs": [
        {
          "data": {
            "text/plain": [
              "<Axes: xlabel='Age', ylabel='Count'>"
            ]
          },
          "execution_count": 15,
          "metadata": {},
          "output_type": "execute_result"
        },
        {
          "data": {
            "image/png": "[encoded data removed]",
            "text/plain": [
              "<Figure size 640x480 with 1 Axes>"
            ]
          },
          "metadata": {},
          "output_type": "display_data"
        }
      ],
      "source": [
        "#Getting an understanding of the age demographic of the dataset and how it can be potentially used.\n",
        "sns.histplot(data = users[\"Age\"], bins = 40)"
      ]
    },
    {
      "cell_type": "code",
      "execution_count": 16,
      "metadata": {
        "colab": {
          "base_uri": "https://localhost:8080/",
          "height": 708
        },
        "id": "O1gThBu9e6o-",
        "outputId": "80d671bd-62c7-4f83-bacc-e7fc7750e24e"
      },
      "outputs": [
        {
          "data": {
            "text/html": [
              "<div>\n",
              "<style scoped>\n",
              "    .dataframe tbody tr th:only-of-type {\n",
              "        vertical-align: middle;\n",
              "    }\n",
              "\n",
              "    .dataframe tbody tr th {\n",
              "        vertical-align: top;\n",
              "    }\n",
              "\n",
              "    .dataframe thead th {\n",
              "        text-align: right;\n",
              "    }\n",
              "</style>\n",
              "<table border=\"1\" class=\"dataframe\">\n",
              "  <thead>\n",
              "    <tr style=\"text-align: right;\">\n",
              "      <th></th>\n",
              "      <th>count</th>\n",
              "      <th>mean</th>\n",
              "    </tr>\n",
              "    <tr>\n",
              "      <th>Book-Title</th>\n",
              "      <th></th>\n",
              "      <th></th>\n",
              "    </tr>\n",
              "  </thead>\n",
              "  <tbody>\n",
              "    <tr>\n",
              "      <th>The Lovely Bones: A Novel</th>\n",
              "      <td>1295</td>\n",
              "      <td>4.468726</td>\n",
              "    </tr>\n",
              "    <tr>\n",
              "      <th>The Da Vinci Code</th>\n",
              "      <td>898</td>\n",
              "      <td>4.642539</td>\n",
              "    </tr>\n",
              "    <tr>\n",
              "      <th>The Secret Life of Bees</th>\n",
              "      <td>774</td>\n",
              "      <td>4.447028</td>\n",
              "    </tr>\n",
              "    <tr>\n",
              "      <th>The Red Tent (Bestselling Backlist)</th>\n",
              "      <td>723</td>\n",
              "      <td>4.334716</td>\n",
              "    </tr>\n",
              "    <tr>\n",
              "      <th>Life of Pi</th>\n",
              "      <td>664</td>\n",
              "      <td>4.088855</td>\n",
              "    </tr>\n",
              "    <tr>\n",
              "      <th>Where the Heart Is (Oprah's Book Club (Paperback))</th>\n",
              "      <td>585</td>\n",
              "      <td>4.105983</td>\n",
              "    </tr>\n",
              "    <tr>\n",
              "      <th>Harry Potter and the Sorcerer's Stone (Harry Potter (Paperback))</th>\n",
              "      <td>575</td>\n",
              "      <td>4.895652</td>\n",
              "    </tr>\n",
              "    <tr>\n",
              "      <th>Harry Potter and the Chamber of Secrets (Book 2)</th>\n",
              "      <td>556</td>\n",
              "      <td>5.183453</td>\n",
              "    </tr>\n",
              "    <tr>\n",
              "      <th>Girl with a Pearl Earring</th>\n",
              "      <td>526</td>\n",
              "      <td>4.218631</td>\n",
              "    </tr>\n",
              "    <tr>\n",
              "      <th>To Kill a Mockingbird</th>\n",
              "      <td>510</td>\n",
              "      <td>4.700000</td>\n",
              "    </tr>\n",
              "    <tr>\n",
              "      <th>Tuesdays with Morrie: An Old Man, a Young Man, and Life's Greatest Lesson</th>\n",
              "      <td>493</td>\n",
              "      <td>4.354970</td>\n",
              "    </tr>\n",
              "    <tr>\n",
              "      <th>Good in Bed</th>\n",
              "      <td>490</td>\n",
              "      <td>4.055102</td>\n",
              "    </tr>\n",
              "    <tr>\n",
              "      <th>The Catcher in the Rye</th>\n",
              "      <td>449</td>\n",
              "      <td>4.545657</td>\n",
              "    </tr>\n",
              "    <tr>\n",
              "      <th>The Five People You Meet in Heaven</th>\n",
              "      <td>430</td>\n",
              "      <td>4.551163</td>\n",
              "    </tr>\n",
              "    <tr>\n",
              "      <th>Harry Potter and the Prisoner of Azkaban (Book 3)</th>\n",
              "      <td>428</td>\n",
              "      <td>5.852804</td>\n",
              "    </tr>\n",
              "    <tr>\n",
              "      <th>Fahrenheit 451</th>\n",
              "      <td>409</td>\n",
              "      <td>4.264059</td>\n",
              "    </tr>\n",
              "    <tr>\n",
              "      <th>The Bean Trees</th>\n",
              "      <td>389</td>\n",
              "      <td>4.087404</td>\n",
              "    </tr>\n",
              "    <tr>\n",
              "      <th>Harry Potter and the Goblet of Fire (Book 4)</th>\n",
              "      <td>387</td>\n",
              "      <td>5.824289</td>\n",
              "    </tr>\n",
              "    <tr>\n",
              "      <th>The Fellowship of the Ring (The Lord of the Rings, Part 1)</th>\n",
              "      <td>368</td>\n",
              "      <td>4.948370</td>\n",
              "    </tr>\n",
              "    <tr>\n",
              "      <th>Harry Potter and the Order of the Phoenix (Book 5)</th>\n",
              "      <td>347</td>\n",
              "      <td>5.501441</td>\n",
              "    </tr>\n",
              "  </tbody>\n",
              "</table>\n",
              "</div>"
            ],
            "text/plain": [
              "                                                    count      mean\n",
              "Book-Title                                                         \n",
              "The Lovely Bones: A Novel                            1295  4.468726\n",
              "The Da Vinci Code                                     898  4.642539\n",
              "The Secret Life of Bees                               774  4.447028\n",
              "The Red Tent (Bestselling Backlist)                   723  4.334716\n",
              "Life of Pi                                            664  4.088855\n",
              "Where the Heart Is (Oprah's Book Club (Paperback))    585  4.105983\n",
              "Harry Potter and the Sorcerer's Stone (Harry Po...    575  4.895652\n",
              "Harry Potter and the Chamber of Secrets (Book 2)      556  5.183453\n",
              "Girl with a Pearl Earring                             526  4.218631\n",
              "To Kill a Mockingbird                                 510  4.700000\n",
              "Tuesdays with Morrie: An Old Man, a Young Man, ...    493  4.354970\n",
              "Good in Bed                                           490  4.055102\n",
              "The Catcher in the Rye                                449  4.545657\n",
              "The Five People You Meet in Heaven                    430  4.551163\n",
              "Harry Potter and the Prisoner of Azkaban (Book 3)     428  5.852804\n",
              "Fahrenheit 451                                        409  4.264059\n",
              "The Bean Trees                                        389  4.087404\n",
              "Harry Potter and the Goblet of Fire (Book 4)          387  5.824289\n",
              "The Fellowship of the Ring (The Lord of the Rin...    368  4.948370\n",
              "Harry Potter and the Order of the Phoenix (Book 5)    347  5.501441"
            ]
          },
          "execution_count": 16,
          "metadata": {},
          "output_type": "execute_result"
        }
      ],
      "source": [
        "# So what books do people actually seem to like?\n",
        "check = check[check[\"mean\"] > 4].sort_values(\"count\", ascending=False)\n",
        "check.head(20)"
      ]
    },
    {
      "cell_type": "code",
      "execution_count": 17,
      "metadata": {
        "id": "DAa0AD8mhCKF"
      },
      "outputs": [],
      "source": [
        "# Now we actually see some books that we recognise, not just Wild Animus apparently."
      ]
    },
    {
      "cell_type": "code",
      "execution_count": 18,
      "metadata": {
        "id": "qZMBibiRe6o-"
      },
      "outputs": [],
      "source": [
        "# Getting an understanding of how active users are when they are giving reviews\n",
        "ratings_per_user = df_ratings_books.groupby(\"User-ID\").count()[\"Book-Rating\"]\n",
        "Q1 = ratings_per_user.quantile(0.25)\n",
        "Q3 = ratings_per_user.quantile(0.75)\n",
        "IQR = Q3 - Q1\n",
        "\n",
        "lower_bound = Q1 - 1.5 * IQR\n",
        "upper_bound = Q3 + 1.5 * IQR\n",
        "\n",
        "filtered_review_counts = ratings_per_user[(ratings_per_user >= lower_bound) & (ratings_per_user <= upper_bound)]"
      ]
    },
    {
      "cell_type": "code",
      "execution_count": 19,
      "metadata": {
        "colab": {
          "base_uri": "https://localhost:8080/",
          "height": 489
        },
        "id": "i9k9FcJ8e6o-",
        "outputId": "06dd492f-3ace-4623-813d-a45549feff31"
      },
      "outputs": [
        {
          "data": {
            "text/plain": [
              "Text(0.5, 1.0, 'Distribution of Number of Reviews Per User')"
            ]
          },
          "execution_count": 19,
          "metadata": {},
          "output_type": "execute_result"
        },
        {
          "data": {
            "image/png": "[encoded data removed]",
            "text/plain": [
              "<Figure size 640x480 with 1 Axes>"
            ]
          },
          "metadata": {},
          "output_type": "display_data"
        }
      ],
      "source": [
        "sns.histplot(data = filtered_review_counts, bins = 8)\n",
        "plt.title(\"Distribution of Number of Reviews Per User\")"
      ]
    },
    {
      "cell_type": "markdown",
      "metadata": {
        "id": "JkU-LRCoe6o-"
      },
      "source": [
        "We can see the vast majority of people only leave one review, which is not very useful for collaborative filtering or calculating cosine similarity"
      ]
    },
    {
      "cell_type": "code",
      "execution_count": 20,
      "metadata": {
        "colab": {
          "base_uri": "https://localhost:8080/",
          "height": 489
        },
        "id": "UKkydfREe6o-",
        "outputId": "9aa2bac9-33b2-42b4-ec38-d8c84cc76ba4"
      },
      "outputs": [
        {
          "data": {
            "text/plain": [
              "Text(0.5, 1.0, 'Distribution of Number of Reviews Per User')"
            ]
          },
          "execution_count": 20,
          "metadata": {},
          "output_type": "execute_result"
        },
        {
          "data": {
            "image/png": "[encoded data removed]",
            "text/plain": [
              "<Figure size 640x480 with 1 Axes>"
            ]
          },
          "metadata": {},
          "output_type": "display_data"
        }
      ],
      "source": [
        "relevant_review_counts = ratings_per_user[(ratings_per_user >= 50) & (ratings_per_user < 5000)]\n",
        "sns.histplot(data = relevant_review_counts, bins = 8)\n",
        "plt.title(\"Distribution of Number of Reviews Per User\")"
      ]
    },
    {
      "cell_type": "markdown",
      "metadata": {
        "id": "LyM1XSJpe6o_"
      },
      "source": [
        "We have to make a decision, a cutoff, a balance between enough total data points and enough reviews to be considered in collaborative filtering."
      ]
    },
    {
      "cell_type": "code",
      "execution_count": 21,
      "metadata": {
        "id": "YaOe1Rmhe6o_"
      },
      "outputs": [],
      "source": [
        "new = df_ratings_books.groupby(\"User-ID\").count()['Book-Rating'] > 100\n",
        "user_id_rating_index = new[new].index"
      ]
    },
    {
      "cell_type": "code",
      "execution_count": 22,
      "metadata": {
        "id": "Ylhtng7oe6o_"
      },
      "outputs": [],
      "source": [
        "filtered_rating = df_ratings_books[df_ratings_books[\"User-ID\"].isin(user_id_rating_index)]"
      ]
    },
    {
      "cell_type": "code",
      "execution_count": 23,
      "metadata": {
        "id": "wqXpaJ1Fe6o_"
      },
      "outputs": [],
      "source": [
        "y = filtered_rating.groupby('Book-Title').count()['Book-Rating']>= 50\n",
        "book_title_rating_index = y[y].index"
      ]
    },
    {
      "cell_type": "code",
      "execution_count": 24,
      "metadata": {
        "colab": {
          "base_uri": "https://localhost:8080/"
        },
        "id": "aeD8OMete6o_",
        "outputId": "530b5f0e-60e7-4ab2-87d2-35c8131f0ed1"
      },
      "outputs": [
        {
          "name": "stdout",
          "output_type": "stream",
          "text": [
            "                                             Book-Title  Book-Rating   User-ID\n",
            "31                               The Kitchen God's Wife          9.0   11676.0\n",
            "32                               The Kitchen God's Wife          9.0   29526.0\n",
            "33                               The Kitchen God's Wife          0.0   36836.0\n",
            "34                               The Kitchen God's Wife          9.0   46398.0\n",
            "38                               The Kitchen God's Wife          0.0  113270.0\n",
            "...                                                 ...          ...       ...\n",
            "1029730                                     The Promise          7.0  239594.0\n",
            "1029943                        The Pillars of the Earth          0.0  240144.0\n",
            "1029945                             The Handmaid's Tale          0.0  240144.0\n",
            "1031642                                       Lightning          9.0  244685.0\n",
            "1032154  The Two Towers (The Lord of the Rings, Part 2)         10.0  259901.0\n",
            "\n",
            "[97540 rows x 3 columns]\n"
          ]
        }
      ],
      "source": [
        "final_ratings = filtered_rating[filtered_rating['Book-Title'].isin(book_title_rating_index)]\n",
        "print(final_ratings[['Book-Title','Book-Rating','User-ID']])"
      ]
    },
    {
      "cell_type": "code",
      "execution_count": 25,
      "metadata": {
        "id": "1VJkf5Zwe6o_"
      },
      "outputs": [],
      "source": [
        "collab_grid = final_ratings.pivot_table(index='Book-Title',columns='User-ID',values='Book-Rating')"
      ]
    },
    {
      "cell_type": "code",
      "execution_count": 26,
      "metadata": {
        "id": "5CdM7ro7e6o_"
      },
      "outputs": [],
      "source": [
        "collab_grid.fillna(0,inplace=True)"
      ]
    },
    {
      "cell_type": "code",
      "execution_count": 27,
      "metadata": {
        "colab": {
          "base_uri": "https://localhost:8080/"
        },
        "id": "voK7TtO0e6o_",
        "outputId": "58f4ca34-7c4c-4f30-d638-fd69dd308914"
      },
      "outputs": [
        {
          "data": {
            "text/plain": [
              "User-ID\n",
              "254.0       9.0\n",
              "507.0       0.0\n",
              "882.0       0.0\n",
              "1424.0      0.0\n",
              "1435.0      0.0\n",
              "           ... \n",
              "277478.0    0.0\n",
              "277639.0    0.0\n",
              "278137.0    0.0\n",
              "278188.0    0.0\n",
              "278418.0    0.0\n",
              "Name: 1984, Length: 1634, dtype: float64"
            ]
          },
          "execution_count": 27,
          "metadata": {},
          "output_type": "execute_result"
        }
      ],
      "source": [
        "collab_grid.loc['1984']"
      ]
    },
    {
      "cell_type": "code",
      "execution_count": 28,
      "metadata": {
        "id": "95Km9G4ve6o_"
      },
      "outputs": [],
      "source": [
        "#Using collaborative filtering with cosine similarity\n",
        "cosine_sim_grid = cosine_similarity(collab_grid)"
      ]
    },
    {
      "cell_type": "code",
      "execution_count": 29,
      "metadata": {
        "colab": {
          "base_uri": "https://localhost:8080/"
        },
        "id": "VfpqpOHKe6o_",
        "outputId": "6cc32760-d094-4632-9104-5e8676cb9ec9"
      },
      "outputs": [
        {
          "data": {
            "text/plain": [
              "(1070, 1070)"
            ]
          },
          "execution_count": 29,
          "metadata": {},
          "output_type": "execute_result"
        }
      ],
      "source": [
        "cosine_sim_grid.shape"
      ]
    },
    {
      "cell_type": "code",
      "execution_count": 30,
      "metadata": {
        "colab": {
          "base_uri": "https://localhost:8080/"
        },
        "id": "mYcgfRA_e6o_",
        "outputId": "6b23c642-7965-4f68-9d7c-38649bb22e6f"
      },
      "outputs": [
        {
          "data": {
            "text/plain": [
              "array([[1.        , 0.06550754, 0.09317747, ..., 0.07547772, 0.05810769,\n",
              "        0.03029366],\n",
              "       [0.06550754, 1.        , 0.02247675, ..., 0.04739871, 0.13548709,\n",
              "        0.12388301],\n",
              "       [0.09317747, 0.02247675, 1.        , ..., 0.09310325, 0.        ,\n",
              "        0.        ],\n",
              "       ...,\n",
              "       [0.07547772, 0.04739871, 0.09310325, ..., 1.        , 0.05583662,\n",
              "        0.0137213 ],\n",
              "       [0.05810769, 0.13548709, 0.        , ..., 0.05583662, 1.        ,\n",
              "        0.09410287],\n",
              "       [0.03029366, 0.12388301, 0.        , ..., 0.0137213 , 0.09410287,\n",
              "        1.        ]])"
            ]
          },
          "execution_count": 30,
          "metadata": {},
          "output_type": "execute_result"
        }
      ],
      "source": [
        "cosine_sim_grid"
      ]
    },
    {
      "cell_type": "code",
      "execution_count": 31,
      "metadata": {
        "id": "ZqrsT9ede6o_"
      },
      "outputs": [],
      "source": [
        "import heapq\n",
        "\n",
        "def recommend_book(book_name):\n",
        "    index = np.where(collab_grid.index==book_name)[0][0]\n",
        "    top_similar_items =  heapq.nlargest(6, enumerate(cosine_sim_grid[index]), key=lambda x: x[1])\n",
        "    similar_items = top_similar_items[1:]\n",
        "\n",
        "    item_details = []\n",
        "\n",
        "    similar_book_indices = [i[0] for i in similar_items]\n",
        "    # Find the titles of similar books\n",
        "    similar_books_titles = collab_grid.index[similar_book_indices]\n",
        "\n",
        "    # Filter the books DataFrame for the similar books\n",
        "    similar_books_df = books[books['Book-Title'].isin(similar_books_titles)]\n",
        "    # Drop duplicates to ensure each book is represented once\n",
        "    similar_books_df_unique = similar_books_df.drop_duplicates(subset='Book-Title', keep='first')\n",
        "\n",
        "    # Select required columns\n",
        "    data = similar_books_df_unique[['Book-Title', 'Book-Author', 'Image-URL-M']].values.tolist()\n",
        "\n",
        "    return data\n"
      ]
    },
    {
      "cell_type": "code",
      "execution_count": 32,
      "metadata": {
        "colab": {
          "base_uri": "https://localhost:8080/"
        },
        "id": "EZXF5v6Me6o_",
        "outputId": "e71d0291-e85b-4700-9c2e-2c8a63b34b63"
      },
      "outputs": [
        {
          "data": {
            "text/plain": [
              "[['The Catcher in the Rye',\n",
              "  'J.D. Salinger',\n",
              "  'http://images.amazon.com/images/P/0316769487.01.MZZZZZZZ.jpg'],\n",
              " ['1984',\n",
              "  'George Orwell',\n",
              "  'http://images.amazon.com/images/P/0451524934.01.MZZZZZZZ.jpg'],\n",
              " ['Brave New World',\n",
              "  'Aldous Huxley',\n",
              "  'http://images.amazon.com/images/P/0060809833.01.MZZZZZZZ.jpg'],\n",
              " ['Angus, Thongs and Full-Frontal Snogging: Confessions of Georgia Nicolson',\n",
              "  'Louise Rennison',\n",
              "  'http://images.amazon.com/images/P/0064472272.01.MZZZZZZZ.jpg'],\n",
              " ['Second Nature',\n",
              "  'Alice Hoffman',\n",
              "  'http://images.amazon.com/images/P/0399139087.01.MZZZZZZZ.jpg']]"
            ]
          },
          "execution_count": 32,
          "metadata": {},
          "output_type": "execute_result"
        }
      ],
      "source": [
        "recommend_book('Animal Farm')"
      ]
    },
    {
      "cell_type": "markdown",
      "metadata": {
        "id": "yFEcowMUe6o_"
      },
      "source": [
        "# Collaborative Filtering w/ Locality Sensitive Hashing\n",
        "\n",
        "Locality-Sensitive Hashing (LSH) offers several advantages, particularly in the context of handling high-dimensional data and facilitating efficient similarity search, which are critical in applications like recommendation systems, near-duplicate detection, and image or document retrieval.\n",
        "\n",
        "One of the primary benefits of LSH is its ability to reduce dimensionality and search space significantly, enabling faster query processing times compared to exhaustive search methods, especially in large datasets. By grouping similar items into the same \"buckets\" with a high probability, LSH maintains an admirable balance between accuracy and computational efficiency, allowing for near-real-time querying. Furthermore, LSH's flexibility in choosing hash functions and parameters tailored to specific similarity measures (e.g., Jaccard, cosine) enhances its effectiveness across various data types and applications.\n",
        "\n",
        "This method scales well with data size and dimensionality, making it highly suitable for big data scenarios where traditional methods falter due to the \"curse of dimensionality.\""
      ]
    },
    {
      "cell_type": "markdown",
      "metadata": {
        "id": "IoWtNqTOe6o_"
      },
      "source": [
        "Since we used cosine similarity for our initial recommendation system. A random projection based LSH would be more appropriate but if we were instead using a Jaccard based similarity a MinHash system would be more appropriate."
      ]
    },
    {
      "cell_type": "code",
      "execution_count": 33,
      "metadata": {
        "colab": {
          "base_uri": "https://localhost:8080/"
        },
        "id": "XOVIlJtie6o_",
        "outputId": "93a799f3-1d33-4915-ad8a-068ec6d4fa46"
      },
      "outputs": [
        {
          "data": {
            "text/plain": [
              "(1070, 1634)"
            ]
          },
          "execution_count": 33,
          "metadata": {},
          "output_type": "execute_result"
        }
      ],
      "source": [
        "ex = collab_grid.to_numpy()\n",
        "ex.shape"
      ]
    },
    {
      "cell_type": "code",
      "execution_count": 34,
      "metadata": {
        "colab": {
          "base_uri": "https://localhost:8080/"
        },
        "id": "3buDg_O_6p_S",
        "outputId": "8525a5cd-c3fd-427b-c34e-fb0dda22ef5a"
      },
      "outputs": [
        {
          "data": {
            "text/plain": [
              "array([[9., 0., 0., ..., 0., 0., 0.],\n",
              "       [0., 0., 0., ..., 0., 0., 0.],\n",
              "       [0., 0., 0., ..., 0., 0., 0.],\n",
              "       ...,\n",
              "       [0., 0., 0., ..., 0., 0., 0.],\n",
              "       [0., 0., 0., ..., 0., 0., 0.],\n",
              "       [0., 0., 0., ..., 0., 0., 0.]])"
            ]
          },
          "execution_count": 34,
          "metadata": {},
          "output_type": "execute_result"
        }
      ],
      "source": [
        "ex"
      ]
    },
    {
      "cell_type": "code",
      "execution_count": 35,
      "metadata": {
        "colab": {
          "base_uri": "https://localhost:8080/"
        },
        "id": "SwYBnp3ae6o_",
        "outputId": "7cdb3af1-56be-45a4-effa-818bbb34f1c8"
      },
      "outputs": [
        {
          "name": "stdout",
          "output_type": "stream",
          "text": [
            "Requirement already satisfied: faiss-cpu in c:\\users\\suij2\\anaconda3\\lib\\site-packages (1.8.0)\n",
            "Requirement already satisfied: numpy in c:\\users\\suij2\\anaconda3\\lib\\site-packages (from faiss-cpu) (1.26.4)\n"
          ]
        }
      ],
      "source": [
        "!pip install faiss-cpu"
      ]
    },
    {
      "cell_type": "markdown",
      "metadata": {
        "id": "Z5YgTdcGe6pA"
      },
      "source": [
        "\n",
        "Faiss, developed by Facebook AI Research (FAIR), is a comprehensive library for efficient similarity search and clustering of dense vectors. It excels in handling large datasets, allowing for rapid retrieval of items similar to a given query, which is crucial for tasks like recommendation systems, image search, and clustering.\n",
        "\n",
        "The `IndexLSH` in Faiss is specifically designed for handling high-dimensional data through the use of Locality-Sensitive Hashing (LSH). LSH is a technique that hashes input items in such a way that similar items map to the same \"buckets\" with high probability. This approach makes searches efficient even in very large datasets by reducing the dimensionality of the data and focusing search efforts on buckets likely to contain similar items."
      ]
    },
    {
      "cell_type": "code",
      "execution_count": 36,
      "metadata": {
        "id": "YzSADFRI6NMr"
      },
      "outputs": [],
      "source": [
        "import faiss"
      ]
    },
    {
      "cell_type": "code",
      "execution_count": 37,
      "metadata": {
        "colab": {
          "base_uri": "https://localhost:8080/"
        },
        "id": "jdIvpRIGe6pA",
        "outputId": "6d085e57-a8ef-4624-8ecd-1bee869b04d4"
      },
      "outputs": [
        {
          "data": {
            "text/plain": [
              "1634"
            ]
          },
          "execution_count": 37,
          "metadata": {},
          "output_type": "execute_result"
        }
      ],
      "source": [
        "d = ex.shape[1]\n",
        "d"
      ]
    },
    {
      "cell_type": "code",
      "execution_count": 38,
      "metadata": {
        "id": "XEumS1hZe6pA"
      },
      "outputs": [],
      "source": [
        "index = faiss.IndexLSH(d, 4)"
      ]
    },
    {
      "cell_type": "code",
      "execution_count": 39,
      "metadata": {
        "colab": {
          "base_uri": "https://localhost:8080/"
        },
        "id": "qd5jcQgGe6pG",
        "outputId": "e3b8938f-4728-48ca-e803-1194007842f8"
      },
      "outputs": [
        {
          "data": {
            "text/plain": [
              "True"
            ]
          },
          "execution_count": 39,
          "metadata": {},
          "output_type": "execute_result"
        }
      ],
      "source": [
        "index.is_trained"
      ]
    },
    {
      "cell_type": "code",
      "execution_count": 40,
      "metadata": {
        "id": "P0XWVsC9e6pG"
      },
      "outputs": [],
      "source": [
        "index.add(ex)"
      ]
    },
    {
      "cell_type": "code",
      "execution_count": 41,
      "metadata": {
        "colab": {
          "base_uri": "https://localhost:8080/"
        },
        "id": "sBd3UuHYe6pH",
        "outputId": "a668adc3-bc2e-48fb-fda5-4b3f769dbb43"
      },
      "outputs": [
        {
          "data": {
            "text/plain": [
              "(1, 1634)"
            ]
          },
          "execution_count": 41,
          "metadata": {},
          "output_type": "execute_result"
        }
      ],
      "source": [
        "queries = collab_grid.iloc[0:1].to_numpy()\n",
        "q = ex[0]\n",
        "q.reshape((1,-1))\n",
        "queries.shape"
      ]
    },
    {
      "cell_type": "code",
      "execution_count": 42,
      "metadata": {
        "id": "nZ56ItdCe6pH"
      },
      "outputs": [],
      "source": [
        "k = 100\n",
        "D, I = index.search(queries, k)"
      ]
    },
    {
      "cell_type": "code",
      "execution_count": 43,
      "metadata": {
        "colab": {
          "base_uri": "https://localhost:8080/"
        },
        "id": "BWsaTapne6pH",
        "outputId": "c034da89-6735-4686-f45a-e66956debe3f"
      },
      "outputs": [
        {
          "data": {
            "text/plain": [
              "array([[   0,   14,   38,   42,   79,   93,   99,  110,  116,  132,  144,\n",
              "         145,  162,  168,  176,  181,  190,  197,  204,  262,  263,  279,\n",
              "         310,  330,  332,  334,  369,  387,  402,  419,  463,  479,  483,\n",
              "         484,  493,  504,  505,  509,  519,  531,  535,  596,  604,  607,\n",
              "         626,  649,  650,  652,  656,  665,  673,  681,  695,  717,  722,\n",
              "         733,  744,  747,  762,  768,  777,  784,  787,  835,  841,  842,\n",
              "         859,  863,  867,  895,  898,  931,  938,  940,  948,  949,  969,\n",
              "         985,  988,  992,  996, 1021, 1029, 1037, 1038, 1057, 1060, 1067,\n",
              "           4,    6,   16,   22,   23,   26,   27,   29,   32,   36,   43,\n",
              "          46]], dtype=int64)"
            ]
          },
          "execution_count": 43,
          "metadata": {},
          "output_type": "execute_result"
        }
      ],
      "source": [
        "I"
      ]
    },
    {
      "cell_type": "code",
      "execution_count": 44,
      "metadata": {
        "colab": {
          "base_uri": "https://localhost:8080/"
        },
        "id": "SgV6PqOqe6pH",
        "outputId": "5fe8d736-3854-46d2-befd-adc4e26b8034"
      },
      "outputs": [
        {
          "data": {
            "text/plain": [
              "0.05647985076480734"
            ]
          },
          "execution_count": 44,
          "metadata": {},
          "output_type": "execute_result"
        }
      ],
      "source": [
        "cos_sim = cosine_similarity(ex[I[0]], queries)\n",
        "cos_sim.mean()"
      ]
    },
    {
      "cell_type": "code",
      "execution_count": 45,
      "metadata": {
        "colab": {
          "base_uri": "https://localhost:8080/"
        },
        "id": "2lD6KPVGe6pH",
        "outputId": "2870c982-c626-49ee-d458-165111edd24f"
      },
      "outputs": [
        {
          "data": {
            "text/plain": [
              "0.04235736615241688"
            ]
          },
          "execution_count": 45,
          "metadata": {},
          "output_type": "execute_result"
        }
      ],
      "source": [
        "cos_sim = cosine_similarity(ex, queries)\n",
        "cos_sim.mean()"
      ]
    },
    {
      "cell_type": "code",
      "execution_count": 46,
      "metadata": {
        "colab": {
          "base_uri": "https://localhost:8080/"
        },
        "id": "dDUagZyse6pH",
        "outputId": "26cb8074-8433-482a-86c3-f00fb1ab3c54"
      },
      "outputs": [
        {
          "data": {
            "text/plain": [
              "array([[0., 0., 0., 0., 0., 0., 0., 0., 0., 0., 0., 0., 0., 0., 0., 0.,\n",
              "        0., 0., 0., 0., 0., 0., 0., 0., 0., 0., 0., 0., 0., 0., 0., 0.,\n",
              "        0., 0., 0., 0., 0., 0., 0., 0., 0., 0., 0., 0., 0., 0., 0., 0.,\n",
              "        0., 0., 0., 0., 0., 0., 0., 0., 0., 0., 0., 0., 0., 0., 0., 0.,\n",
              "        0., 0., 0., 0., 0., 0., 0., 0., 0., 0., 0., 0., 0., 0., 0., 0.,\n",
              "        0., 0., 0., 0., 0., 0., 0., 0., 1., 1., 1., 1., 1., 1., 1., 1.,\n",
              "        1., 1., 1., 1.]], dtype=float32)"
            ]
          },
          "execution_count": 46,
          "metadata": {},
          "output_type": "execute_result"
        }
      ],
      "source": [
        "D"
      ]
    },
    {
      "cell_type": "code",
      "execution_count": 47,
      "metadata": {
        "colab": {
          "base_uri": "https://localhost:8080/"
        },
        "id": "NGp3_u4Ke6pH",
        "outputId": "fb6c9730-843b-4e17-b63d-d9dba9a72afb"
      },
      "outputs": [
        {
          "name": "stdout",
          "output_type": "stream",
          "text": [
            "nbits = 2\n",
            "1070 / 4 = 267.5\n",
            "nbits = 4\n",
            "1070 / 16 = 66.875\n",
            "nbits = 6\n",
            "1070 / 64 = 16.71875\n",
            "nbits = 8\n",
            "1070 / 256 = 4.1796875\n",
            "nbits = 10\n",
            "1070 / 1024 = 1.044921875\n",
            "nbits = 12\n",
            "1070 / 4096 = 0.26123046875\n",
            "nbits = 14\n",
            "1070 / 16384 = 0.0653076171875\n",
            "nbits = 16\n",
            "1070 / 65536 = 0.016326904296875\n"
          ]
        }
      ],
      "source": [
        "# Since the tendency with LSH is to have a few buckets with a significant portion of the items,\n",
        "# generally speaking it's good to have more buckets than elements to reduce the chance of false\n",
        "# positives along wiht improved precision as similar items can be clustered more tightly together.\n",
        "for nbits in [2, 4, 6, 8, 10, 12, 14, 16]:\n",
        "    buckets = 1 << nbits\n",
        "    print(f\"nbits = {nbits}\")\n",
        "    print(f\"{ex.shape[0]} / {buckets} = {ex.shape[0]/buckets}\")"
      ]
    },
    {
      "cell_type": "code",
      "execution_count": 48,
      "metadata": {
        "colab": {
          "base_uri": "https://localhost:8080/"
        },
        "id": "O9tcOZhDe6pH",
        "outputId": "c797cd57-a9cc-473c-833b-f06c6fce7e6b"
      },
      "outputs": [
        {
          "name": "stdout",
          "output_type": "stream",
          "text": [
            "nbits = 2\n",
            "sim: 0.036334443628718203\n",
            "nbits = 4\n",
            "sim: 0.06285069778358147\n",
            "nbits = 8\n",
            "sim: 0.03845606050944478\n",
            "nbits = 16\n",
            "sim: 0.03142432326560882\n",
            "nbits = 24\n",
            "sim: 0.03771130270095232\n",
            "nbits = 32\n",
            "sim: 0.05272186992192931\n",
            "nbits = 48\n",
            "sim: 0.03494501523950675\n",
            "nbits = 64\n",
            "sim: 0.04589483665944031\n",
            "nbits = 128\n",
            "sim: 0.043021838419761274\n",
            "nbits = 256\n",
            "sim: 0.03931886801025212\n",
            "nbits = 512\n",
            "sim: 0.047161754765130307\n",
            "nbits = 768\n",
            "sim: 0.04187253958641512\n"
          ]
        }
      ],
      "source": [
        "#Choosing Good Buckets\n",
        "\n",
        "for nbits in [2, 4, 8, 16, 24, 32, 48, 64, 128, 256, 512, 768]:\n",
        "    index = faiss.IndexLSH(d, nbits)\n",
        "    index.add(ex)\n",
        "    D, I = index.search(ex[6].reshape((1,-1)), k)\n",
        "    cos = cosine_similarity(ex[I[0]], queries)\n",
        "    print(f\"nbits = {nbits}\")\n",
        "    print(f\"sim: {cos.mean()}\")"
      ]
    },
    {
      "cell_type": "code",
      "execution_count": 49,
      "metadata": {
        "colab": {
          "base_uri": "https://localhost:8080/"
        },
        "id": "CIai6ZEke6pH",
        "outputId": "709e9793-1f0e-451c-bd0d-4cee0e196c16"
      },
      "outputs": [
        {
          "data": {
            "text/plain": [
              "65536"
            ]
          },
          "execution_count": 49,
          "metadata": {},
          "output_type": "execute_result"
        }
      ],
      "source": [
        "buckets"
      ]
    },
    {
      "cell_type": "code",
      "execution_count": 50,
      "metadata": {
        "id": "AHrfiH1Ye6pH"
      },
      "outputs": [],
      "source": [
        "def recommend_book_lsh(book_name,  n_neighbours: int, nbits=512):\n",
        "    book_index = np.where(collab_grid.index==book_name)[0][0]\n",
        "    index = faiss.IndexLSH(ex.shape[1], nbits)\n",
        "    index.add(ex)\n",
        "    query = ex[book_index].reshape((1,-1))\n",
        "    D, I = index.search(query, n_neighbours + 1)\n",
        "\n",
        "    similar_book_indices = I[0][1:]  # Exclude the first item (itself)\n",
        "\n",
        "    # Find the titles of similar books\n",
        "    similar_books_titles = collab_grid.index[similar_book_indices]\n",
        "\n",
        "    # Filter the books DataFrame for the similar books\n",
        "    similar_books_df = books[books['Book-Title'].isin(similar_books_titles)]\n",
        "    # Drop duplicates to ensure each book is represented once\n",
        "    similar_books_df_unique = similar_books_df.drop_duplicates(subset='Book-Title', keep='first')\n",
        "\n",
        "    # Select required columns\n",
        "    data = similar_books_df_unique[['Book-Title', 'Book-Author', 'Image-URL-M']].values.tolist()\n",
        "\n",
        "    return data\n",
        "\n",
        "\n",
        "\n",
        "\n"
      ]
    },
    {
      "cell_type": "code",
      "execution_count": 343,
      "metadata": {
        "colab": {
          "base_uri": "https://localhost:8080/"
        },
        "id": "XsKew9Nhe6pH",
        "outputId": "29e56b7c-1cf2-4d7a-b1bc-baaa334b8900"
      },
      "outputs": [
        {
          "data": {
            "text/plain": [
              "[['The Joy Luck Club',\n",
              "  'Amy Tan',\n",
              "  'http://images.amazon.com/images/P/0804106304.01.MZZZZZZZ.jpg'],\n",
              " ['The Lovely Bones: A Novel',\n",
              "  'Alice Sebold',\n",
              "  'http://images.amazon.com/images/P/0316666343.01.MZZZZZZZ.jpg'],\n",
              " ['The Robber Bride',\n",
              "  'Margaret Atwood',\n",
              "  'http://images.amazon.com/images/P/0553569058.01.MZZZZZZZ.jpg'],\n",
              " ['Tell No One',\n",
              "  'Harlan Coben',\n",
              "  'http://images.amazon.com/images/P/0440236703.01.MZZZZZZZ.jpg'],\n",
              " ['Violets Are Blue',\n",
              "  'James Patterson',\n",
              "  'http://images.amazon.com/images/P/0446611212.01.MZZZZZZZ.jpg'],\n",
              " ['The Eyre Affair: A Novel',\n",
              "  'Jasper Fforde',\n",
              "  'http://images.amazon.com/images/P/0142001805.01.MZZZZZZZ.jpg'],\n",
              " ['The Hundred Secret Senses',\n",
              "  'Amy Tan',\n",
              "  'http://images.amazon.com/images/P/0399141146.01.MZZZZZZZ.jpg'],\n",
              " ['The Lottery Winner : Alvirah And Willy Stories',\n",
              "  'Mary Higgins Clark',\n",
              "  'http://images.amazon.com/images/P/0671867172.01.MZZZZZZZ.jpg'],\n",
              " ['Balzac and the Little Chinese Seamstress : A Novel',\n",
              "  'DAI SIJIE',\n",
              "  'http://images.amazon.com/images/P/0385722206.01.MZZZZZZZ.jpg'],\n",
              " ['Thousand Acres',\n",
              "  'JANE SMILEY',\n",
              "  'http://images.amazon.com/images/P/0804115761.01.MZZZZZZZ.jpg']]"
            ]
          },
          "execution_count": 343,
          "metadata": {},
          "output_type": "execute_result"
        }
      ],
      "source": [
        "recommend_book_lsh('Life of Pi', 10)"
      ]
    },
    {
      "cell_type": "markdown",
      "metadata": {
        "id": "4RVJYBMB181Q"
      },
      "source": [
        "# Book Recomendations with Content Based Approach\n",
        "\n",
        "Previously, we used methods that are grounded in the principle of user-based recommendation systems, opting to leverage the users and their ratings of books then using cosine similarity on the ratings to then find the similar books.  \n",
        "\n",
        "This new approach will take the content of the books into consideration using two main algorithms:\n",
        "\n",
        "- Naive Bayes\n",
        "- Word2Vec"
      ]
    },
    {
      "cell_type": "code",
      "execution_count": 344,
      "metadata": {
        "id": "qwbFMo0V18Lm"
      },
      "outputs": [],
      "source": [
        "books = pd.read_csv(\"Books.csv\")\n",
        "ratings = pd.read_csv(\"Ratings.csv\")\n",
        "users = pd.read_csv(\"Users.csv\")"
      ]
    },
    {
      "cell_type": "code",
      "execution_count": 345,
      "metadata": {
        "id": "5Y3zBbdQ6Qq5"
      },
      "outputs": [],
      "source": [
        "merge_df = pd.merge(books, ratings, on = 'ISBN')\n",
        "full_df = pd.merge(merge_df, users, on = 'User-ID')"
      ]
    },
    {
      "cell_type": "code",
      "execution_count": 346,
      "metadata": {
        "colab": {
          "base_uri": "https://localhost:8080/",
          "height": 452
        },
        "id": "x4ItNXmq8hsb",
        "outputId": "50949fe1-3862-4dfd-d6d2-47b085f3d2b5"
      },
      "outputs": [
        {
          "data": {
            "text/html": [
              "<div>\n",
              "<style scoped>\n",
              "    .dataframe tbody tr th:only-of-type {\n",
              "        vertical-align: middle;\n",
              "    }\n",
              "\n",
              "    .dataframe tbody tr th {\n",
              "        vertical-align: top;\n",
              "    }\n",
              "\n",
              "    .dataframe thead th {\n",
              "        text-align: right;\n",
              "    }\n",
              "</style>\n",
              "<table border=\"1\" class=\"dataframe\">\n",
              "  <thead>\n",
              "    <tr style=\"text-align: right;\">\n",
              "      <th></th>\n",
              "      <th>ISBN</th>\n",
              "      <th>Book-Title</th>\n",
              "      <th>Book-Author</th>\n",
              "      <th>Year-Of-Publication</th>\n",
              "      <th>Publisher</th>\n",
              "      <th>Image-URL-S</th>\n",
              "      <th>Image-URL-M</th>\n",
              "      <th>Image-URL-L</th>\n",
              "      <th>User-ID</th>\n",
              "      <th>Book-Rating</th>\n",
              "      <th>Location</th>\n",
              "      <th>Age</th>\n",
              "    </tr>\n",
              "  </thead>\n",
              "  <tbody>\n",
              "    <tr>\n",
              "      <th>0</th>\n",
              "      <td>0195153448</td>\n",
              "      <td>Classical Mythology</td>\n",
              "      <td>Mark P. O. Morford</td>\n",
              "      <td>2002</td>\n",
              "      <td>Oxford University Press</td>\n",
              "      <td>http://images.amazon.com/images/P/0195153448.0...</td>\n",
              "      <td>http://images.amazon.com/images/P/0195153448.0...</td>\n",
              "      <td>http://images.amazon.com/images/P/0195153448.0...</td>\n",
              "      <td>2</td>\n",
              "      <td>0</td>\n",
              "      <td>stockton, california, usa</td>\n",
              "      <td>18.0</td>\n",
              "    </tr>\n",
              "    <tr>\n",
              "      <th>1</th>\n",
              "      <td>0002005018</td>\n",
              "      <td>Clara Callan</td>\n",
              "      <td>Richard Bruce Wright</td>\n",
              "      <td>2001</td>\n",
              "      <td>HarperFlamingo Canada</td>\n",
              "      <td>http://images.amazon.com/images/P/0002005018.0...</td>\n",
              "      <td>http://images.amazon.com/images/P/0002005018.0...</td>\n",
              "      <td>http://images.amazon.com/images/P/0002005018.0...</td>\n",
              "      <td>8</td>\n",
              "      <td>5</td>\n",
              "      <td>timmins, ontario, canada</td>\n",
              "      <td>NaN</td>\n",
              "    </tr>\n",
              "    <tr>\n",
              "      <th>2</th>\n",
              "      <td>0060973129</td>\n",
              "      <td>Decision in Normandy</td>\n",
              "      <td>Carlo D'Este</td>\n",
              "      <td>1991</td>\n",
              "      <td>HarperPerennial</td>\n",
              "      <td>http://images.amazon.com/images/P/0060973129.0...</td>\n",
              "      <td>http://images.amazon.com/images/P/0060973129.0...</td>\n",
              "      <td>http://images.amazon.com/images/P/0060973129.0...</td>\n",
              "      <td>8</td>\n",
              "      <td>0</td>\n",
              "      <td>timmins, ontario, canada</td>\n",
              "      <td>NaN</td>\n",
              "    </tr>\n",
              "    <tr>\n",
              "      <th>3</th>\n",
              "      <td>0374157065</td>\n",
              "      <td>Flu: The Story of the Great Influenza Pandemic...</td>\n",
              "      <td>Gina Bari Kolata</td>\n",
              "      <td>1999</td>\n",
              "      <td>Farrar Straus Giroux</td>\n",
              "      <td>http://images.amazon.com/images/P/0374157065.0...</td>\n",
              "      <td>http://images.amazon.com/images/P/0374157065.0...</td>\n",
              "      <td>http://images.amazon.com/images/P/0374157065.0...</td>\n",
              "      <td>8</td>\n",
              "      <td>0</td>\n",
              "      <td>timmins, ontario, canada</td>\n",
              "      <td>NaN</td>\n",
              "    </tr>\n",
              "    <tr>\n",
              "      <th>4</th>\n",
              "      <td>0393045218</td>\n",
              "      <td>The Mummies of Urumchi</td>\n",
              "      <td>E. J. W. Barber</td>\n",
              "      <td>1999</td>\n",
              "      <td>W. W. Norton &amp;amp; Company</td>\n",
              "      <td>http://images.amazon.com/images/P/0393045218.0...</td>\n",
              "      <td>http://images.amazon.com/images/P/0393045218.0...</td>\n",
              "      <td>http://images.amazon.com/images/P/0393045218.0...</td>\n",
              "      <td>8</td>\n",
              "      <td>0</td>\n",
              "      <td>timmins, ontario, canada</td>\n",
              "      <td>NaN</td>\n",
              "    </tr>\n",
              "  </tbody>\n",
              "</table>\n",
              "</div>"
            ],
            "text/plain": [
              "         ISBN                                         Book-Title  \\\n",
              "0  0195153448                                Classical Mythology   \n",
              "1  0002005018                                       Clara Callan   \n",
              "2  0060973129                               Decision in Normandy   \n",
              "3  0374157065  Flu: The Story of the Great Influenza Pandemic...   \n",
              "4  0393045218                             The Mummies of Urumchi   \n",
              "\n",
              "            Book-Author Year-Of-Publication                   Publisher  \\\n",
              "0    Mark P. O. Morford                2002     Oxford University Press   \n",
              "1  Richard Bruce Wright                2001       HarperFlamingo Canada   \n",
              "2          Carlo D'Este                1991             HarperPerennial   \n",
              "3      Gina Bari Kolata                1999        Farrar Straus Giroux   \n",
              "4       E. J. W. Barber                1999  W. W. Norton &amp; Company   \n",
              "\n",
              "                                         Image-URL-S  \\\n",
              "0  http://images.amazon.com/images/P/0195153448.0...   \n",
              "1  http://images.amazon.com/images/P/0002005018.0...   \n",
              "2  http://images.amazon.com/images/P/0060973129.0...   \n",
              "3  http://images.amazon.com/images/P/0374157065.0...   \n",
              "4  http://images.amazon.com/images/P/0393045218.0...   \n",
              "\n",
              "                                         Image-URL-M  \\\n",
              "0  http://images.amazon.com/images/P/0195153448.0...   \n",
              "1  http://images.amazon.com/images/P/0002005018.0...   \n",
              "2  http://images.amazon.com/images/P/0060973129.0...   \n",
              "3  http://images.amazon.com/images/P/0374157065.0...   \n",
              "4  http://images.amazon.com/images/P/0393045218.0...   \n",
              "\n",
              "                                         Image-URL-L  User-ID  Book-Rating  \\\n",
              "0  http://images.amazon.com/images/P/0195153448.0...        2            0   \n",
              "1  http://images.amazon.com/images/P/0002005018.0...        8            5   \n",
              "2  http://images.amazon.com/images/P/0060973129.0...        8            0   \n",
              "3  http://images.amazon.com/images/P/0374157065.0...        8            0   \n",
              "4  http://images.amazon.com/images/P/0393045218.0...        8            0   \n",
              "\n",
              "                    Location   Age  \n",
              "0  stockton, california, usa  18.0  \n",
              "1   timmins, ontario, canada   NaN  \n",
              "2   timmins, ontario, canada   NaN  \n",
              "3   timmins, ontario, canada   NaN  \n",
              "4   timmins, ontario, canada   NaN  "
            ]
          },
          "execution_count": 346,
          "metadata": {},
          "output_type": "execute_result"
        }
      ],
      "source": [
        "full_df.head()"
      ]
    },
    {
      "cell_type": "code",
      "execution_count": 347,
      "metadata": {
        "colab": {
          "base_uri": "https://localhost:8080/"
        },
        "id": "L43Gai5m8pYh",
        "outputId": "4772d5af-8bba-4e8d-8e2d-50258adf0fbe"
      },
      "outputs": [
        {
          "data": {
            "text/plain": [
              "ISBN                        0\n",
              "Book-Title                  0\n",
              "Book-Author                 2\n",
              "Year-Of-Publication         0\n",
              "Publisher                   2\n",
              "Image-URL-S                 0\n",
              "Image-URL-M                 0\n",
              "Image-URL-L                 4\n",
              "User-ID                     0\n",
              "Book-Rating                 0\n",
              "Location                    0\n",
              "Age                    277835\n",
              "dtype: int64"
            ]
          },
          "execution_count": 347,
          "metadata": {},
          "output_type": "execute_result"
        }
      ],
      "source": [
        "values_missing = full_df.isnull()\n",
        "values_missing.sum()"
      ]
    },
    {
      "cell_type": "code",
      "execution_count": 348,
      "metadata": {
        "id": "C6b38rBP94AO"
      },
      "outputs": [],
      "source": [
        "# Cleaning up the NaN values\n",
        "\n",
        "full_df['Age'].fillna(full_df['Age'].median(), inplace = True)\n",
        "\n",
        "full_df['Book-Author'].fillna(full_df['Book-Author'].mode()[0], inplace=True)\n",
        "full_df['Publisher'].fillna(full_df['Publisher'].mode()[0], inplace=True)\n",
        "\n",
        "# Dropping the 'Image-URL-L' because that's not really too useful.\n",
        "full_df.drop(columns = \"Image-URL-L\", inplace = True)"
      ]
    },
    {
      "cell_type": "code",
      "execution_count": 349,
      "metadata": {
        "colab": {
          "base_uri": "https://localhost:8080/"
        },
        "id": "RkuqyWbq-TvI",
        "outputId": "ab0ddba0-27e9-41b3-d730-be1a4130b19d"
      },
      "outputs": [
        {
          "data": {
            "text/plain": [
              "ISBN                   0\n",
              "Book-Title             0\n",
              "Book-Author            0\n",
              "Year-Of-Publication    0\n",
              "Publisher              0\n",
              "Image-URL-S            0\n",
              "Image-URL-M            0\n",
              "User-ID                0\n",
              "Book-Rating            0\n",
              "Location               0\n",
              "Age                    0\n",
              "dtype: int64"
            ]
          },
          "execution_count": 349,
          "metadata": {},
          "output_type": "execute_result"
        }
      ],
      "source": [
        "values_missing = full_df.isnull()\n",
        "values_missing.sum()"
      ]
    },
    {
      "cell_type": "code",
      "execution_count": 58,
      "metadata": {
        "colab": {
          "base_uri": "https://localhost:8080/"
        },
        "id": "bupbVagk-bD8",
        "outputId": "76d8d35f-3330-4771-cfd6-be657d2edfa0"
      },
      "outputs": [
        {
          "name": "stdout",
          "output_type": "stream",
          "text": [
            "<class 'pandas.core.frame.DataFrame'>\n",
            "RangeIndex: 1031136 entries, 0 to 1031135\n",
            "Data columns (total 11 columns):\n",
            " #   Column               Non-Null Count    Dtype  \n",
            "---  ------               --------------    -----  \n",
            " 0   ISBN                 1031136 non-null  object \n",
            " 1   Book-Title           1031136 non-null  object \n",
            " 2   Book-Author          1031136 non-null  object \n",
            " 3   Year-Of-Publication  1031136 non-null  object \n",
            " 4   Publisher            1031136 non-null  object \n",
            " 5   Image-URL-S          1031136 non-null  object \n",
            " 6   Image-URL-M          1031136 non-null  object \n",
            " 7   User-ID              1031136 non-null  int64  \n",
            " 8   Book-Rating          1031136 non-null  int64  \n",
            " 9   Location             1031136 non-null  object \n",
            " 10  Age                  1031136 non-null  float64\n",
            "dtypes: float64(1), int64(2), object(8)\n",
            "memory usage: 86.5+ MB\n"
          ]
        }
      ],
      "source": [
        "full_df.info()"
      ]
    },
    {
      "cell_type": "code",
      "execution_count": 59,
      "metadata": {
        "id": "GDh6-2y1C6K0"
      },
      "outputs": [],
      "source": [
        "full_df = full_df[full_df[\"Book-Rating\"] != 0]"
      ]
    },
    {
      "cell_type": "code",
      "execution_count": 60,
      "metadata": {
        "colab": {
          "base_uri": "https://localhost:8080/"
        },
        "id": "GgjGXkTrDLzo",
        "outputId": "0de0b567-b18d-4e80-c57d-0afa767338bd"
      },
      "outputs": [
        {
          "name": "stdout",
          "output_type": "stream",
          "text": [
            "<class 'pandas.core.frame.DataFrame'>\n",
            "Index: 383842 entries, 1 to 1031134\n",
            "Data columns (total 11 columns):\n",
            " #   Column               Non-Null Count   Dtype  \n",
            "---  ------               --------------   -----  \n",
            " 0   ISBN                 383842 non-null  object \n",
            " 1   Book-Title           383842 non-null  object \n",
            " 2   Book-Author          383842 non-null  object \n",
            " 3   Year-Of-Publication  383842 non-null  object \n",
            " 4   Publisher            383842 non-null  object \n",
            " 5   Image-URL-S          383842 non-null  object \n",
            " 6   Image-URL-M          383842 non-null  object \n",
            " 7   User-ID              383842 non-null  int64  \n",
            " 8   Book-Rating          383842 non-null  int64  \n",
            " 9   Location             383842 non-null  object \n",
            " 10  Age                  383842 non-null  float64\n",
            "dtypes: float64(1), int64(2), object(8)\n",
            "memory usage: 35.1+ MB\n"
          ]
        }
      ],
      "source": [
        "full_df.info()"
      ]
    },
    {
      "cell_type": "code",
      "execution_count": 61,
      "metadata": {
        "colab": {
          "base_uri": "https://localhost:8080/",
          "height": 300
        },
        "id": "1jUUlndM-8MX",
        "outputId": "ab262b31-8cd2-4d44-b5df-ba163e2615c9"
      },
      "outputs": [
        {
          "data": {
            "text/html": [
              "<div>\n",
              "<style scoped>\n",
              "    .dataframe tbody tr th:only-of-type {\n",
              "        vertical-align: middle;\n",
              "    }\n",
              "\n",
              "    .dataframe tbody tr th {\n",
              "        vertical-align: top;\n",
              "    }\n",
              "\n",
              "    .dataframe thead th {\n",
              "        text-align: right;\n",
              "    }\n",
              "</style>\n",
              "<table border=\"1\" class=\"dataframe\">\n",
              "  <thead>\n",
              "    <tr style=\"text-align: right;\">\n",
              "      <th></th>\n",
              "      <th>User-ID</th>\n",
              "      <th>Book-Rating</th>\n",
              "      <th>Age</th>\n",
              "    </tr>\n",
              "  </thead>\n",
              "  <tbody>\n",
              "    <tr>\n",
              "      <th>count</th>\n",
              "      <td>383842.000000</td>\n",
              "      <td>383842.000000</td>\n",
              "      <td>383842.000000</td>\n",
              "    </tr>\n",
              "    <tr>\n",
              "      <th>mean</th>\n",
              "      <td>136031.461260</td>\n",
              "      <td>7.626701</td>\n",
              "      <td>36.289536</td>\n",
              "    </tr>\n",
              "    <tr>\n",
              "      <th>std</th>\n",
              "      <td>80482.299401</td>\n",
              "      <td>1.841339</td>\n",
              "      <td>11.557065</td>\n",
              "    </tr>\n",
              "    <tr>\n",
              "      <th>min</th>\n",
              "      <td>8.000000</td>\n",
              "      <td>1.000000</td>\n",
              "      <td>0.000000</td>\n",
              "    </tr>\n",
              "    <tr>\n",
              "      <th>25%</th>\n",
              "      <td>67591.000000</td>\n",
              "      <td>7.000000</td>\n",
              "      <td>31.000000</td>\n",
              "    </tr>\n",
              "    <tr>\n",
              "      <th>50%</th>\n",
              "      <td>133789.000000</td>\n",
              "      <td>8.000000</td>\n",
              "      <td>35.000000</td>\n",
              "    </tr>\n",
              "    <tr>\n",
              "      <th>75%</th>\n",
              "      <td>206219.000000</td>\n",
              "      <td>9.000000</td>\n",
              "      <td>40.000000</td>\n",
              "    </tr>\n",
              "    <tr>\n",
              "      <th>max</th>\n",
              "      <td>278854.000000</td>\n",
              "      <td>10.000000</td>\n",
              "      <td>244.000000</td>\n",
              "    </tr>\n",
              "  </tbody>\n",
              "</table>\n",
              "</div>"
            ],
            "text/plain": [
              "             User-ID    Book-Rating            Age\n",
              "count  383842.000000  383842.000000  383842.000000\n",
              "mean   136031.461260       7.626701      36.289536\n",
              "std     80482.299401       1.841339      11.557065\n",
              "min         8.000000       1.000000       0.000000\n",
              "25%     67591.000000       7.000000      31.000000\n",
              "50%    133789.000000       8.000000      35.000000\n",
              "75%    206219.000000       9.000000      40.000000\n",
              "max    278854.000000      10.000000     244.000000"
            ]
          },
          "execution_count": 61,
          "metadata": {},
          "output_type": "execute_result"
        }
      ],
      "source": [
        "full_df.describe()"
      ]
    },
    {
      "cell_type": "code",
      "execution_count": 116,
      "metadata": {
        "id": "omaXS9wQ_7KK"
      },
      "outputs": [],
      "source": [
        "from gensim.models import Word2Vec\n",
        "import re"
      ]
    },
    {
      "cell_type": "code",
      "execution_count": 157,
      "metadata": {
        "id": "plGELUzB_PhE"
      },
      "outputs": [],
      "source": [
        "genres = ['Fantasy', 'Fiction', 'Romance', 'Horror', 'Thriller', 'Philosophy', 'Novel', 'Biography', 'Politics', 'History', 'Other']"
      ]
    },
    {
      "cell_type": "code",
      "execution_count": 158,
      "metadata": {
        "colab": {
          "base_uri": "https://localhost:8080/"
        },
        "id": "Qjdo9a3T_xSI",
        "outputId": "6965a455-0aa8-4922-804c-895c8f12f147"
      },
      "outputs": [
        {
          "data": {
            "text/plain": [
              "['Clara', 'Callan']"
            ]
          },
          "execution_count": 158,
          "metadata": {},
          "output_type": "execute_result"
        }
      ],
      "source": [
        "titles = [title.split() for title in full_df['Book-Title']]\n",
        "titles[0]"
      ]
    },
    {
      "cell_type": "code",
      "execution_count": 311,
      "metadata": {
        "id": "jXlmDjXXARKW"
      },
      "outputs": [],
      "source": [
        "word2vec_model = Word2Vec(sentences = titles, vector_size = 350, window = 7, min_count = 1, sg = 1, workers = 10, epochs = 20)"
      ]
    },
    {
      "cell_type": "code",
      "execution_count": 312,
      "metadata": {},
      "outputs": [],
      "source": [
        "# Defining function to clean the text by removing special characters and numbers\n",
        "def clean_text(text):\n",
        "    text = re.sub(r'[^a-zA-Z\\s]', '', text)\n",
        "    text = text.lower()\n",
        "    return text\n",
        "\n"
      ]
    },
    {
      "cell_type": "code",
      "execution_count": 365,
      "metadata": {
        "id": "T68uSfucEnV7"
      },
      "outputs": [],
      "source": [
        "\n",
        "# Predicting the genre of the book from the book title itself\n",
        "\n",
        "\n",
        "def predict_genre(book_title, model):\n",
        "    # Initialising the variables under the scope so that parallel execution works properly\n",
        "    import re\n",
        "    import numpy as np \n",
        "    genres = ['Fantasy', 'Fiction', 'Crime', 'Narrative', 'Science', 'Non-Fiction', 'Classics', 'Literature', 'Mystery' 'Romance', 'Horror', 'Thriller', 'Philosophy', 'Novel', 'Biography', 'Politics', 'History', 'Children' 'Other']\n",
        "    from sklearn.metrics.pairwise import cosine_similarity\n",
        "    import pandas as pd\n",
        "\n",
        "    text = re.sub(r'[^a-zA-Z\\s]', '', book_title)\n",
        "    text = text.lower()\n",
        "    title_words = text.split()\n",
        "\n",
        "    if not title_words:\n",
        "        return 'Other'\n",
        "\n",
        "    # Filter title words present in the model's vocabulary\n",
        "    title_words_in_vocab = [word for word in title_words if word in model.wv]\n",
        "\n",
        "    if not title_words_in_vocab:\n",
        "        return 'Other'\n",
        "\n",
        "    # Calculate the average vector for the filtered title words\n",
        "    title_vector = np.mean([model.wv[word] for word in title_words_in_vocab], axis=0)\n",
        "\n",
        "    max_similarity = -1\n",
        "    most_similar_genre = 'Other'\n",
        "\n",
        "    for genre in genres:\n",
        "        genre_key = genre.replace(' ', '').lower()\n",
        "        if genre_key in model.wv:\n",
        "            genre_vector = model.wv[genre_key]\n",
        "            similarity = cosine_similarity([title_vector], [genre_vector])[0][0]\n",
        "            if similarity > max_similarity:\n",
        "                max_similarity = similarity\n",
        "                most_similar_genre = genre\n",
        "\n",
        "    return most_similar_genre"
      ]
    },
    {
      "cell_type": "code",
      "execution_count": 366,
      "metadata": {
        "colab": {
          "base_uri": "https://localhost:8080/"
        },
        "id": "PnsaBJn5EvxB",
        "outputId": "a8a6e2b8-c48f-43bc-fa84-bc2667d2aff5"
      },
      "outputs": [
        {
          "name": "stdout",
          "output_type": "stream",
          "text": [
            "The predicted genre for 'The Myth of Sisyphus' is Philosophy.\n",
            "The predicted genre for 'The Republic' is Narrative.\n",
            "The predicted genre for 'The Prince' is Narrative.\n",
            "The predicted genre for 'The Wealth of Nations' is Narrative.\n",
            "The predicted genre for 'The Communist Manifesto' is Narrative.\n",
            "The predicted genre for 'The Theory of Moral Sentiments' is Non-Fiction.\n"
          ]
        }
      ],
      "source": [
        "# Testing some examples of books that maybe seen together on some weirdo's bookshelf (me)\n",
        "book_title_to_predict = [\"The Myth of Sisyphus\", \"The Republic\", \"The Prince\", \"The Wealth of Nations\", \"The Communist Manifesto\", \"The Theory of Moral Sentiments\"]\n",
        "\n",
        "for title in book_title_to_predict:\n",
        "  predicted_genre = predict_genre(title, word2vec_model) # Genre predict of the book\n",
        "  print(f\"The predicted genre for '{title}' is {predicted_genre}.\")\n"
      ]
    },
    {
      "cell_type": "code",
      "execution_count": 367,
      "metadata": {
        "colab": {
          "base_uri": "https://localhost:8080/"
        },
        "id": "m5cUw_P8JhlB",
        "outputId": "633e70f4-0dd0-480f-eae0-2c5662b1bf5a"
      },
      "outputs": [
        {
          "name": "stdout",
          "output_type": "stream",
          "text": [
            "The predicted genre for 'Hamlet' is Other.\n",
            "The predicted genre for 'To Kill a Mockingbird' is Narrative.\n",
            "The predicted genre for 'Da Vinci Code' is Thriller.\n",
            "The predicted genre for 'The Life of Pi' is Narrative.\n",
            "The predicted genre for 'Harry Potter and the Sorcerer's Stone' is Philosophy.\n",
            "The predicted genre for 'The Catcher in the Rye' is Philosophy.\n",
            "The predicted genre for 'Animal Farm' is Classics.\n"
          ]
        }
      ],
      "source": [
        "# And then maybe some more books that normal people actually read\n",
        "book_title_to_predict = [\"Hamlet\", \"To Kill a Mockingbird\", \"Da Vinci Code\", \"The Life of Pi\", \"Harry Potter and the Sorcerer's Stone\", \"The Catcher in the Rye\", \"Animal Farm\"]\n",
        "\n",
        "for title in book_title_to_predict:\n",
        "  predicted_genre = predict_genre(title, word2vec_model) # Genre predict of the book\n",
        "  print(f\"The predicted genre for '{title}' is {predicted_genre}.\")\n"
      ]
    },
    {
      "cell_type": "markdown",
      "metadata": {
        "id": "mDmldilZPizN"
      },
      "source": [
        "Maybe the model does tend to struggle more on the non-fiction genres of books which kind of make sense because the non-fiction genre has titles that are generally more artistic, abstract and varied which has more nuances which makes it harder to detect one genre from another."
      ]
    },
    {
      "cell_type": "code",
      "execution_count": 368,
      "metadata": {
        "colab": {
          "base_uri": "https://localhost:8080/",
          "height": 200,
          "referenced_widgets": [
            "f4ce35e0236248529280aa6e0f0e9670",
            "30e9a017efc14d67ab140e3e752aa542",
            "73ffad8a562642a5a134123bbc2ce89a",
            "eb52ac59ca3b463e8330e229e1a3d264",
            "cd35abaa0e354cb4a0b8b9b477e3c6d8",
            "8007ee04577849249b9f38cb7ea51f76",
            "dab4e9cc3549481b987204eaadb8bf4d",
            "2f36df2062ff49cd90640e1243ca16c4",
            "c25c35b4308b4a24aedc17a9283fab6d",
            "3ff6010971da4b4a8ab88945b731a793",
            "0de854821d3d4ef29e23681bb9543848",
            "0745da1367784e8f9e04a349686b6065",
            "c5b4b19df6d9436fb0534ed07de46a97",
            "cc0656cee86a4dde876aeb88936df456",
            "5b1d9ff370004b469582876d5555fd4e",
            "2abb948b7411467992726bc4dfbf4d48",
            "9a67edf613134d51839a874f2ed4e520",
            "666d55476764446899accce02355a8ad",
            "01da011baa2f48b3b372efdffd946be9",
            "f676ae93f77c4d0c9b08777bb32ba24b",
            "d92d68832cb84a1b9459580e21977f16",
            "2961074041f2494ea6b02aa846b87278",
            "fe00984853444250afd478b8fe871c28",
            "da5844a907454ede8af9a1df040de33e",
            "88f636d589df4a35a3415bbf73f03dc8",
            "e10d0a4329614c1aa7cb491f2180a2db",
            "244c4f4d642046dbb9604b2ba54e4483",
            "3b36cbf1ee634d1ab77f8a1c86b68f74",
            "234740467ea44b8eae8e299b8a5f2d7f",
            "abd24d96e71f4569ab126ec0c6022473",
            "a7fb09963a6747cd82bd08e997905601",
            "823bef1183f543f1915bc902bd52d7ec",
            "854e8e09cca84a5286814e74e01d0f29",
            "7538980d529e44b28e33975b571c9a1b"
          ]
        },
        "id": "l4RM2YBgIhbM",
        "outputId": "9dfde5cb-be0b-423f-c7ef-34d7d1ab6cc1"
      },
      "outputs": [
        {
          "name": "stdout",
          "output_type": "stream",
          "text": [
            "INFO: Pandarallel will run on 10 workers.\n",
            "INFO: Pandarallel will use standard multiprocessing data transfer (pipe) to transfer data between the main process and workers.\n",
            "\n",
            "WARNING: You are on Windows. If you detect any issue with pandarallel, be sure you checked out the Troubleshooting page:\n",
            "https://nalepae.github.io/pandarallel/troubleshooting/\n"
          ]
        },
        {
          "data": {
            "application/vnd.jupyter.widget-view+json": {
              "model_id": "591d9ea50105424b9b7f3075f3f312f4",
              "version_major": 2,
              "version_minor": 0
            },
            "text/plain": [
              "VBox(children=(HBox(children=(IntProgress(value=0, description='0.00%', max=24108), Label(value='0 / 24108')))…"
            ]
          },
          "metadata": {},
          "output_type": "display_data"
        }
      ],
      "source": [
        "from pandarallel import pandarallel\n",
        "\n",
        "pandarallel.initialize(progress_bar = True)\n",
        "\n",
        "full_df = full_df.drop_duplicates(subset='Book-Title', keep='first')\n",
        "\n",
        "full_df['Genre'] = full_df[\"Book-Title\"].parallel_apply(predict_genre, args=(word2vec_model, ))"
      ]
    },
    {
      "cell_type": "code",
      "execution_count": 369,
      "metadata": {},
      "outputs": [
        {
          "data": {
            "image/png": "[encoded data removed]",
            "text/plain": [
              "<Figure size 1000x800 with 1 Axes>"
            ]
          },
          "metadata": {},
          "output_type": "display_data"
        }
      ],
      "source": [
        "genre_count = full_df['Genre'].value_counts()\n",
        "\n",
        "# Pie chart\n",
        "plt.figure(figsize=(10, 8))\n",
        "plt.pie(genre_count, labels=genre_count.index, autopct='%1.1f%%', startangle=70)\n",
        "plt.axis('equal')\n",
        "plt.title('Genre Distribution')\n",
        "plt.show()"
      ]
    },
    {
      "cell_type": "code",
      "execution_count": 370,
      "metadata": {
        "colab": {
          "base_uri": "https://localhost:8080/",
          "height": 504
        },
        "id": "WHeGBpJc5OIc",
        "outputId": "2047abfb-3e01-426c-992e-ef24cae156aa"
      },
      "outputs": [
        {
          "data": {
            "text/html": [
              "<div>\n",
              "<style scoped>\n",
              "    .dataframe tbody tr th:only-of-type {\n",
              "        vertical-align: middle;\n",
              "    }\n",
              "\n",
              "    .dataframe tbody tr th {\n",
              "        vertical-align: top;\n",
              "    }\n",
              "\n",
              "    .dataframe thead th {\n",
              "        text-align: right;\n",
              "    }\n",
              "</style>\n",
              "<table border=\"1\" class=\"dataframe\">\n",
              "  <thead>\n",
              "    <tr style=\"text-align: right;\">\n",
              "      <th></th>\n",
              "      <th>ISBN</th>\n",
              "      <th>Book-Title</th>\n",
              "      <th>Book-Author</th>\n",
              "      <th>Year-Of-Publication</th>\n",
              "      <th>Publisher</th>\n",
              "      <th>Image-URL-S</th>\n",
              "      <th>Image-URL-M</th>\n",
              "      <th>User-ID</th>\n",
              "      <th>Book-Rating</th>\n",
              "      <th>Location</th>\n",
              "      <th>Age</th>\n",
              "      <th>Genre</th>\n",
              "    </tr>\n",
              "  </thead>\n",
              "  <tbody>\n",
              "    <tr>\n",
              "      <th>0</th>\n",
              "      <td>0195153448</td>\n",
              "      <td>Classical Mythology</td>\n",
              "      <td>Mark P. O. Morford</td>\n",
              "      <td>2002</td>\n",
              "      <td>Oxford University Press</td>\n",
              "      <td>http://images.amazon.com/images/P/0195153448.0...</td>\n",
              "      <td>http://images.amazon.com/images/P/0195153448.0...</td>\n",
              "      <td>2</td>\n",
              "      <td>0</td>\n",
              "      <td>stockton, california, usa</td>\n",
              "      <td>18.0</td>\n",
              "      <td>Philosophy</td>\n",
              "    </tr>\n",
              "    <tr>\n",
              "      <th>1</th>\n",
              "      <td>0002005018</td>\n",
              "      <td>Clara Callan</td>\n",
              "      <td>Richard Bruce Wright</td>\n",
              "      <td>2001</td>\n",
              "      <td>HarperFlamingo Canada</td>\n",
              "      <td>http://images.amazon.com/images/P/0002005018.0...</td>\n",
              "      <td>http://images.amazon.com/images/P/0002005018.0...</td>\n",
              "      <td>8</td>\n",
              "      <td>5</td>\n",
              "      <td>timmins, ontario, canada</td>\n",
              "      <td>35.0</td>\n",
              "      <td>Other</td>\n",
              "    </tr>\n",
              "    <tr>\n",
              "      <th>2</th>\n",
              "      <td>0060973129</td>\n",
              "      <td>Decision in Normandy</td>\n",
              "      <td>Carlo D'Este</td>\n",
              "      <td>1991</td>\n",
              "      <td>HarperPerennial</td>\n",
              "      <td>http://images.amazon.com/images/P/0060973129.0...</td>\n",
              "      <td>http://images.amazon.com/images/P/0060973129.0...</td>\n",
              "      <td>8</td>\n",
              "      <td>0</td>\n",
              "      <td>timmins, ontario, canada</td>\n",
              "      <td>35.0</td>\n",
              "      <td>Philosophy</td>\n",
              "    </tr>\n",
              "    <tr>\n",
              "      <th>3</th>\n",
              "      <td>0374157065</td>\n",
              "      <td>Flu: The Story of the Great Influenza Pandemic...</td>\n",
              "      <td>Gina Bari Kolata</td>\n",
              "      <td>1999</td>\n",
              "      <td>Farrar Straus Giroux</td>\n",
              "      <td>http://images.amazon.com/images/P/0374157065.0...</td>\n",
              "      <td>http://images.amazon.com/images/P/0374157065.0...</td>\n",
              "      <td>8</td>\n",
              "      <td>0</td>\n",
              "      <td>timmins, ontario, canada</td>\n",
              "      <td>35.0</td>\n",
              "      <td>Narrative</td>\n",
              "    </tr>\n",
              "    <tr>\n",
              "      <th>4</th>\n",
              "      <td>0393045218</td>\n",
              "      <td>The Mummies of Urumchi</td>\n",
              "      <td>E. J. W. Barber</td>\n",
              "      <td>1999</td>\n",
              "      <td>W. W. Norton &amp;amp; Company</td>\n",
              "      <td>http://images.amazon.com/images/P/0393045218.0...</td>\n",
              "      <td>http://images.amazon.com/images/P/0393045218.0...</td>\n",
              "      <td>8</td>\n",
              "      <td>0</td>\n",
              "      <td>timmins, ontario, canada</td>\n",
              "      <td>35.0</td>\n",
              "      <td>Narrative</td>\n",
              "    </tr>\n",
              "  </tbody>\n",
              "</table>\n",
              "</div>"
            ],
            "text/plain": [
              "         ISBN                                         Book-Title  \\\n",
              "0  0195153448                                Classical Mythology   \n",
              "1  0002005018                                       Clara Callan   \n",
              "2  0060973129                               Decision in Normandy   \n",
              "3  0374157065  Flu: The Story of the Great Influenza Pandemic...   \n",
              "4  0393045218                             The Mummies of Urumchi   \n",
              "\n",
              "            Book-Author Year-Of-Publication                   Publisher  \\\n",
              "0    Mark P. O. Morford                2002     Oxford University Press   \n",
              "1  Richard Bruce Wright                2001       HarperFlamingo Canada   \n",
              "2          Carlo D'Este                1991             HarperPerennial   \n",
              "3      Gina Bari Kolata                1999        Farrar Straus Giroux   \n",
              "4       E. J. W. Barber                1999  W. W. Norton &amp; Company   \n",
              "\n",
              "                                         Image-URL-S  \\\n",
              "0  http://images.amazon.com/images/P/0195153448.0...   \n",
              "1  http://images.amazon.com/images/P/0002005018.0...   \n",
              "2  http://images.amazon.com/images/P/0060973129.0...   \n",
              "3  http://images.amazon.com/images/P/0374157065.0...   \n",
              "4  http://images.amazon.com/images/P/0393045218.0...   \n",
              "\n",
              "                                         Image-URL-M  User-ID  Book-Rating  \\\n",
              "0  http://images.amazon.com/images/P/0195153448.0...        2            0   \n",
              "1  http://images.amazon.com/images/P/0002005018.0...        8            5   \n",
              "2  http://images.amazon.com/images/P/0060973129.0...        8            0   \n",
              "3  http://images.amazon.com/images/P/0374157065.0...        8            0   \n",
              "4  http://images.amazon.com/images/P/0393045218.0...        8            0   \n",
              "\n",
              "                    Location   Age       Genre  \n",
              "0  stockton, california, usa  18.0  Philosophy  \n",
              "1   timmins, ontario, canada  35.0       Other  \n",
              "2   timmins, ontario, canada  35.0  Philosophy  \n",
              "3   timmins, ontario, canada  35.0   Narrative  \n",
              "4   timmins, ontario, canada  35.0   Narrative  "
            ]
          },
          "execution_count": 370,
          "metadata": {},
          "output_type": "execute_result"
        }
      ],
      "source": [
        "full_df.head()"
      ]
    },
    {
      "cell_type": "code",
      "execution_count": 371,
      "metadata": {
        "colab": {
          "base_uri": "https://localhost:8080/"
        },
        "id": "5upXSAKe_Wq5",
        "outputId": "b152dd6e-9e62-413f-f911-90cf2c07e307"
      },
      "outputs": [
        {
          "name": "stdout",
          "output_type": "stream",
          "text": [
            "<class 'pandas.core.frame.DataFrame'>\n",
            "Index: 241071 entries, 0 to 1031135\n",
            "Data columns (total 12 columns):\n",
            " #   Column               Non-Null Count   Dtype  \n",
            "---  ------               --------------   -----  \n",
            " 0   ISBN                 241071 non-null  object \n",
            " 1   Book-Title           241071 non-null  object \n",
            " 2   Book-Author          241071 non-null  object \n",
            " 3   Year-Of-Publication  241071 non-null  object \n",
            " 4   Publisher            241071 non-null  object \n",
            " 5   Image-URL-S          241071 non-null  object \n",
            " 6   Image-URL-M          241071 non-null  object \n",
            " 7   User-ID              241071 non-null  int64  \n",
            " 8   Book-Rating          241071 non-null  int64  \n",
            " 9   Location             241071 non-null  object \n",
            " 10  Age                  241071 non-null  float64\n",
            " 11  Genre                241071 non-null  object \n",
            "dtypes: float64(1), int64(2), object(9)\n",
            "memory usage: 23.9+ MB\n"
          ]
        }
      ],
      "source": [
        "full_df.info()"
      ]
    },
    {
      "cell_type": "code",
      "execution_count": 372,
      "metadata": {
        "colab": {
          "base_uri": "https://localhost:8080/"
        },
        "id": "fbn3u0ZOFSPE",
        "outputId": "7e9bcada-b26d-4571-9203-85f65053b447"
      },
      "outputs": [
        {
          "name": "stderr",
          "output_type": "stream",
          "text": [
            "[nltk_data] Downloading package stopwords to\n",
            "[nltk_data]     C:\\Users\\suij2\\AppData\\Roaming\\nltk_data...\n",
            "[nltk_data]   Package stopwords is already up-to-date!\n",
            "[nltk_data] Downloading package punkt to\n",
            "[nltk_data]     C:\\Users\\suij2\\AppData\\Roaming\\nltk_data...\n",
            "[nltk_data]   Package punkt is already up-to-date!\n"
          ]
        },
        {
          "data": {
            "text/plain": [
              "True"
            ]
          },
          "execution_count": 372,
          "metadata": {},
          "output_type": "execute_result"
        }
      ],
      "source": [
        "import re\n",
        "import nltk\n",
        "from nltk.corpus import stopwords\n",
        "from nltk.tokenize import word_tokenize\n",
        "\n",
        "nltk.download('stopwords')\n",
        "nltk.download('punkt')"
      ]
    },
    {
      "cell_type": "code",
      "execution_count": 383,
      "metadata": {
        "id": "RElE_WE6EqMP"
      },
      "outputs": [],
      "source": [
        "\n",
        "def preprocess_text(text):\n",
        "    from nltk.corpus import stopwords\n",
        "    from nltk.tokenize import word_tokenize\n",
        "    import re\n",
        "    stop_words = set(stopwords.words('english'))\n",
        "\n",
        "    \n",
        "    text = re.sub(r'[^a-zA-Z\\s]', '', text)\n",
        "    lower_text = text.lower()\n",
        "\n",
        "    tokens = word_tokenize(lower_text)\n",
        "    # Remove stopwords\n",
        "    tokens = [word for word in tokens if word not in stop_words]\n",
        "    return tokens"
      ]
    },
    {
      "cell_type": "code",
      "execution_count": 384,
      "metadata": {
        "colab": {
          "base_uri": "https://localhost:8080/",
          "height": 145,
          "referenced_widgets": [
            "e71c1581db9c413aad0d7e70c65103cd",
            "bf7a3899c0624c85aa729b1241f197a9",
            "09f18b580e1641ab84fe0c7262821671",
            "845452ca6aa0479a9f31b869dfbb1396",
            "282bd2fb65f045b99e54f4b6e41ea097",
            "b5845d6154754657a9236b544ac200f5",
            "1964622073304975938da820551fd302",
            "dff57928daec4155936567147fa80b96",
            "1666a54a095f42cb94ce7503249c3a9a",
            "28d61e35ae44489998ae0a8abc269c5d",
            "af1bd89898f6451abeda3abac06e1e29",
            "d667990362fa4f34ba0a7d2a82dd6f0c",
            "a254b9dff5aa48d98c50685b0ad4e1e8",
            "90a9fc8c569b48a3b3590967fe94c74b",
            "cf4edacf1eb648e6b7d7c0971b8ffe35",
            "02c68d94b38242c4a4001b907e7775a8",
            "63cd8a7c9d1543f2bd1d8bb46c3f9397",
            "735fa60073074d7c9d7829ebc067e78d",
            "98bfabdcf8de488fb58d0238d2a8ab81",
            "f676c31f526a4ad4ac240167052c4816",
            "e83b403d30ae40dcb37cc319ccfa37d5",
            "1bfb89394af242d88f01001f98d32c21",
            "064b9c6213f1429db6966b0d86ca0938",
            "0276743bd46940cda14985e243128470",
            "5dcb3b79543a4469b6aaa46b9b3eef93",
            "494863b49ef340b7b7402d788b3e6bce",
            "6cb46d74c5e14a75b0157789e5d47ec6",
            "235ce0eb7013460496b260de0a5e59a5",
            "7677a227e30447f0b57264a0a9790758",
            "7c38b6d8e80841daaa0a1e5c7df3afc9",
            "56b70e2cf09348e6a7c6e38c43497e22",
            "f69277ca2cbf409983610e105d72c59e",
            "a90e3e26b08e4708b3b27d15383229f0",
            "96900088bba84d31aa220b67df573cdf"
          ]
        },
        "id": "_9V-VmPNB0Er",
        "outputId": "25521662-0094-4926-9d52-5c7fad8f57c8"
      },
      "outputs": [
        {
          "data": {
            "application/vnd.jupyter.widget-view+json": {
              "model_id": "9e0178a590dc47cc8f4e9646d417ed64",
              "version_major": 2,
              "version_minor": 0
            },
            "text/plain": [
              "VBox(children=(HBox(children=(IntProgress(value=0, description='0.00%', max=24108), Label(value='0 / 24108')))…"
            ]
          },
          "metadata": {},
          "output_type": "display_data"
        }
      ],
      "source": [
        "full_df['combined'] = full_df['Book-Title'] + ' ' + full_df['Genre']\n",
        "\n",
        "full_df['processed'] = full_df['combined'].parallel_apply(preprocess_text)"
      ]
    },
    {
      "cell_type": "code",
      "execution_count": 385,
      "metadata": {
        "id": "_dU1JOUWIH9-"
      },
      "outputs": [],
      "source": [
        "processed_corpus = full_df['processed'].tolist()"
      ]
    },
    {
      "cell_type": "code",
      "execution_count": 386,
      "metadata": {
        "colab": {
          "base_uri": "https://localhost:8080/"
        },
        "id": "RZh3kk6YEoQN",
        "outputId": "791c01bf-7208-4aae-8f45-0515caaecabd"
      },
      "outputs": [
        {
          "data": {
            "text/plain": [
              "(4456140, 5227708)"
            ]
          },
          "execution_count": 386,
          "metadata": {},
          "output_type": "execute_result"
        }
      ],
      "source": [
        "word2vec_model_rec = Word2Vec(processed_corpus, \n",
        "                              vector_size=100, \n",
        "                              window=10, \n",
        "                              min_count=1, \n",
        "                              workers=10, \n",
        "                              epochs = 5)\n",
        "\n",
        "word2vec_model_rec.alpha = 0.025  \n",
        "word2vec_model_rec.min_alpha = 0.025  \n",
        "\n",
        "word2vec_model_rec.train(\n",
        "    processed_corpus,\n",
        "    total_examples=word2vec_model_rec.corpus_count,\n",
        "    epochs=4  \n",
        ")\n"
      ]
    },
    {
      "cell_type": "code",
      "execution_count": 387,
      "metadata": {
        "id": "oDsYhRQ2KphE"
      },
      "outputs": [],
      "source": [
        "def book_vector(model, book_tokens):\n",
        "    vector = np.zeros(model.vector_size)\n",
        "    num_tokens = 0\n",
        "    for token in book_tokens:\n",
        "        if token in model.wv:\n",
        "            vector += model.wv[token]\n",
        "            num_tokens += 1\n",
        "    if num_tokens > 0:\n",
        "        vector /= num_tokens\n",
        "    return vector\n",
        "\n",
        "book_vectors = np.array([book_vector(word2vec_model_rec, book) for book in processed_corpus])"
      ]
    },
    {
      "cell_type": "code",
      "execution_count": 388,
      "metadata": {
        "colab": {
          "base_uri": "https://localhost:8080/"
        },
        "id": "enBfo7V_MBi8",
        "outputId": "ded18066-b048-4cbd-cd64-cd575c5daa3d"
      },
      "outputs": [
        {
          "data": {
            "text/plain": [
              "182"
            ]
          },
          "execution_count": 388,
          "metadata": {},
          "output_type": "execute_result"
        }
      ],
      "source": [
        "index = full_df.isin(['Animal Farm']).any(axis=1).idxmax()\n",
        "index"
      ]
    },
    {
      "cell_type": "code",
      "execution_count": 389,
      "metadata": {
        "id": "OY7I7_sFKxmG"
      },
      "outputs": [],
      "source": [
        "def recommend_books(book_name, book_vectors, top_n=5):\n",
        "    book_index = full_df.isin([book_name]).any(axis=1).idxmax()\n",
        "    similarities = cosine_similarity([book_vectors[book_index]], book_vectors)[0]\n",
        "    most_similar_indices = similarities.argsort()[-top_n-1:-1][::-1]\n",
        "    return most_similar_indices\n",
        "\n",
        "# Assuming you want recommendations for the first book in your dataset\n",
        "recommended_book_indices = recommend_books('Animal Farm', book_vectors, top_n=10)"
      ]
    },
    {
      "cell_type": "code",
      "execution_count": 390,
      "metadata": {
        "colab": {
          "base_uri": "https://localhost:8080/"
        },
        "id": "KnJ2oj5ELTkH",
        "outputId": "33540232-b119-47bc-b2c5-177e16482be2"
      },
      "outputs": [
        {
          "data": {
            "text/plain": [
              "array([175463,  35404,  93100,  59723,  71582,   5578, 107957,  11384,\n",
              "        20654,  87569], dtype=int64)"
            ]
          },
          "execution_count": 390,
          "metadata": {},
          "output_type": "execute_result"
        }
      ],
      "source": [
        "recommended_book_indices"
      ]
    },
    {
      "cell_type": "code",
      "execution_count": 391,
      "metadata": {
        "id": "bM5-lQ2zMl3z"
      },
      "outputs": [],
      "source": [
        "recs = full_df.iloc[recommended_book_indices]"
      ]
    },
    {
      "cell_type": "code",
      "execution_count": 392,
      "metadata": {
        "colab": {
          "base_uri": "https://localhost:8080/",
          "height": 1000
        },
        "id": "gZH4RVRmNg0o",
        "outputId": "f8782d0f-8766-4c00-9629-9fd8ad9647ad"
      },
      "outputs": [
        {
          "data": {
            "text/html": [
              "<div>\n",
              "<style scoped>\n",
              "    .dataframe tbody tr th:only-of-type {\n",
              "        vertical-align: middle;\n",
              "    }\n",
              "\n",
              "    .dataframe tbody tr th {\n",
              "        vertical-align: top;\n",
              "    }\n",
              "\n",
              "    .dataframe thead th {\n",
              "        text-align: right;\n",
              "    }\n",
              "</style>\n",
              "<table border=\"1\" class=\"dataframe\">\n",
              "  <thead>\n",
              "    <tr style=\"text-align: right;\">\n",
              "      <th></th>\n",
              "      <th>ISBN</th>\n",
              "      <th>Book-Title</th>\n",
              "      <th>Book-Author</th>\n",
              "      <th>Year-Of-Publication</th>\n",
              "      <th>Publisher</th>\n",
              "      <th>Image-URL-S</th>\n",
              "      <th>Image-URL-M</th>\n",
              "      <th>User-ID</th>\n",
              "      <th>Book-Rating</th>\n",
              "      <th>Location</th>\n",
              "      <th>Age</th>\n",
              "      <th>Genre</th>\n",
              "      <th>combined</th>\n",
              "      <th>processed</th>\n",
              "    </tr>\n",
              "  </thead>\n",
              "  <tbody>\n",
              "    <tr>\n",
              "      <th>606305</th>\n",
              "      <td>0553213326</td>\n",
              "      <td>Kim (Bantam Classics)</td>\n",
              "      <td>Rudyard Kipling</td>\n",
              "      <td>1983</td>\n",
              "      <td>Bantam</td>\n",
              "      <td>http://images.amazon.com/images/P/0553213326.0...</td>\n",
              "      <td>http://images.amazon.com/images/P/0553213326.0...</td>\n",
              "      <td>91184</td>\n",
              "      <td>0</td>\n",
              "      <td>kuala lumpur, kuala lumpur, malaysia</td>\n",
              "      <td>31.0</td>\n",
              "      <td>Classics</td>\n",
              "      <td>Kim (Bantam Classics) Classics</td>\n",
              "      <td>[kim, bantam, classics, classics]</td>\n",
              "    </tr>\n",
              "    <tr>\n",
              "      <th>54149</th>\n",
              "      <td>0553212605</td>\n",
              "      <td>Kidnapped (Bantam Classics)</td>\n",
              "      <td>Robert Louis Stevenson</td>\n",
              "      <td>1990</td>\n",
              "      <td>Bantam Books</td>\n",
              "      <td>http://images.amazon.com/images/P/0553212605.0...</td>\n",
              "      <td>http://images.amazon.com/images/P/0553212605.0...</td>\n",
              "      <td>36606</td>\n",
              "      <td>0</td>\n",
              "      <td>san marcos, california, usa</td>\n",
              "      <td>39.0</td>\n",
              "      <td>Classics</td>\n",
              "      <td>Kidnapped (Bantam Classics) Classics</td>\n",
              "      <td>[kidnapped, bantam, classics, classics]</td>\n",
              "    </tr>\n",
              "    <tr>\n",
              "      <th>216061</th>\n",
              "      <td>0553210858</td>\n",
              "      <td>The Deerslayer (Bantam Classics)</td>\n",
              "      <td>James Fenimore Cooper</td>\n",
              "      <td>1991</td>\n",
              "      <td>Bantam</td>\n",
              "      <td>http://images.amazon.com/images/P/0553210858.0...</td>\n",
              "      <td>http://images.amazon.com/images/P/0553210858.0...</td>\n",
              "      <td>29855</td>\n",
              "      <td>0</td>\n",
              "      <td>morris, connecticut, usa</td>\n",
              "      <td>53.0</td>\n",
              "      <td>Classics</td>\n",
              "      <td>The Deerslayer (Bantam Classics) Classics</td>\n",
              "      <td>[deerslayer, bantam, classics, classics]</td>\n",
              "    </tr>\n",
              "    <tr>\n",
              "      <th>116547</th>\n",
              "      <td>0553213075</td>\n",
              "      <td>The Tempest (Bantam Classics)</td>\n",
              "      <td>William Shakespeare</td>\n",
              "      <td>1988</td>\n",
              "      <td>Bantam</td>\n",
              "      <td>http://images.amazon.com/images/P/0553213075.0...</td>\n",
              "      <td>http://images.amazon.com/images/P/0553213075.0...</td>\n",
              "      <td>216683</td>\n",
              "      <td>8</td>\n",
              "      <td>san jose, california, usa</td>\n",
              "      <td>35.0</td>\n",
              "      <td>Classics</td>\n",
              "      <td>The Tempest (Bantam Classics) Classics</td>\n",
              "      <td>[tempest, bantam, classics, classics]</td>\n",
              "    </tr>\n",
              "    <tr>\n",
              "      <th>152054</th>\n",
              "      <td>0553213695</td>\n",
              "      <td>The Metamorphosis (Bantam Classics)</td>\n",
              "      <td>FRANZ KAFKA</td>\n",
              "      <td>1972</td>\n",
              "      <td>Bantam</td>\n",
              "      <td>http://images.amazon.com/images/P/0553213695.0...</td>\n",
              "      <td>http://images.amazon.com/images/P/0553213695.0...</td>\n",
              "      <td>7210</td>\n",
              "      <td>3</td>\n",
              "      <td>rothesay, new brunswick, canada</td>\n",
              "      <td>35.0</td>\n",
              "      <td>Classics</td>\n",
              "      <td>The Metamorphosis (Bantam Classics) Classics</td>\n",
              "      <td>[metamorphosis, bantam, classics, classics]</td>\n",
              "    </tr>\n",
              "    <tr>\n",
              "      <th>6028</th>\n",
              "      <td>0553213393</td>\n",
              "      <td>Inferno (Bantam Classics)</td>\n",
              "      <td>DANTE</td>\n",
              "      <td>1982</td>\n",
              "      <td>Bantam Classics</td>\n",
              "      <td>http://images.amazon.com/images/P/0553213393.0...</td>\n",
              "      <td>http://images.amazon.com/images/P/0553213393.0...</td>\n",
              "      <td>11676</td>\n",
              "      <td>0</td>\n",
              "      <td>n/a, n/a, n/a</td>\n",
              "      <td>35.0</td>\n",
              "      <td>Classics</td>\n",
              "      <td>Inferno (Bantam Classics) Classics</td>\n",
              "      <td>[inferno, bantam, classics, classics]</td>\n",
              "    </tr>\n",
              "    <tr>\n",
              "      <th>268259</th>\n",
              "      <td>0553213024</td>\n",
              "      <td>Othello (Bantam Classics)</td>\n",
              "      <td>William Shakespeare</td>\n",
              "      <td>1988</td>\n",
              "      <td>Bantam</td>\n",
              "      <td>http://images.amazon.com/images/P/0553213024.0...</td>\n",
              "      <td>http://images.amazon.com/images/P/0553213024.0...</td>\n",
              "      <td>101550</td>\n",
              "      <td>9</td>\n",
              "      <td>villa ballester, buenos aires, argentina</td>\n",
              "      <td>29.0</td>\n",
              "      <td>Classics</td>\n",
              "      <td>Othello (Bantam Classics) Classics</td>\n",
              "      <td>[othello, bantam, classics, classics]</td>\n",
              "    </tr>\n",
              "    <tr>\n",
              "      <th>12529</th>\n",
              "      <td>0553212710</td>\n",
              "      <td>Dracula (Bantam Classics)</td>\n",
              "      <td>BRAM STOKER</td>\n",
              "      <td>1983</td>\n",
              "      <td>Bantam</td>\n",
              "      <td>http://images.amazon.com/images/P/0553212710.0...</td>\n",
              "      <td>http://images.amazon.com/images/P/0553212710.0...</td>\n",
              "      <td>177458</td>\n",
              "      <td>0</td>\n",
              "      <td>ottawa, ontario, canada</td>\n",
              "      <td>29.0</td>\n",
              "      <td>Classics</td>\n",
              "      <td>Dracula (Bantam Classics) Classics</td>\n",
              "      <td>[dracula, bantam, classics, classics]</td>\n",
              "    </tr>\n",
              "    <tr>\n",
              "      <th>26305</th>\n",
              "      <td>0553212923</td>\n",
              "      <td>Hamlet (Bantam Classics)</td>\n",
              "      <td>William Shakespeare</td>\n",
              "      <td>1988</td>\n",
              "      <td>Bantam</td>\n",
              "      <td>http://images.amazon.com/images/P/0553212923.0...</td>\n",
              "      <td>http://images.amazon.com/images/P/0553212923.0...</td>\n",
              "      <td>245827</td>\n",
              "      <td>0</td>\n",
              "      <td>albuquerque, ,</td>\n",
              "      <td>35.0</td>\n",
              "      <td>Classics</td>\n",
              "      <td>Hamlet (Bantam Classics) Classics</td>\n",
              "      <td>[hamlet, bantam, classics, classics]</td>\n",
              "    </tr>\n",
              "    <tr>\n",
              "      <th>199250</th>\n",
              "      <td>0553211587</td>\n",
              "      <td>Pudd'Nhead Wilson (Bantam Classics)</td>\n",
              "      <td>Mark Twain</td>\n",
              "      <td>1984</td>\n",
              "      <td>Bantam</td>\n",
              "      <td>http://images.amazon.com/images/P/0553211587.0...</td>\n",
              "      <td>http://images.amazon.com/images/P/0553211587.0...</td>\n",
              "      <td>2766</td>\n",
              "      <td>8</td>\n",
              "      <td>frisco, texas, usa</td>\n",
              "      <td>42.0</td>\n",
              "      <td>Classics</td>\n",
              "      <td>Pudd'Nhead Wilson (Bantam Classics) Classics</td>\n",
              "      <td>[puddnhead, wilson, bantam, classics, classics]</td>\n",
              "    </tr>\n",
              "  </tbody>\n",
              "</table>\n",
              "</div>"
            ],
            "text/plain": [
              "              ISBN                           Book-Title  \\\n",
              "606305  0553213326                Kim (Bantam Classics)   \n",
              "54149   0553212605          Kidnapped (Bantam Classics)   \n",
              "216061  0553210858     The Deerslayer (Bantam Classics)   \n",
              "116547  0553213075        The Tempest (Bantam Classics)   \n",
              "152054  0553213695  The Metamorphosis (Bantam Classics)   \n",
              "6028    0553213393            Inferno (Bantam Classics)   \n",
              "268259  0553213024            Othello (Bantam Classics)   \n",
              "12529   0553212710            Dracula (Bantam Classics)   \n",
              "26305   0553212923             Hamlet (Bantam Classics)   \n",
              "199250  0553211587  Pudd'Nhead Wilson (Bantam Classics)   \n",
              "\n",
              "                   Book-Author Year-Of-Publication        Publisher  \\\n",
              "606305         Rudyard Kipling                1983           Bantam   \n",
              "54149   Robert Louis Stevenson                1990     Bantam Books   \n",
              "216061   James Fenimore Cooper                1991           Bantam   \n",
              "116547     William Shakespeare                1988           Bantam   \n",
              "152054             FRANZ KAFKA                1972           Bantam   \n",
              "6028                     DANTE                1982  Bantam Classics   \n",
              "268259     William Shakespeare                1988           Bantam   \n",
              "12529              BRAM STOKER                1983           Bantam   \n",
              "26305      William Shakespeare                1988           Bantam   \n",
              "199250              Mark Twain                1984           Bantam   \n",
              "\n",
              "                                              Image-URL-S  \\\n",
              "606305  http://images.amazon.com/images/P/0553213326.0...   \n",
              "54149   http://images.amazon.com/images/P/0553212605.0...   \n",
              "216061  http://images.amazon.com/images/P/0553210858.0...   \n",
              "116547  http://images.amazon.com/images/P/0553213075.0...   \n",
              "152054  http://images.amazon.com/images/P/0553213695.0...   \n",
              "6028    http://images.amazon.com/images/P/0553213393.0...   \n",
              "268259  http://images.amazon.com/images/P/0553213024.0...   \n",
              "12529   http://images.amazon.com/images/P/0553212710.0...   \n",
              "26305   http://images.amazon.com/images/P/0553212923.0...   \n",
              "199250  http://images.amazon.com/images/P/0553211587.0...   \n",
              "\n",
              "                                              Image-URL-M  User-ID  \\\n",
              "606305  http://images.amazon.com/images/P/0553213326.0...    91184   \n",
              "54149   http://images.amazon.com/images/P/0553212605.0...    36606   \n",
              "216061  http://images.amazon.com/images/P/0553210858.0...    29855   \n",
              "116547  http://images.amazon.com/images/P/0553213075.0...   216683   \n",
              "152054  http://images.amazon.com/images/P/0553213695.0...     7210   \n",
              "6028    http://images.amazon.com/images/P/0553213393.0...    11676   \n",
              "268259  http://images.amazon.com/images/P/0553213024.0...   101550   \n",
              "12529   http://images.amazon.com/images/P/0553212710.0...   177458   \n",
              "26305   http://images.amazon.com/images/P/0553212923.0...   245827   \n",
              "199250  http://images.amazon.com/images/P/0553211587.0...     2766   \n",
              "\n",
              "        Book-Rating                                  Location   Age     Genre  \\\n",
              "606305            0      kuala lumpur, kuala lumpur, malaysia  31.0  Classics   \n",
              "54149             0               san marcos, california, usa  39.0  Classics   \n",
              "216061            0                  morris, connecticut, usa  53.0  Classics   \n",
              "116547            8                 san jose, california, usa  35.0  Classics   \n",
              "152054            3           rothesay, new brunswick, canada  35.0  Classics   \n",
              "6028              0                             n/a, n/a, n/a  35.0  Classics   \n",
              "268259            9  villa ballester, buenos aires, argentina  29.0  Classics   \n",
              "12529             0                   ottawa, ontario, canada  29.0  Classics   \n",
              "26305             0                            albuquerque, ,  35.0  Classics   \n",
              "199250            8                        frisco, texas, usa  42.0  Classics   \n",
              "\n",
              "                                            combined  \\\n",
              "606305                Kim (Bantam Classics) Classics   \n",
              "54149           Kidnapped (Bantam Classics) Classics   \n",
              "216061     The Deerslayer (Bantam Classics) Classics   \n",
              "116547        The Tempest (Bantam Classics) Classics   \n",
              "152054  The Metamorphosis (Bantam Classics) Classics   \n",
              "6028              Inferno (Bantam Classics) Classics   \n",
              "268259            Othello (Bantam Classics) Classics   \n",
              "12529             Dracula (Bantam Classics) Classics   \n",
              "26305              Hamlet (Bantam Classics) Classics   \n",
              "199250  Pudd'Nhead Wilson (Bantam Classics) Classics   \n",
              "\n",
              "                                              processed  \n",
              "606305                [kim, bantam, classics, classics]  \n",
              "54149           [kidnapped, bantam, classics, classics]  \n",
              "216061         [deerslayer, bantam, classics, classics]  \n",
              "116547            [tempest, bantam, classics, classics]  \n",
              "152054      [metamorphosis, bantam, classics, classics]  \n",
              "6028              [inferno, bantam, classics, classics]  \n",
              "268259            [othello, bantam, classics, classics]  \n",
              "12529             [dracula, bantam, classics, classics]  \n",
              "26305              [hamlet, bantam, classics, classics]  \n",
              "199250  [puddnhead, wilson, bantam, classics, classics]  "
            ]
          },
          "execution_count": 392,
          "metadata": {},
          "output_type": "execute_result"
        }
      ],
      "source": [
        "recs"
      ]
    },
    {
      "cell_type": "code",
      "execution_count": 393,
      "metadata": {
        "colab": {
          "base_uri": "https://localhost:8080/",
          "height": 205
        },
        "id": "EW1Vx5-ZRrT_",
        "outputId": "f179e895-a3f5-4877-a972-a5ee03ae84ba"
      },
      "outputs": [
        {
          "data": {
            "text/html": [
              "<div>\n",
              "<style scoped>\n",
              "    .dataframe tbody tr th:only-of-type {\n",
              "        vertical-align: middle;\n",
              "    }\n",
              "\n",
              "    .dataframe tbody tr th {\n",
              "        vertical-align: top;\n",
              "    }\n",
              "\n",
              "    .dataframe thead th {\n",
              "        text-align: right;\n",
              "    }\n",
              "</style>\n",
              "<table border=\"1\" class=\"dataframe\">\n",
              "  <thead>\n",
              "    <tr style=\"text-align: right;\">\n",
              "      <th></th>\n",
              "      <th>ISBN</th>\n",
              "      <th>Book-Title</th>\n",
              "      <th>Book-Author</th>\n",
              "      <th>Year-Of-Publication</th>\n",
              "      <th>Publisher</th>\n",
              "      <th>Image-URL-S</th>\n",
              "      <th>Image-URL-M</th>\n",
              "      <th>User-ID</th>\n",
              "      <th>Book-Rating</th>\n",
              "      <th>Location</th>\n",
              "      <th>Age</th>\n",
              "      <th>Genre</th>\n",
              "      <th>combined</th>\n",
              "      <th>processed</th>\n",
              "    </tr>\n",
              "  </thead>\n",
              "  <tbody>\n",
              "    <tr>\n",
              "      <th>182</th>\n",
              "      <td>0451526341</td>\n",
              "      <td>Animal Farm</td>\n",
              "      <td>George Orwell</td>\n",
              "      <td>2004</td>\n",
              "      <td>Signet</td>\n",
              "      <td>http://images.amazon.com/images/P/0451526341.0...</td>\n",
              "      <td>http://images.amazon.com/images/P/0451526341.0...</td>\n",
              "      <td>11676</td>\n",
              "      <td>10</td>\n",
              "      <td>n/a, n/a, n/a</td>\n",
              "      <td>35.0</td>\n",
              "      <td>Classics</td>\n",
              "      <td>Animal Farm Classics</td>\n",
              "      <td>[animal, farm, classics]</td>\n",
              "    </tr>\n",
              "  </tbody>\n",
              "</table>\n",
              "</div>"
            ],
            "text/plain": [
              "           ISBN   Book-Title    Book-Author Year-Of-Publication Publisher  \\\n",
              "182  0451526341  Animal Farm  George Orwell                2004    Signet   \n",
              "\n",
              "                                           Image-URL-S  \\\n",
              "182  http://images.amazon.com/images/P/0451526341.0...   \n",
              "\n",
              "                                           Image-URL-M  User-ID  Book-Rating  \\\n",
              "182  http://images.amazon.com/images/P/0451526341.0...    11676           10   \n",
              "\n",
              "          Location   Age     Genre              combined  \\\n",
              "182  n/a, n/a, n/a  35.0  Classics  Animal Farm Classics   \n",
              "\n",
              "                    processed  \n",
              "182  [animal, farm, classics]  "
            ]
          },
          "execution_count": 393,
          "metadata": {},
          "output_type": "execute_result"
        }
      ],
      "source": [
        "full_df[full_df[\"Book-Title\"] == \"Animal Farm\"]"
      ]
    }
  ],
  "metadata": {
    "accelerator": "GPU",
    "colab": {
      "gpuType": "T4",
      "provenance": []
    },
    "kernelspec": {
      "display_name": "Python 3",
      "name": "python3"
    },
    "language_info": {
      "codemirror_mode": {
        "name": "ipython",
        "version": 3
      },
      "file_extension": ".py",
      "mimetype": "text/x-python",
      "name": "python",
      "nbconvert_exporter": "python",
      "pygments_lexer": "ipython3",
      "version": "3.11.7"
    },
    "widgets": {
      "application/vnd.jupyter.widget-state+json": {
        "01da011baa2f48b3b372efdffd946be9": {
          "model_module": "@jupyter-widgets/base",
          "model_module_version": "1.2.0",
          "model_name": "LayoutModel",
          "state": {
            "_model_module": "@jupyter-widgets/base",
            "_model_module_version": "1.2.0",
            "_model_name": "LayoutModel",
            "_view_count": null,
            "_view_module": "@jupyter-widgets/base",
            "_view_module_version": "1.2.0",
            "_view_name": "LayoutView",
            "align_content": null,
            "align_items": null,
            "align_self": null,
            "border": null,
            "bottom": null,
            "display": null,
            "flex": null,
            "flex_flow": null,
            "grid_area": null,
            "grid_auto_columns": null,
            "grid_auto_flow": null,
            "grid_auto_rows": null,
            "grid_column": null,
            "grid_gap": null,
            "grid_row": null,
            "grid_template_areas": null,
            "grid_template_columns": null,
            "grid_template_rows": null,
            "height": null,
            "justify_content": null,
            "justify_items": null,
            "left": null,
            "margin": null,
            "max_height": null,
            "max_width": null,
            "min_height": null,
            "min_width": null,
            "object_fit": null,
            "object_position": null,
            "order": null,
            "overflow": null,
            "overflow_x": null,
            "overflow_y": null,
            "padding": null,
            "right": null,
            "top": null,
            "visibility": null,
            "width": null
          }
        },
        "0276743bd46940cda14985e243128470": {
          "model_module": "@jupyter-widgets/controls",
          "model_module_version": "1.5.0",
          "model_name": "ProgressStyleModel",
          "state": {
            "_model_module": "@jupyter-widgets/controls",
            "_model_module_version": "1.5.0",
            "_model_name": "ProgressStyleModel",
            "_view_count": null,
            "_view_module": "@jupyter-widgets/base",
            "_view_module_version": "1.2.0",
            "_view_name": "StyleView",
            "bar_color": null,
            "description_width": ""
          }
        },
        "02c68d94b38242c4a4001b907e7775a8": {
          "model_module": "@jupyter-widgets/controls",
          "model_module_version": "1.5.0",
          "model_name": "IntProgressModel",
          "state": {
            "_dom_classes": [],
            "_model_module": "@jupyter-widgets/controls",
            "_model_module_version": "1.5.0",
            "_model_name": "IntProgressModel",
            "_view_count": null,
            "_view_module": "@jupyter-widgets/controls",
            "_view_module_version": "1.5.0",
            "_view_name": "ProgressView",
            "bar_style": "success",
            "description": "100.00%",
            "description_tooltip": null,
            "layout": "IPY_MODEL_56b70e2cf09348e6a7c6e38c43497e22",
            "max": 33891,
            "min": 0,
            "orientation": "horizontal",
            "style": "IPY_MODEL_f69277ca2cbf409983610e105d72c59e",
            "value": 33891
          }
        },
        "064b9c6213f1429db6966b0d86ca0938": {
          "model_module": "@jupyter-widgets/base",
          "model_module_version": "1.2.0",
          "model_name": "LayoutModel",
          "state": {
            "_model_module": "@jupyter-widgets/base",
            "_model_module_version": "1.2.0",
            "_model_name": "LayoutModel",
            "_view_count": null,
            "_view_module": "@jupyter-widgets/base",
            "_view_module_version": "1.2.0",
            "_view_name": "LayoutView",
            "align_content": null,
            "align_items": null,
            "align_self": null,
            "border": null,
            "bottom": null,
            "display": null,
            "flex": null,
            "flex_flow": null,
            "grid_area": null,
            "grid_auto_columns": null,
            "grid_auto_flow": null,
            "grid_auto_rows": null,
            "grid_column": null,
            "grid_gap": null,
            "grid_row": null,
            "grid_template_areas": null,
            "grid_template_columns": null,
            "grid_template_rows": null,
            "height": null,
            "justify_content": null,
            "justify_items": null,
            "left": null,
            "margin": null,
            "max_height": null,
            "max_width": null,
            "min_height": null,
            "min_width": null,
            "object_fit": null,
            "object_position": null,
            "order": null,
            "overflow": null,
            "overflow_x": null,
            "overflow_y": null,
            "padding": null,
            "right": null,
            "top": null,
            "visibility": null,
            "width": null
          }
        },
        "0745da1367784e8f9e04a349686b6065": {
          "model_module": "@jupyter-widgets/base",
          "model_module_version": "1.2.0",
          "model_name": "LayoutModel",
          "state": {
            "_model_module": "@jupyter-widgets/base",
            "_model_module_version": "1.2.0",
            "_model_name": "LayoutModel",
            "_view_count": null,
            "_view_module": "@jupyter-widgets/base",
            "_view_module_version": "1.2.0",
            "_view_name": "LayoutView",
            "align_content": null,
            "align_items": null,
            "align_self": null,
            "border": null,
            "bottom": null,
            "display": null,
            "flex": null,
            "flex_flow": null,
            "grid_area": null,
            "grid_auto_columns": null,
            "grid_auto_flow": null,
            "grid_auto_rows": null,
            "grid_column": null,
            "grid_gap": null,
            "grid_row": null,
            "grid_template_areas": null,
            "grid_template_columns": null,
            "grid_template_rows": null,
            "height": null,
            "justify_content": null,
            "justify_items": null,
            "left": null,
            "margin": null,
            "max_height": null,
            "max_width": null,
            "min_height": null,
            "min_width": null,
            "object_fit": null,
            "object_position": null,
            "order": null,
            "overflow": null,
            "overflow_x": null,
            "overflow_y": null,
            "padding": null,
            "right": null,
            "top": null,
            "visibility": null,
            "width": null
          }
        },
        "09f18b580e1641ab84fe0c7262821671": {
          "model_module": "@jupyter-widgets/controls",
          "model_module_version": "1.5.0",
          "model_name": "HBoxModel",
          "state": {
            "_dom_classes": [],
            "_model_module": "@jupyter-widgets/controls",
            "_model_module_version": "1.5.0",
            "_model_name": "HBoxModel",
            "_view_count": null,
            "_view_module": "@jupyter-widgets/controls",
            "_view_module_version": "1.5.0",
            "_view_name": "HBoxView",
            "box_style": "",
            "children": [
              "IPY_MODEL_28d61e35ae44489998ae0a8abc269c5d",
              "IPY_MODEL_af1bd89898f6451abeda3abac06e1e29"
            ],
            "layout": "IPY_MODEL_d667990362fa4f34ba0a7d2a82dd6f0c"
          }
        },
        "0de854821d3d4ef29e23681bb9543848": {
          "model_module": "@jupyter-widgets/controls",
          "model_module_version": "1.5.0",
          "model_name": "LabelModel",
          "state": {
            "_dom_classes": [],
            "_model_module": "@jupyter-widgets/controls",
            "_model_module_version": "1.5.0",
            "_model_name": "LabelModel",
            "_view_count": null,
            "_view_module": "@jupyter-widgets/controls",
            "_view_module_version": "1.5.0",
            "_view_name": "LabelView",
            "description": "",
            "description_tooltip": null,
            "layout": "IPY_MODEL_88f636d589df4a35a3415bbf73f03dc8",
            "placeholder": "​",
            "style": "IPY_MODEL_e10d0a4329614c1aa7cb491f2180a2db",
            "value": "33892 / 33892"
          }
        },
        "1666a54a095f42cb94ce7503249c3a9a": {
          "model_module": "@jupyter-widgets/base",
          "model_module_version": "1.2.0",
          "model_name": "LayoutModel",
          "state": {
            "_model_module": "@jupyter-widgets/base",
            "_model_module_version": "1.2.0",
            "_model_name": "LayoutModel",
            "_view_count": null,
            "_view_module": "@jupyter-widgets/base",
            "_view_module_version": "1.2.0",
            "_view_name": "LayoutView",
            "align_content": null,
            "align_items": null,
            "align_self": null,
            "border": null,
            "bottom": null,
            "display": null,
            "flex": null,
            "flex_flow": null,
            "grid_area": null,
            "grid_auto_columns": null,
            "grid_auto_flow": null,
            "grid_auto_rows": null,
            "grid_column": null,
            "grid_gap": null,
            "grid_row": null,
            "grid_template_areas": null,
            "grid_template_columns": null,
            "grid_template_rows": null,
            "height": null,
            "justify_content": null,
            "justify_items": null,
            "left": null,
            "margin": null,
            "max_height": null,
            "max_width": null,
            "min_height": null,
            "min_width": null,
            "object_fit": null,
            "object_position": null,
            "order": null,
            "overflow": null,
            "overflow_x": null,
            "overflow_y": null,
            "padding": null,
            "right": null,
            "top": null,
            "visibility": null,
            "width": null
          }
        },
        "1964622073304975938da820551fd302": {
          "model_module": "@jupyter-widgets/controls",
          "model_module_version": "1.5.0",
          "model_name": "IntProgressModel",
          "state": {
            "_dom_classes": [],
            "_model_module": "@jupyter-widgets/controls",
            "_model_module_version": "1.5.0",
            "_model_name": "IntProgressModel",
            "_view_count": null,
            "_view_module": "@jupyter-widgets/controls",
            "_view_module_version": "1.5.0",
            "_view_name": "ProgressView",
            "bar_style": "success",
            "description": "100.00%",
            "description_tooltip": null,
            "layout": "IPY_MODEL_98bfabdcf8de488fb58d0238d2a8ab81",
            "max": 33892,
            "min": 0,
            "orientation": "horizontal",
            "style": "IPY_MODEL_f676c31f526a4ad4ac240167052c4816",
            "value": 33892
          }
        },
        "1bfb89394af242d88f01001f98d32c21": {
          "model_module": "@jupyter-widgets/controls",
          "model_module_version": "1.5.0",
          "model_name": "DescriptionStyleModel",
          "state": {
            "_model_module": "@jupyter-widgets/controls",
            "_model_module_version": "1.5.0",
            "_model_name": "DescriptionStyleModel",
            "_view_count": null,
            "_view_module": "@jupyter-widgets/base",
            "_view_module_version": "1.2.0",
            "_view_name": "StyleView",
            "description_width": ""
          }
        },
        "234740467ea44b8eae8e299b8a5f2d7f": {
          "model_module": "@jupyter-widgets/base",
          "model_module_version": "1.2.0",
          "model_name": "LayoutModel",
          "state": {
            "_model_module": "@jupyter-widgets/base",
            "_model_module_version": "1.2.0",
            "_model_name": "LayoutModel",
            "_view_count": null,
            "_view_module": "@jupyter-widgets/base",
            "_view_module_version": "1.2.0",
            "_view_name": "LayoutView",
            "align_content": null,
            "align_items": null,
            "align_self": null,
            "border": null,
            "bottom": null,
            "display": null,
            "flex": null,
            "flex_flow": null,
            "grid_area": null,
            "grid_auto_columns": null,
            "grid_auto_flow": null,
            "grid_auto_rows": null,
            "grid_column": null,
            "grid_gap": null,
            "grid_row": null,
            "grid_template_areas": null,
            "grid_template_columns": null,
            "grid_template_rows": null,
            "height": null,
            "justify_content": null,
            "justify_items": null,
            "left": null,
            "margin": null,
            "max_height": null,
            "max_width": null,
            "min_height": null,
            "min_width": null,
            "object_fit": null,
            "object_position": null,
            "order": null,
            "overflow": null,
            "overflow_x": null,
            "overflow_y": null,
            "padding": null,
            "right": null,
            "top": null,
            "visibility": null,
            "width": null
          }
        },
        "235ce0eb7013460496b260de0a5e59a5": {
          "model_module": "@jupyter-widgets/controls",
          "model_module_version": "1.5.0",
          "model_name": "ProgressStyleModel",
          "state": {
            "_model_module": "@jupyter-widgets/controls",
            "_model_module_version": "1.5.0",
            "_model_name": "ProgressStyleModel",
            "_view_count": null,
            "_view_module": "@jupyter-widgets/base",
            "_view_module_version": "1.2.0",
            "_view_name": "StyleView",
            "bar_color": null,
            "description_width": ""
          }
        },
        "244c4f4d642046dbb9604b2ba54e4483": {
          "model_module": "@jupyter-widgets/base",
          "model_module_version": "1.2.0",
          "model_name": "LayoutModel",
          "state": {
            "_model_module": "@jupyter-widgets/base",
            "_model_module_version": "1.2.0",
            "_model_name": "LayoutModel",
            "_view_count": null,
            "_view_module": "@jupyter-widgets/base",
            "_view_module_version": "1.2.0",
            "_view_name": "LayoutView",
            "align_content": null,
            "align_items": null,
            "align_self": null,
            "border": null,
            "bottom": null,
            "display": null,
            "flex": null,
            "flex_flow": null,
            "grid_area": null,
            "grid_auto_columns": null,
            "grid_auto_flow": null,
            "grid_auto_rows": null,
            "grid_column": null,
            "grid_gap": null,
            "grid_row": null,
            "grid_template_areas": null,
            "grid_template_columns": null,
            "grid_template_rows": null,
            "height": null,
            "justify_content": null,
            "justify_items": null,
            "left": null,
            "margin": null,
            "max_height": null,
            "max_width": null,
            "min_height": null,
            "min_width": null,
            "object_fit": null,
            "object_position": null,
            "order": null,
            "overflow": null,
            "overflow_x": null,
            "overflow_y": null,
            "padding": null,
            "right": null,
            "top": null,
            "visibility": null,
            "width": null
          }
        },
        "282bd2fb65f045b99e54f4b6e41ea097": {
          "model_module": "@jupyter-widgets/controls",
          "model_module_version": "1.5.0",
          "model_name": "HBoxModel",
          "state": {
            "_dom_classes": [],
            "_model_module": "@jupyter-widgets/controls",
            "_model_module_version": "1.5.0",
            "_model_name": "HBoxModel",
            "_view_count": null,
            "_view_module": "@jupyter-widgets/controls",
            "_view_module_version": "1.5.0",
            "_view_name": "HBoxView",
            "box_style": "",
            "children": [
              "IPY_MODEL_02c68d94b38242c4a4001b907e7775a8",
              "IPY_MODEL_63cd8a7c9d1543f2bd1d8bb46c3f9397"
            ],
            "layout": "IPY_MODEL_735fa60073074d7c9d7829ebc067e78d"
          }
        },
        "28d61e35ae44489998ae0a8abc269c5d": {
          "model_module": "@jupyter-widgets/controls",
          "model_module_version": "1.5.0",
          "model_name": "IntProgressModel",
          "state": {
            "_dom_classes": [],
            "_model_module": "@jupyter-widgets/controls",
            "_model_module_version": "1.5.0",
            "_model_name": "IntProgressModel",
            "_view_count": null,
            "_view_module": "@jupyter-widgets/controls",
            "_view_module_version": "1.5.0",
            "_view_name": "ProgressView",
            "bar_style": "success",
            "description": "100.00%",
            "description_tooltip": null,
            "layout": "IPY_MODEL_064b9c6213f1429db6966b0d86ca0938",
            "max": 33892,
            "min": 0,
            "orientation": "horizontal",
            "style": "IPY_MODEL_0276743bd46940cda14985e243128470",
            "value": 33892
          }
        },
        "2961074041f2494ea6b02aa846b87278": {
          "model_module": "@jupyter-widgets/controls",
          "model_module_version": "1.5.0",
          "model_name": "DescriptionStyleModel",
          "state": {
            "_model_module": "@jupyter-widgets/controls",
            "_model_module_version": "1.5.0",
            "_model_name": "DescriptionStyleModel",
            "_view_count": null,
            "_view_module": "@jupyter-widgets/base",
            "_view_module_version": "1.2.0",
            "_view_name": "StyleView",
            "description_width": ""
          }
        },
        "2abb948b7411467992726bc4dfbf4d48": {
          "model_module": "@jupyter-widgets/controls",
          "model_module_version": "1.5.0",
          "model_name": "IntProgressModel",
          "state": {
            "_dom_classes": [],
            "_model_module": "@jupyter-widgets/controls",
            "_model_module_version": "1.5.0",
            "_model_name": "IntProgressModel",
            "_view_count": null,
            "_view_module": "@jupyter-widgets/controls",
            "_view_module_version": "1.5.0",
            "_view_name": "ProgressView",
            "bar_style": "success",
            "description": "100.00%",
            "description_tooltip": null,
            "layout": "IPY_MODEL_a7fb09963a6747cd82bd08e997905601",
            "max": 33891,
            "min": 0,
            "orientation": "horizontal",
            "style": "IPY_MODEL_823bef1183f543f1915bc902bd52d7ec",
            "value": 33891
          }
        },
        "2f36df2062ff49cd90640e1243ca16c4": {
          "model_module": "@jupyter-widgets/controls",
          "model_module_version": "1.5.0",
          "model_name": "LabelModel",
          "state": {
            "_dom_classes": [],
            "_model_module": "@jupyter-widgets/controls",
            "_model_module_version": "1.5.0",
            "_model_name": "LabelModel",
            "_view_count": null,
            "_view_module": "@jupyter-widgets/controls",
            "_view_module_version": "1.5.0",
            "_view_name": "LabelView",
            "description": "",
            "description_tooltip": null,
            "layout": "IPY_MODEL_d92d68832cb84a1b9459580e21977f16",
            "placeholder": "​",
            "style": "IPY_MODEL_2961074041f2494ea6b02aa846b87278",
            "value": "33892 / 33892"
          }
        },
        "30e9a017efc14d67ab140e3e752aa542": {
          "model_module": "@jupyter-widgets/controls",
          "model_module_version": "1.5.0",
          "model_name": "HBoxModel",
          "state": {
            "_dom_classes": [],
            "_model_module": "@jupyter-widgets/controls",
            "_model_module_version": "1.5.0",
            "_model_name": "HBoxModel",
            "_view_count": null,
            "_view_module": "@jupyter-widgets/controls",
            "_view_module_version": "1.5.0",
            "_view_name": "HBoxView",
            "box_style": "",
            "children": [
              "IPY_MODEL_dab4e9cc3549481b987204eaadb8bf4d",
              "IPY_MODEL_2f36df2062ff49cd90640e1243ca16c4"
            ],
            "layout": "IPY_MODEL_c25c35b4308b4a24aedc17a9283fab6d"
          }
        },
        "3b36cbf1ee634d1ab77f8a1c86b68f74": {
          "model_module": "@jupyter-widgets/controls",
          "model_module_version": "1.5.0",
          "model_name": "ProgressStyleModel",
          "state": {
            "_model_module": "@jupyter-widgets/controls",
            "_model_module_version": "1.5.0",
            "_model_name": "ProgressStyleModel",
            "_view_count": null,
            "_view_module": "@jupyter-widgets/base",
            "_view_module_version": "1.2.0",
            "_view_name": "StyleView",
            "bar_color": null,
            "description_width": ""
          }
        },
        "3ff6010971da4b4a8ab88945b731a793": {
          "model_module": "@jupyter-widgets/controls",
          "model_module_version": "1.5.0",
          "model_name": "IntProgressModel",
          "state": {
            "_dom_classes": [],
            "_model_module": "@jupyter-widgets/controls",
            "_model_module_version": "1.5.0",
            "_model_name": "IntProgressModel",
            "_view_count": null,
            "_view_module": "@jupyter-widgets/controls",
            "_view_module_version": "1.5.0",
            "_view_name": "ProgressView",
            "bar_style": "success",
            "description": "100.00%",
            "description_tooltip": null,
            "layout": "IPY_MODEL_fe00984853444250afd478b8fe871c28",
            "max": 33892,
            "min": 0,
            "orientation": "horizontal",
            "style": "IPY_MODEL_da5844a907454ede8af9a1df040de33e",
            "value": 33892
          }
        },
        "494863b49ef340b7b7402d788b3e6bce": {
          "model_module": "@jupyter-widgets/controls",
          "model_module_version": "1.5.0",
          "model_name": "DescriptionStyleModel",
          "state": {
            "_model_module": "@jupyter-widgets/controls",
            "_model_module_version": "1.5.0",
            "_model_name": "DescriptionStyleModel",
            "_view_count": null,
            "_view_module": "@jupyter-widgets/base",
            "_view_module_version": "1.2.0",
            "_view_name": "StyleView",
            "description_width": ""
          }
        },
        "56b70e2cf09348e6a7c6e38c43497e22": {
          "model_module": "@jupyter-widgets/base",
          "model_module_version": "1.2.0",
          "model_name": "LayoutModel",
          "state": {
            "_model_module": "@jupyter-widgets/base",
            "_model_module_version": "1.2.0",
            "_model_name": "LayoutModel",
            "_view_count": null,
            "_view_module": "@jupyter-widgets/base",
            "_view_module_version": "1.2.0",
            "_view_name": "LayoutView",
            "align_content": null,
            "align_items": null,
            "align_self": null,
            "border": null,
            "bottom": null,
            "display": null,
            "flex": null,
            "flex_flow": null,
            "grid_area": null,
            "grid_auto_columns": null,
            "grid_auto_flow": null,
            "grid_auto_rows": null,
            "grid_column": null,
            "grid_gap": null,
            "grid_row": null,
            "grid_template_areas": null,
            "grid_template_columns": null,
            "grid_template_rows": null,
            "height": null,
            "justify_content": null,
            "justify_items": null,
            "left": null,
            "margin": null,
            "max_height": null,
            "max_width": null,
            "min_height": null,
            "min_width": null,
            "object_fit": null,
            "object_position": null,
            "order": null,
            "overflow": null,
            "overflow_x": null,
            "overflow_y": null,
            "padding": null,
            "right": null,
            "top": null,
            "visibility": null,
            "width": null
          }
        },
        "5b1d9ff370004b469582876d5555fd4e": {
          "model_module": "@jupyter-widgets/base",
          "model_module_version": "1.2.0",
          "model_name": "LayoutModel",
          "state": {
            "_model_module": "@jupyter-widgets/base",
            "_model_module_version": "1.2.0",
            "_model_name": "LayoutModel",
            "_view_count": null,
            "_view_module": "@jupyter-widgets/base",
            "_view_module_version": "1.2.0",
            "_view_name": "LayoutView",
            "align_content": null,
            "align_items": null,
            "align_self": null,
            "border": null,
            "bottom": null,
            "display": null,
            "flex": null,
            "flex_flow": null,
            "grid_area": null,
            "grid_auto_columns": null,
            "grid_auto_flow": null,
            "grid_auto_rows": null,
            "grid_column": null,
            "grid_gap": null,
            "grid_row": null,
            "grid_template_areas": null,
            "grid_template_columns": null,
            "grid_template_rows": null,
            "height": null,
            "justify_content": null,
            "justify_items": null,
            "left": null,
            "margin": null,
            "max_height": null,
            "max_width": null,
            "min_height": null,
            "min_width": null,
            "object_fit": null,
            "object_position": null,
            "order": null,
            "overflow": null,
            "overflow_x": null,
            "overflow_y": null,
            "padding": null,
            "right": null,
            "top": null,
            "visibility": null,
            "width": null
          }
        },
        "5dcb3b79543a4469b6aaa46b9b3eef93": {
          "model_module": "@jupyter-widgets/base",
          "model_module_version": "1.2.0",
          "model_name": "LayoutModel",
          "state": {
            "_model_module": "@jupyter-widgets/base",
            "_model_module_version": "1.2.0",
            "_model_name": "LayoutModel",
            "_view_count": null,
            "_view_module": "@jupyter-widgets/base",
            "_view_module_version": "1.2.0",
            "_view_name": "LayoutView",
            "align_content": null,
            "align_items": null,
            "align_self": null,
            "border": null,
            "bottom": null,
            "display": null,
            "flex": null,
            "flex_flow": null,
            "grid_area": null,
            "grid_auto_columns": null,
            "grid_auto_flow": null,
            "grid_auto_rows": null,
            "grid_column": null,
            "grid_gap": null,
            "grid_row": null,
            "grid_template_areas": null,
            "grid_template_columns": null,
            "grid_template_rows": null,
            "height": null,
            "justify_content": null,
            "justify_items": null,
            "left": null,
            "margin": null,
            "max_height": null,
            "max_width": null,
            "min_height": null,
            "min_width": null,
            "object_fit": null,
            "object_position": null,
            "order": null,
            "overflow": null,
            "overflow_x": null,
            "overflow_y": null,
            "padding": null,
            "right": null,
            "top": null,
            "visibility": null,
            "width": null
          }
        },
        "63cd8a7c9d1543f2bd1d8bb46c3f9397": {
          "model_module": "@jupyter-widgets/controls",
          "model_module_version": "1.5.0",
          "model_name": "LabelModel",
          "state": {
            "_dom_classes": [],
            "_model_module": "@jupyter-widgets/controls",
            "_model_module_version": "1.5.0",
            "_model_name": "LabelModel",
            "_view_count": null,
            "_view_module": "@jupyter-widgets/controls",
            "_view_module_version": "1.5.0",
            "_view_name": "LabelView",
            "description": "",
            "description_tooltip": null,
            "layout": "IPY_MODEL_a90e3e26b08e4708b3b27d15383229f0",
            "placeholder": "​",
            "style": "IPY_MODEL_96900088bba84d31aa220b67df573cdf",
            "value": "33891 / 33891"
          }
        },
        "666d55476764446899accce02355a8ad": {
          "model_module": "@jupyter-widgets/base",
          "model_module_version": "1.2.0",
          "model_name": "LayoutModel",
          "state": {
            "_model_module": "@jupyter-widgets/base",
            "_model_module_version": "1.2.0",
            "_model_name": "LayoutModel",
            "_view_count": null,
            "_view_module": "@jupyter-widgets/base",
            "_view_module_version": "1.2.0",
            "_view_name": "LayoutView",
            "align_content": null,
            "align_items": null,
            "align_self": null,
            "border": null,
            "bottom": null,
            "display": null,
            "flex": null,
            "flex_flow": null,
            "grid_area": null,
            "grid_auto_columns": null,
            "grid_auto_flow": null,
            "grid_auto_rows": null,
            "grid_column": null,
            "grid_gap": null,
            "grid_row": null,
            "grid_template_areas": null,
            "grid_template_columns": null,
            "grid_template_rows": null,
            "height": null,
            "justify_content": null,
            "justify_items": null,
            "left": null,
            "margin": null,
            "max_height": null,
            "max_width": null,
            "min_height": null,
            "min_width": null,
            "object_fit": null,
            "object_position": null,
            "order": null,
            "overflow": null,
            "overflow_x": null,
            "overflow_y": null,
            "padding": null,
            "right": null,
            "top": null,
            "visibility": null,
            "width": null
          }
        },
        "6cb46d74c5e14a75b0157789e5d47ec6": {
          "model_module": "@jupyter-widgets/base",
          "model_module_version": "1.2.0",
          "model_name": "LayoutModel",
          "state": {
            "_model_module": "@jupyter-widgets/base",
            "_model_module_version": "1.2.0",
            "_model_name": "LayoutModel",
            "_view_count": null,
            "_view_module": "@jupyter-widgets/base",
            "_view_module_version": "1.2.0",
            "_view_name": "LayoutView",
            "align_content": null,
            "align_items": null,
            "align_self": null,
            "border": null,
            "bottom": null,
            "display": null,
            "flex": null,
            "flex_flow": null,
            "grid_area": null,
            "grid_auto_columns": null,
            "grid_auto_flow": null,
            "grid_auto_rows": null,
            "grid_column": null,
            "grid_gap": null,
            "grid_row": null,
            "grid_template_areas": null,
            "grid_template_columns": null,
            "grid_template_rows": null,
            "height": null,
            "justify_content": null,
            "justify_items": null,
            "left": null,
            "margin": null,
            "max_height": null,
            "max_width": null,
            "min_height": null,
            "min_width": null,
            "object_fit": null,
            "object_position": null,
            "order": null,
            "overflow": null,
            "overflow_x": null,
            "overflow_y": null,
            "padding": null,
            "right": null,
            "top": null,
            "visibility": null,
            "width": null
          }
        },
        "735fa60073074d7c9d7829ebc067e78d": {
          "model_module": "@jupyter-widgets/base",
          "model_module_version": "1.2.0",
          "model_name": "LayoutModel",
          "state": {
            "_model_module": "@jupyter-widgets/base",
            "_model_module_version": "1.2.0",
            "_model_name": "LayoutModel",
            "_view_count": null,
            "_view_module": "@jupyter-widgets/base",
            "_view_module_version": "1.2.0",
            "_view_name": "LayoutView",
            "align_content": null,
            "align_items": null,
            "align_self": null,
            "border": null,
            "bottom": null,
            "display": null,
            "flex": null,
            "flex_flow": null,
            "grid_area": null,
            "grid_auto_columns": null,
            "grid_auto_flow": null,
            "grid_auto_rows": null,
            "grid_column": null,
            "grid_gap": null,
            "grid_row": null,
            "grid_template_areas": null,
            "grid_template_columns": null,
            "grid_template_rows": null,
            "height": null,
            "justify_content": null,
            "justify_items": null,
            "left": null,
            "margin": null,
            "max_height": null,
            "max_width": null,
            "min_height": null,
            "min_width": null,
            "object_fit": null,
            "object_position": null,
            "order": null,
            "overflow": null,
            "overflow_x": null,
            "overflow_y": null,
            "padding": null,
            "right": null,
            "top": null,
            "visibility": null,
            "width": null
          }
        },
        "73ffad8a562642a5a134123bbc2ce89a": {
          "model_module": "@jupyter-widgets/controls",
          "model_module_version": "1.5.0",
          "model_name": "HBoxModel",
          "state": {
            "_dom_classes": [],
            "_model_module": "@jupyter-widgets/controls",
            "_model_module_version": "1.5.0",
            "_model_name": "HBoxModel",
            "_view_count": null,
            "_view_module": "@jupyter-widgets/controls",
            "_view_module_version": "1.5.0",
            "_view_name": "HBoxView",
            "box_style": "",
            "children": [
              "IPY_MODEL_3ff6010971da4b4a8ab88945b731a793",
              "IPY_MODEL_0de854821d3d4ef29e23681bb9543848"
            ],
            "layout": "IPY_MODEL_0745da1367784e8f9e04a349686b6065"
          }
        },
        "7538980d529e44b28e33975b571c9a1b": {
          "model_module": "@jupyter-widgets/controls",
          "model_module_version": "1.5.0",
          "model_name": "DescriptionStyleModel",
          "state": {
            "_model_module": "@jupyter-widgets/controls",
            "_model_module_version": "1.5.0",
            "_model_name": "DescriptionStyleModel",
            "_view_count": null,
            "_view_module": "@jupyter-widgets/base",
            "_view_module_version": "1.2.0",
            "_view_name": "StyleView",
            "description_width": ""
          }
        },
        "7677a227e30447f0b57264a0a9790758": {
          "model_module": "@jupyter-widgets/base",
          "model_module_version": "1.2.0",
          "model_name": "LayoutModel",
          "state": {
            "_model_module": "@jupyter-widgets/base",
            "_model_module_version": "1.2.0",
            "_model_name": "LayoutModel",
            "_view_count": null,
            "_view_module": "@jupyter-widgets/base",
            "_view_module_version": "1.2.0",
            "_view_name": "LayoutView",
            "align_content": null,
            "align_items": null,
            "align_self": null,
            "border": null,
            "bottom": null,
            "display": null,
            "flex": null,
            "flex_flow": null,
            "grid_area": null,
            "grid_auto_columns": null,
            "grid_auto_flow": null,
            "grid_auto_rows": null,
            "grid_column": null,
            "grid_gap": null,
            "grid_row": null,
            "grid_template_areas": null,
            "grid_template_columns": null,
            "grid_template_rows": null,
            "height": null,
            "justify_content": null,
            "justify_items": null,
            "left": null,
            "margin": null,
            "max_height": null,
            "max_width": null,
            "min_height": null,
            "min_width": null,
            "object_fit": null,
            "object_position": null,
            "order": null,
            "overflow": null,
            "overflow_x": null,
            "overflow_y": null,
            "padding": null,
            "right": null,
            "top": null,
            "visibility": null,
            "width": null
          }
        },
        "7c38b6d8e80841daaa0a1e5c7df3afc9": {
          "model_module": "@jupyter-widgets/controls",
          "model_module_version": "1.5.0",
          "model_name": "DescriptionStyleModel",
          "state": {
            "_model_module": "@jupyter-widgets/controls",
            "_model_module_version": "1.5.0",
            "_model_name": "DescriptionStyleModel",
            "_view_count": null,
            "_view_module": "@jupyter-widgets/base",
            "_view_module_version": "1.2.0",
            "_view_name": "StyleView",
            "description_width": ""
          }
        },
        "8007ee04577849249b9f38cb7ea51f76": {
          "model_module": "@jupyter-widgets/base",
          "model_module_version": "1.2.0",
          "model_name": "LayoutModel",
          "state": {
            "_model_module": "@jupyter-widgets/base",
            "_model_module_version": "1.2.0",
            "_model_name": "LayoutModel",
            "_view_count": null,
            "_view_module": "@jupyter-widgets/base",
            "_view_module_version": "1.2.0",
            "_view_name": "LayoutView",
            "align_content": null,
            "align_items": null,
            "align_self": null,
            "border": null,
            "bottom": null,
            "display": null,
            "flex": null,
            "flex_flow": null,
            "grid_area": null,
            "grid_auto_columns": null,
            "grid_auto_flow": null,
            "grid_auto_rows": null,
            "grid_column": null,
            "grid_gap": null,
            "grid_row": null,
            "grid_template_areas": null,
            "grid_template_columns": null,
            "grid_template_rows": null,
            "height": null,
            "justify_content": null,
            "justify_items": null,
            "left": null,
            "margin": null,
            "max_height": null,
            "max_width": null,
            "min_height": null,
            "min_width": null,
            "object_fit": null,
            "object_position": null,
            "order": null,
            "overflow": null,
            "overflow_x": null,
            "overflow_y": null,
            "padding": null,
            "right": null,
            "top": null,
            "visibility": null,
            "width": null
          }
        },
        "823bef1183f543f1915bc902bd52d7ec": {
          "model_module": "@jupyter-widgets/controls",
          "model_module_version": "1.5.0",
          "model_name": "ProgressStyleModel",
          "state": {
            "_model_module": "@jupyter-widgets/controls",
            "_model_module_version": "1.5.0",
            "_model_name": "ProgressStyleModel",
            "_view_count": null,
            "_view_module": "@jupyter-widgets/base",
            "_view_module_version": "1.2.0",
            "_view_name": "StyleView",
            "bar_color": null,
            "description_width": ""
          }
        },
        "845452ca6aa0479a9f31b869dfbb1396": {
          "model_module": "@jupyter-widgets/controls",
          "model_module_version": "1.5.0",
          "model_name": "HBoxModel",
          "state": {
            "_dom_classes": [],
            "_model_module": "@jupyter-widgets/controls",
            "_model_module_version": "1.5.0",
            "_model_name": "HBoxModel",
            "_view_count": null,
            "_view_module": "@jupyter-widgets/controls",
            "_view_module_version": "1.5.0",
            "_view_name": "HBoxView",
            "box_style": "",
            "children": [
              "IPY_MODEL_a254b9dff5aa48d98c50685b0ad4e1e8",
              "IPY_MODEL_90a9fc8c569b48a3b3590967fe94c74b"
            ],
            "layout": "IPY_MODEL_cf4edacf1eb648e6b7d7c0971b8ffe35"
          }
        },
        "854e8e09cca84a5286814e74e01d0f29": {
          "model_module": "@jupyter-widgets/base",
          "model_module_version": "1.2.0",
          "model_name": "LayoutModel",
          "state": {
            "_model_module": "@jupyter-widgets/base",
            "_model_module_version": "1.2.0",
            "_model_name": "LayoutModel",
            "_view_count": null,
            "_view_module": "@jupyter-widgets/base",
            "_view_module_version": "1.2.0",
            "_view_name": "LayoutView",
            "align_content": null,
            "align_items": null,
            "align_self": null,
            "border": null,
            "bottom": null,
            "display": null,
            "flex": null,
            "flex_flow": null,
            "grid_area": null,
            "grid_auto_columns": null,
            "grid_auto_flow": null,
            "grid_auto_rows": null,
            "grid_column": null,
            "grid_gap": null,
            "grid_row": null,
            "grid_template_areas": null,
            "grid_template_columns": null,
            "grid_template_rows": null,
            "height": null,
            "justify_content": null,
            "justify_items": null,
            "left": null,
            "margin": null,
            "max_height": null,
            "max_width": null,
            "min_height": null,
            "min_width": null,
            "object_fit": null,
            "object_position": null,
            "order": null,
            "overflow": null,
            "overflow_x": null,
            "overflow_y": null,
            "padding": null,
            "right": null,
            "top": null,
            "visibility": null,
            "width": null
          }
        },
        "88f636d589df4a35a3415bbf73f03dc8": {
          "model_module": "@jupyter-widgets/base",
          "model_module_version": "1.2.0",
          "model_name": "LayoutModel",
          "state": {
            "_model_module": "@jupyter-widgets/base",
            "_model_module_version": "1.2.0",
            "_model_name": "LayoutModel",
            "_view_count": null,
            "_view_module": "@jupyter-widgets/base",
            "_view_module_version": "1.2.0",
            "_view_name": "LayoutView",
            "align_content": null,
            "align_items": null,
            "align_self": null,
            "border": null,
            "bottom": null,
            "display": null,
            "flex": null,
            "flex_flow": null,
            "grid_area": null,
            "grid_auto_columns": null,
            "grid_auto_flow": null,
            "grid_auto_rows": null,
            "grid_column": null,
            "grid_gap": null,
            "grid_row": null,
            "grid_template_areas": null,
            "grid_template_columns": null,
            "grid_template_rows": null,
            "height": null,
            "justify_content": null,
            "justify_items": null,
            "left": null,
            "margin": null,
            "max_height": null,
            "max_width": null,
            "min_height": null,
            "min_width": null,
            "object_fit": null,
            "object_position": null,
            "order": null,
            "overflow": null,
            "overflow_x": null,
            "overflow_y": null,
            "padding": null,
            "right": null,
            "top": null,
            "visibility": null,
            "width": null
          }
        },
        "90a9fc8c569b48a3b3590967fe94c74b": {
          "model_module": "@jupyter-widgets/controls",
          "model_module_version": "1.5.0",
          "model_name": "LabelModel",
          "state": {
            "_dom_classes": [],
            "_model_module": "@jupyter-widgets/controls",
            "_model_module_version": "1.5.0",
            "_model_name": "LabelModel",
            "_view_count": null,
            "_view_module": "@jupyter-widgets/controls",
            "_view_module_version": "1.5.0",
            "_view_name": "LabelView",
            "description": "",
            "description_tooltip": null,
            "layout": "IPY_MODEL_7677a227e30447f0b57264a0a9790758",
            "placeholder": "​",
            "style": "IPY_MODEL_7c38b6d8e80841daaa0a1e5c7df3afc9",
            "value": "33892 / 33892"
          }
        },
        "96900088bba84d31aa220b67df573cdf": {
          "model_module": "@jupyter-widgets/controls",
          "model_module_version": "1.5.0",
          "model_name": "DescriptionStyleModel",
          "state": {
            "_model_module": "@jupyter-widgets/controls",
            "_model_module_version": "1.5.0",
            "_model_name": "DescriptionStyleModel",
            "_view_count": null,
            "_view_module": "@jupyter-widgets/base",
            "_view_module_version": "1.2.0",
            "_view_name": "StyleView",
            "description_width": ""
          }
        },
        "98bfabdcf8de488fb58d0238d2a8ab81": {
          "model_module": "@jupyter-widgets/base",
          "model_module_version": "1.2.0",
          "model_name": "LayoutModel",
          "state": {
            "_model_module": "@jupyter-widgets/base",
            "_model_module_version": "1.2.0",
            "_model_name": "LayoutModel",
            "_view_count": null,
            "_view_module": "@jupyter-widgets/base",
            "_view_module_version": "1.2.0",
            "_view_name": "LayoutView",
            "align_content": null,
            "align_items": null,
            "align_self": null,
            "border": null,
            "bottom": null,
            "display": null,
            "flex": null,
            "flex_flow": null,
            "grid_area": null,
            "grid_auto_columns": null,
            "grid_auto_flow": null,
            "grid_auto_rows": null,
            "grid_column": null,
            "grid_gap": null,
            "grid_row": null,
            "grid_template_areas": null,
            "grid_template_columns": null,
            "grid_template_rows": null,
            "height": null,
            "justify_content": null,
            "justify_items": null,
            "left": null,
            "margin": null,
            "max_height": null,
            "max_width": null,
            "min_height": null,
            "min_width": null,
            "object_fit": null,
            "object_position": null,
            "order": null,
            "overflow": null,
            "overflow_x": null,
            "overflow_y": null,
            "padding": null,
            "right": null,
            "top": null,
            "visibility": null,
            "width": null
          }
        },
        "9a67edf613134d51839a874f2ed4e520": {
          "model_module": "@jupyter-widgets/controls",
          "model_module_version": "1.5.0",
          "model_name": "LabelModel",
          "state": {
            "_dom_classes": [],
            "_model_module": "@jupyter-widgets/controls",
            "_model_module_version": "1.5.0",
            "_model_name": "LabelModel",
            "_view_count": null,
            "_view_module": "@jupyter-widgets/controls",
            "_view_module_version": "1.5.0",
            "_view_name": "LabelView",
            "description": "",
            "description_tooltip": null,
            "layout": "IPY_MODEL_854e8e09cca84a5286814e74e01d0f29",
            "placeholder": "​",
            "style": "IPY_MODEL_7538980d529e44b28e33975b571c9a1b",
            "value": "33891 / 33891"
          }
        },
        "a254b9dff5aa48d98c50685b0ad4e1e8": {
          "model_module": "@jupyter-widgets/controls",
          "model_module_version": "1.5.0",
          "model_name": "IntProgressModel",
          "state": {
            "_dom_classes": [],
            "_model_module": "@jupyter-widgets/controls",
            "_model_module_version": "1.5.0",
            "_model_name": "IntProgressModel",
            "_view_count": null,
            "_view_module": "@jupyter-widgets/controls",
            "_view_module_version": "1.5.0",
            "_view_name": "ProgressView",
            "bar_style": "success",
            "description": "100.00%",
            "description_tooltip": null,
            "layout": "IPY_MODEL_6cb46d74c5e14a75b0157789e5d47ec6",
            "max": 33892,
            "min": 0,
            "orientation": "horizontal",
            "style": "IPY_MODEL_235ce0eb7013460496b260de0a5e59a5",
            "value": 33892
          }
        },
        "a7fb09963a6747cd82bd08e997905601": {
          "model_module": "@jupyter-widgets/base",
          "model_module_version": "1.2.0",
          "model_name": "LayoutModel",
          "state": {
            "_model_module": "@jupyter-widgets/base",
            "_model_module_version": "1.2.0",
            "_model_name": "LayoutModel",
            "_view_count": null,
            "_view_module": "@jupyter-widgets/base",
            "_view_module_version": "1.2.0",
            "_view_name": "LayoutView",
            "align_content": null,
            "align_items": null,
            "align_self": null,
            "border": null,
            "bottom": null,
            "display": null,
            "flex": null,
            "flex_flow": null,
            "grid_area": null,
            "grid_auto_columns": null,
            "grid_auto_flow": null,
            "grid_auto_rows": null,
            "grid_column": null,
            "grid_gap": null,
            "grid_row": null,
            "grid_template_areas": null,
            "grid_template_columns": null,
            "grid_template_rows": null,
            "height": null,
            "justify_content": null,
            "justify_items": null,
            "left": null,
            "margin": null,
            "max_height": null,
            "max_width": null,
            "min_height": null,
            "min_width": null,
            "object_fit": null,
            "object_position": null,
            "order": null,
            "overflow": null,
            "overflow_x": null,
            "overflow_y": null,
            "padding": null,
            "right": null,
            "top": null,
            "visibility": null,
            "width": null
          }
        },
        "a90e3e26b08e4708b3b27d15383229f0": {
          "model_module": "@jupyter-widgets/base",
          "model_module_version": "1.2.0",
          "model_name": "LayoutModel",
          "state": {
            "_model_module": "@jupyter-widgets/base",
            "_model_module_version": "1.2.0",
            "_model_name": "LayoutModel",
            "_view_count": null,
            "_view_module": "@jupyter-widgets/base",
            "_view_module_version": "1.2.0",
            "_view_name": "LayoutView",
            "align_content": null,
            "align_items": null,
            "align_self": null,
            "border": null,
            "bottom": null,
            "display": null,
            "flex": null,
            "flex_flow": null,
            "grid_area": null,
            "grid_auto_columns": null,
            "grid_auto_flow": null,
            "grid_auto_rows": null,
            "grid_column": null,
            "grid_gap": null,
            "grid_row": null,
            "grid_template_areas": null,
            "grid_template_columns": null,
            "grid_template_rows": null,
            "height": null,
            "justify_content": null,
            "justify_items": null,
            "left": null,
            "margin": null,
            "max_height": null,
            "max_width": null,
            "min_height": null,
            "min_width": null,
            "object_fit": null,
            "object_position": null,
            "order": null,
            "overflow": null,
            "overflow_x": null,
            "overflow_y": null,
            "padding": null,
            "right": null,
            "top": null,
            "visibility": null,
            "width": null
          }
        },
        "abd24d96e71f4569ab126ec0c6022473": {
          "model_module": "@jupyter-widgets/controls",
          "model_module_version": "1.5.0",
          "model_name": "DescriptionStyleModel",
          "state": {
            "_model_module": "@jupyter-widgets/controls",
            "_model_module_version": "1.5.0",
            "_model_name": "DescriptionStyleModel",
            "_view_count": null,
            "_view_module": "@jupyter-widgets/base",
            "_view_module_version": "1.2.0",
            "_view_name": "StyleView",
            "description_width": ""
          }
        },
        "af1bd89898f6451abeda3abac06e1e29": {
          "model_module": "@jupyter-widgets/controls",
          "model_module_version": "1.5.0",
          "model_name": "LabelModel",
          "state": {
            "_dom_classes": [],
            "_model_module": "@jupyter-widgets/controls",
            "_model_module_version": "1.5.0",
            "_model_name": "LabelModel",
            "_view_count": null,
            "_view_module": "@jupyter-widgets/controls",
            "_view_module_version": "1.5.0",
            "_view_name": "LabelView",
            "description": "",
            "description_tooltip": null,
            "layout": "IPY_MODEL_5dcb3b79543a4469b6aaa46b9b3eef93",
            "placeholder": "​",
            "style": "IPY_MODEL_494863b49ef340b7b7402d788b3e6bce",
            "value": "33892 / 33892"
          }
        },
        "b5845d6154754657a9236b544ac200f5": {
          "model_module": "@jupyter-widgets/base",
          "model_module_version": "1.2.0",
          "model_name": "LayoutModel",
          "state": {
            "_model_module": "@jupyter-widgets/base",
            "_model_module_version": "1.2.0",
            "_model_name": "LayoutModel",
            "_view_count": null,
            "_view_module": "@jupyter-widgets/base",
            "_view_module_version": "1.2.0",
            "_view_name": "LayoutView",
            "align_content": null,
            "align_items": null,
            "align_self": null,
            "border": null,
            "bottom": null,
            "display": null,
            "flex": null,
            "flex_flow": null,
            "grid_area": null,
            "grid_auto_columns": null,
            "grid_auto_flow": null,
            "grid_auto_rows": null,
            "grid_column": null,
            "grid_gap": null,
            "grid_row": null,
            "grid_template_areas": null,
            "grid_template_columns": null,
            "grid_template_rows": null,
            "height": null,
            "justify_content": null,
            "justify_items": null,
            "left": null,
            "margin": null,
            "max_height": null,
            "max_width": null,
            "min_height": null,
            "min_width": null,
            "object_fit": null,
            "object_position": null,
            "order": null,
            "overflow": null,
            "overflow_x": null,
            "overflow_y": null,
            "padding": null,
            "right": null,
            "top": null,
            "visibility": null,
            "width": null
          }
        },
        "bf7a3899c0624c85aa729b1241f197a9": {
          "model_module": "@jupyter-widgets/controls",
          "model_module_version": "1.5.0",
          "model_name": "HBoxModel",
          "state": {
            "_dom_classes": [],
            "_model_module": "@jupyter-widgets/controls",
            "_model_module_version": "1.5.0",
            "_model_name": "HBoxModel",
            "_view_count": null,
            "_view_module": "@jupyter-widgets/controls",
            "_view_module_version": "1.5.0",
            "_view_name": "HBoxView",
            "box_style": "",
            "children": [
              "IPY_MODEL_1964622073304975938da820551fd302",
              "IPY_MODEL_dff57928daec4155936567147fa80b96"
            ],
            "layout": "IPY_MODEL_1666a54a095f42cb94ce7503249c3a9a"
          }
        },
        "c25c35b4308b4a24aedc17a9283fab6d": {
          "model_module": "@jupyter-widgets/base",
          "model_module_version": "1.2.0",
          "model_name": "LayoutModel",
          "state": {
            "_model_module": "@jupyter-widgets/base",
            "_model_module_version": "1.2.0",
            "_model_name": "LayoutModel",
            "_view_count": null,
            "_view_module": "@jupyter-widgets/base",
            "_view_module_version": "1.2.0",
            "_view_name": "LayoutView",
            "align_content": null,
            "align_items": null,
            "align_self": null,
            "border": null,
            "bottom": null,
            "display": null,
            "flex": null,
            "flex_flow": null,
            "grid_area": null,
            "grid_auto_columns": null,
            "grid_auto_flow": null,
            "grid_auto_rows": null,
            "grid_column": null,
            "grid_gap": null,
            "grid_row": null,
            "grid_template_areas": null,
            "grid_template_columns": null,
            "grid_template_rows": null,
            "height": null,
            "justify_content": null,
            "justify_items": null,
            "left": null,
            "margin": null,
            "max_height": null,
            "max_width": null,
            "min_height": null,
            "min_width": null,
            "object_fit": null,
            "object_position": null,
            "order": null,
            "overflow": null,
            "overflow_x": null,
            "overflow_y": null,
            "padding": null,
            "right": null,
            "top": null,
            "visibility": null,
            "width": null
          }
        },
        "c5b4b19df6d9436fb0534ed07de46a97": {
          "model_module": "@jupyter-widgets/controls",
          "model_module_version": "1.5.0",
          "model_name": "IntProgressModel",
          "state": {
            "_dom_classes": [],
            "_model_module": "@jupyter-widgets/controls",
            "_model_module_version": "1.5.0",
            "_model_name": "IntProgressModel",
            "_view_count": null,
            "_view_module": "@jupyter-widgets/controls",
            "_view_module_version": "1.5.0",
            "_view_name": "ProgressView",
            "bar_style": "success",
            "description": "100.00%",
            "description_tooltip": null,
            "layout": "IPY_MODEL_244c4f4d642046dbb9604b2ba54e4483",
            "max": 33892,
            "min": 0,
            "orientation": "horizontal",
            "style": "IPY_MODEL_3b36cbf1ee634d1ab77f8a1c86b68f74",
            "value": 33892
          }
        },
        "cc0656cee86a4dde876aeb88936df456": {
          "model_module": "@jupyter-widgets/controls",
          "model_module_version": "1.5.0",
          "model_name": "LabelModel",
          "state": {
            "_dom_classes": [],
            "_model_module": "@jupyter-widgets/controls",
            "_model_module_version": "1.5.0",
            "_model_name": "LabelModel",
            "_view_count": null,
            "_view_module": "@jupyter-widgets/controls",
            "_view_module_version": "1.5.0",
            "_view_name": "LabelView",
            "description": "",
            "description_tooltip": null,
            "layout": "IPY_MODEL_234740467ea44b8eae8e299b8a5f2d7f",
            "placeholder": "​",
            "style": "IPY_MODEL_abd24d96e71f4569ab126ec0c6022473",
            "value": "33892 / 33892"
          }
        },
        "cd35abaa0e354cb4a0b8b9b477e3c6d8": {
          "model_module": "@jupyter-widgets/controls",
          "model_module_version": "1.5.0",
          "model_name": "HBoxModel",
          "state": {
            "_dom_classes": [],
            "_model_module": "@jupyter-widgets/controls",
            "_model_module_version": "1.5.0",
            "_model_name": "HBoxModel",
            "_view_count": null,
            "_view_module": "@jupyter-widgets/controls",
            "_view_module_version": "1.5.0",
            "_view_name": "HBoxView",
            "box_style": "",
            "children": [
              "IPY_MODEL_2abb948b7411467992726bc4dfbf4d48",
              "IPY_MODEL_9a67edf613134d51839a874f2ed4e520"
            ],
            "layout": "IPY_MODEL_666d55476764446899accce02355a8ad"
          }
        },
        "cf4edacf1eb648e6b7d7c0971b8ffe35": {
          "model_module": "@jupyter-widgets/base",
          "model_module_version": "1.2.0",
          "model_name": "LayoutModel",
          "state": {
            "_model_module": "@jupyter-widgets/base",
            "_model_module_version": "1.2.0",
            "_model_name": "LayoutModel",
            "_view_count": null,
            "_view_module": "@jupyter-widgets/base",
            "_view_module_version": "1.2.0",
            "_view_name": "LayoutView",
            "align_content": null,
            "align_items": null,
            "align_self": null,
            "border": null,
            "bottom": null,
            "display": null,
            "flex": null,
            "flex_flow": null,
            "grid_area": null,
            "grid_auto_columns": null,
            "grid_auto_flow": null,
            "grid_auto_rows": null,
            "grid_column": null,
            "grid_gap": null,
            "grid_row": null,
            "grid_template_areas": null,
            "grid_template_columns": null,
            "grid_template_rows": null,
            "height": null,
            "justify_content": null,
            "justify_items": null,
            "left": null,
            "margin": null,
            "max_height": null,
            "max_width": null,
            "min_height": null,
            "min_width": null,
            "object_fit": null,
            "object_position": null,
            "order": null,
            "overflow": null,
            "overflow_x": null,
            "overflow_y": null,
            "padding": null,
            "right": null,
            "top": null,
            "visibility": null,
            "width": null
          }
        },
        "d667990362fa4f34ba0a7d2a82dd6f0c": {
          "model_module": "@jupyter-widgets/base",
          "model_module_version": "1.2.0",
          "model_name": "LayoutModel",
          "state": {
            "_model_module": "@jupyter-widgets/base",
            "_model_module_version": "1.2.0",
            "_model_name": "LayoutModel",
            "_view_count": null,
            "_view_module": "@jupyter-widgets/base",
            "_view_module_version": "1.2.0",
            "_view_name": "LayoutView",
            "align_content": null,
            "align_items": null,
            "align_self": null,
            "border": null,
            "bottom": null,
            "display": null,
            "flex": null,
            "flex_flow": null,
            "grid_area": null,
            "grid_auto_columns": null,
            "grid_auto_flow": null,
            "grid_auto_rows": null,
            "grid_column": null,
            "grid_gap": null,
            "grid_row": null,
            "grid_template_areas": null,
            "grid_template_columns": null,
            "grid_template_rows": null,
            "height": null,
            "justify_content": null,
            "justify_items": null,
            "left": null,
            "margin": null,
            "max_height": null,
            "max_width": null,
            "min_height": null,
            "min_width": null,
            "object_fit": null,
            "object_position": null,
            "order": null,
            "overflow": null,
            "overflow_x": null,
            "overflow_y": null,
            "padding": null,
            "right": null,
            "top": null,
            "visibility": null,
            "width": null
          }
        },
        "d92d68832cb84a1b9459580e21977f16": {
          "model_module": "@jupyter-widgets/base",
          "model_module_version": "1.2.0",
          "model_name": "LayoutModel",
          "state": {
            "_model_module": "@jupyter-widgets/base",
            "_model_module_version": "1.2.0",
            "_model_name": "LayoutModel",
            "_view_count": null,
            "_view_module": "@jupyter-widgets/base",
            "_view_module_version": "1.2.0",
            "_view_name": "LayoutView",
            "align_content": null,
            "align_items": null,
            "align_self": null,
            "border": null,
            "bottom": null,
            "display": null,
            "flex": null,
            "flex_flow": null,
            "grid_area": null,
            "grid_auto_columns": null,
            "grid_auto_flow": null,
            "grid_auto_rows": null,
            "grid_column": null,
            "grid_gap": null,
            "grid_row": null,
            "grid_template_areas": null,
            "grid_template_columns": null,
            "grid_template_rows": null,
            "height": null,
            "justify_content": null,
            "justify_items": null,
            "left": null,
            "margin": null,
            "max_height": null,
            "max_width": null,
            "min_height": null,
            "min_width": null,
            "object_fit": null,
            "object_position": null,
            "order": null,
            "overflow": null,
            "overflow_x": null,
            "overflow_y": null,
            "padding": null,
            "right": null,
            "top": null,
            "visibility": null,
            "width": null
          }
        },
        "da5844a907454ede8af9a1df040de33e": {
          "model_module": "@jupyter-widgets/controls",
          "model_module_version": "1.5.0",
          "model_name": "ProgressStyleModel",
          "state": {
            "_model_module": "@jupyter-widgets/controls",
            "_model_module_version": "1.5.0",
            "_model_name": "ProgressStyleModel",
            "_view_count": null,
            "_view_module": "@jupyter-widgets/base",
            "_view_module_version": "1.2.0",
            "_view_name": "StyleView",
            "bar_color": null,
            "description_width": ""
          }
        },
        "dab4e9cc3549481b987204eaadb8bf4d": {
          "model_module": "@jupyter-widgets/controls",
          "model_module_version": "1.5.0",
          "model_name": "IntProgressModel",
          "state": {
            "_dom_classes": [],
            "_model_module": "@jupyter-widgets/controls",
            "_model_module_version": "1.5.0",
            "_model_name": "IntProgressModel",
            "_view_count": null,
            "_view_module": "@jupyter-widgets/controls",
            "_view_module_version": "1.5.0",
            "_view_name": "ProgressView",
            "bar_style": "success",
            "description": "100.00%",
            "description_tooltip": null,
            "layout": "IPY_MODEL_01da011baa2f48b3b372efdffd946be9",
            "max": 33892,
            "min": 0,
            "orientation": "horizontal",
            "style": "IPY_MODEL_f676ae93f77c4d0c9b08777bb32ba24b",
            "value": 33892
          }
        },
        "dff57928daec4155936567147fa80b96": {
          "model_module": "@jupyter-widgets/controls",
          "model_module_version": "1.5.0",
          "model_name": "LabelModel",
          "state": {
            "_dom_classes": [],
            "_model_module": "@jupyter-widgets/controls",
            "_model_module_version": "1.5.0",
            "_model_name": "LabelModel",
            "_view_count": null,
            "_view_module": "@jupyter-widgets/controls",
            "_view_module_version": "1.5.0",
            "_view_name": "LabelView",
            "description": "",
            "description_tooltip": null,
            "layout": "IPY_MODEL_e83b403d30ae40dcb37cc319ccfa37d5",
            "placeholder": "​",
            "style": "IPY_MODEL_1bfb89394af242d88f01001f98d32c21",
            "value": "33892 / 33892"
          }
        },
        "e10d0a4329614c1aa7cb491f2180a2db": {
          "model_module": "@jupyter-widgets/controls",
          "model_module_version": "1.5.0",
          "model_name": "DescriptionStyleModel",
          "state": {
            "_model_module": "@jupyter-widgets/controls",
            "_model_module_version": "1.5.0",
            "_model_name": "DescriptionStyleModel",
            "_view_count": null,
            "_view_module": "@jupyter-widgets/base",
            "_view_module_version": "1.2.0",
            "_view_name": "StyleView",
            "description_width": ""
          }
        },
        "e71c1581db9c413aad0d7e70c65103cd": {
          "model_module": "@jupyter-widgets/controls",
          "model_module_version": "1.5.0",
          "model_name": "VBoxModel",
          "state": {
            "_dom_classes": [],
            "_model_module": "@jupyter-widgets/controls",
            "_model_module_version": "1.5.0",
            "_model_name": "VBoxModel",
            "_view_count": null,
            "_view_module": "@jupyter-widgets/controls",
            "_view_module_version": "1.5.0",
            "_view_name": "VBoxView",
            "box_style": "",
            "children": [
              "IPY_MODEL_bf7a3899c0624c85aa729b1241f197a9",
              "IPY_MODEL_09f18b580e1641ab84fe0c7262821671",
              "IPY_MODEL_845452ca6aa0479a9f31b869dfbb1396",
              "IPY_MODEL_282bd2fb65f045b99e54f4b6e41ea097"
            ],
            "layout": "IPY_MODEL_b5845d6154754657a9236b544ac200f5"
          }
        },
        "e83b403d30ae40dcb37cc319ccfa37d5": {
          "model_module": "@jupyter-widgets/base",
          "model_module_version": "1.2.0",
          "model_name": "LayoutModel",
          "state": {
            "_model_module": "@jupyter-widgets/base",
            "_model_module_version": "1.2.0",
            "_model_name": "LayoutModel",
            "_view_count": null,
            "_view_module": "@jupyter-widgets/base",
            "_view_module_version": "1.2.0",
            "_view_name": "LayoutView",
            "align_content": null,
            "align_items": null,
            "align_self": null,
            "border": null,
            "bottom": null,
            "display": null,
            "flex": null,
            "flex_flow": null,
            "grid_area": null,
            "grid_auto_columns": null,
            "grid_auto_flow": null,
            "grid_auto_rows": null,
            "grid_column": null,
            "grid_gap": null,
            "grid_row": null,
            "grid_template_areas": null,
            "grid_template_columns": null,
            "grid_template_rows": null,
            "height": null,
            "justify_content": null,
            "justify_items": null,
            "left": null,
            "margin": null,
            "max_height": null,
            "max_width": null,
            "min_height": null,
            "min_width": null,
            "object_fit": null,
            "object_position": null,
            "order": null,
            "overflow": null,
            "overflow_x": null,
            "overflow_y": null,
            "padding": null,
            "right": null,
            "top": null,
            "visibility": null,
            "width": null
          }
        },
        "eb52ac59ca3b463e8330e229e1a3d264": {
          "model_module": "@jupyter-widgets/controls",
          "model_module_version": "1.5.0",
          "model_name": "HBoxModel",
          "state": {
            "_dom_classes": [],
            "_model_module": "@jupyter-widgets/controls",
            "_model_module_version": "1.5.0",
            "_model_name": "HBoxModel",
            "_view_count": null,
            "_view_module": "@jupyter-widgets/controls",
            "_view_module_version": "1.5.0",
            "_view_name": "HBoxView",
            "box_style": "",
            "children": [
              "IPY_MODEL_c5b4b19df6d9436fb0534ed07de46a97",
              "IPY_MODEL_cc0656cee86a4dde876aeb88936df456"
            ],
            "layout": "IPY_MODEL_5b1d9ff370004b469582876d5555fd4e"
          }
        },
        "f4ce35e0236248529280aa6e0f0e9670": {
          "model_module": "@jupyter-widgets/controls",
          "model_module_version": "1.5.0",
          "model_name": "VBoxModel",
          "state": {
            "_dom_classes": [],
            "_model_module": "@jupyter-widgets/controls",
            "_model_module_version": "1.5.0",
            "_model_name": "VBoxModel",
            "_view_count": null,
            "_view_module": "@jupyter-widgets/controls",
            "_view_module_version": "1.5.0",
            "_view_name": "VBoxView",
            "box_style": "",
            "children": [
              "IPY_MODEL_30e9a017efc14d67ab140e3e752aa542",
              "IPY_MODEL_73ffad8a562642a5a134123bbc2ce89a",
              "IPY_MODEL_eb52ac59ca3b463e8330e229e1a3d264",
              "IPY_MODEL_cd35abaa0e354cb4a0b8b9b477e3c6d8"
            ],
            "layout": "IPY_MODEL_8007ee04577849249b9f38cb7ea51f76"
          }
        },
        "f676ae93f77c4d0c9b08777bb32ba24b": {
          "model_module": "@jupyter-widgets/controls",
          "model_module_version": "1.5.0",
          "model_name": "ProgressStyleModel",
          "state": {
            "_model_module": "@jupyter-widgets/controls",
            "_model_module_version": "1.5.0",
            "_model_name": "ProgressStyleModel",
            "_view_count": null,
            "_view_module": "@jupyter-widgets/base",
            "_view_module_version": "1.2.0",
            "_view_name": "StyleView",
            "bar_color": null,
            "description_width": ""
          }
        },
        "f676c31f526a4ad4ac240167052c4816": {
          "model_module": "@jupyter-widgets/controls",
          "model_module_version": "1.5.0",
          "model_name": "ProgressStyleModel",
          "state": {
            "_model_module": "@jupyter-widgets/controls",
            "_model_module_version": "1.5.0",
            "_model_name": "ProgressStyleModel",
            "_view_count": null,
            "_view_module": "@jupyter-widgets/base",
            "_view_module_version": "1.2.0",
            "_view_name": "StyleView",
            "bar_color": null,
            "description_width": ""
          }
        },
        "f69277ca2cbf409983610e105d72c59e": {
          "model_module": "@jupyter-widgets/controls",
          "model_module_version": "1.5.0",
          "model_name": "ProgressStyleModel",
          "state": {
            "_model_module": "@jupyter-widgets/controls",
            "_model_module_version": "1.5.0",
            "_model_name": "ProgressStyleModel",
            "_view_count": null,
            "_view_module": "@jupyter-widgets/base",
            "_view_module_version": "1.2.0",
            "_view_name": "StyleView",
            "bar_color": null,
            "description_width": ""
          }
        },
        "fe00984853444250afd478b8fe871c28": {
          "model_module": "@jupyter-widgets/base",
          "model_module_version": "1.2.0",
          "model_name": "LayoutModel",
          "state": {
            "_model_module": "@jupyter-widgets/base",
            "_model_module_version": "1.2.0",
            "_model_name": "LayoutModel",
            "_view_count": null,
            "_view_module": "@jupyter-widgets/base",
            "_view_module_version": "1.2.0",
            "_view_name": "LayoutView",
            "align_content": null,
            "align_items": null,
            "align_self": null,
            "border": null,
            "bottom": null,
            "display": null,
            "flex": null,
            "flex_flow": null,
            "grid_area": null,
            "grid_auto_columns": null,
            "grid_auto_flow": null,
            "grid_auto_rows": null,
            "grid_column": null,
            "grid_gap": null,
            "grid_row": null,
            "grid_template_areas": null,
            "grid_template_columns": null,
            "grid_template_rows": null,
            "height": null,
            "justify_content": null,
            "justify_items": null,
            "left": null,
            "margin": null,
            "max_height": null,
            "max_width": null,
            "min_height": null,
            "min_width": null,
            "object_fit": null,
            "object_position": null,
            "order": null,
            "overflow": null,
            "overflow_x": null,
            "overflow_y": null,
            "padding": null,
            "right": null,
            "top": null,
            "visibility": null,
            "width": null
          }
        }
      }
    }
  },
  "nbformat": 4,
  "nbformat_minor": 0
}
